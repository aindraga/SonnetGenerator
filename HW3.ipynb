{
 "cells": [
  {
   "cell_type": "code",
   "execution_count": 1,
   "id": "4ce91b44",
   "metadata": {},
   "outputs": [],
   "source": [
    "import torch\n",
    "import torch.nn as nn\n",
    "import nltk.tokenize\n",
    "import numpy as np"
   ]
  },
  {
   "cell_type": "code",
   "execution_count": 2,
   "id": "713eaf71",
   "metadata": {},
   "outputs": [
    {
     "data": {
      "text/plain": [
       "device(type='cpu')"
      ]
     },
     "execution_count": 2,
     "metadata": {},
     "output_type": "execute_result"
    }
   ],
   "source": [
    "device = torch.device(\"cuda\" if torch.cuda.is_available() else \"cpu\")\n",
    "device"
   ]
  },
  {
   "cell_type": "markdown",
   "id": "d13b25fe",
   "metadata": {},
   "source": [
    "# Pre-processing"
   ]
  },
  {
   "cell_type": "code",
   "execution_count": 3,
   "id": "f5fc9f5e",
   "metadata": {},
   "outputs": [
    {
     "data": {
      "text/plain": [
       "\"from fairest creatures we desire increase,\\nthat thereby beauty's rose might never die,\\nbut as the riper should by time decease,\\nhis tender heir might bear his memory:\\nbut thou contracted to thine own bright eyes,\\nfeed'st thy light's flame with self-substantial fuel,\\nmaking a famine where abundance lies,\\nthy self thy foe, to thy sweet self too cruel:\\nthou that art now the world's fresh ornament,\\nand only herald to the gaudy spring,\\nwithin thine own bud buriest thy content,\\nand tender churl mak'st waste in niggarding:\\npity the world, or else this glutton be,\\nto eat the world's due, by the grave and thee.\\nwhen forty winters shall besiege thy brow,\\nand dig deep trenches in thy beauty's field,\\nthy youth's proud livery so gazed on now,\\nwill be a tattered weed of small worth held:\\nthen being asked, where all thy beauty lies,\\nwhere all the treasure of thy lusty days;\\nto say within thine own deep sunken eyes,\\nwere an all-eating shame, and thriftless praise.\\nhow much more praise deserved thy beauty's use,\\nif thou couldst answer 'this fair child of mine\\nshall sum my count, and make my old excuse'\\nproving his beauty by succession thine.\\nthis were to be new made when thou art old,\\nand see thy blood warm when thou feel'st it cold.\\nlook in thy glass and tell the face thou viewest,\\nnow is the time that face should form another,\\nwhose fresh repair if now thou not renewest,\\nthou dost beguile the world, unbless some mother.\\nfor where is she so fair whose uneared womb\\ndisdains the tillage of thy husbandry?\\nor who is he so fond will be the tomb,\\nof his self-love to stop posterity?\\nthou art thy mother's glass and she in thee\\ncalls back the lovely april of her prime,\\nso thou through windows of thine age shalt see,\\ndespite of wrinkles this thy golden time.\\nbut if thou live remembered not to be,\\ndie single and thine image dies with thee.\\nunthrifty loveliness why dost thou spend,\\nupon thy self thy beauty's legacy?\\nnature's bequest gives nothing but doth lend,\\nand being frank she lends to those are free:\\nthen beauteous niggard why dost thou abuse,\\nthe bounteous largess given thee to give?\\nprofitless usurer why dost thou use\\nso great a sum of sums yet canst not live?\\nfor having traffic with thy self alone,\\nthou of thy self thy sweet self dost deceive,\\nthen how when nature calls thee to be gone,\\nwhat acceptable audit canst thou leave?\\nthy unused beauty must be tombed with thee,\\nwhich used lives th' executor to be.\\nthose hours that with gentle work did frame\\nthe lovely gaze where every eye doth dwell\\nwill play the tyrants to the very same,\\nand that unfair which fairly doth excel:\\nfor never-resting time leads summer on\\nto hideous winter and confounds him there,\\nsap checked with frost and lusty leaves quite gone,\\nbeauty o'er-snowed and bareness every where:\\nthen were not summer's distillation left\\na liquid prisoner pent in walls of glass,\\nbeauty's effect with beauty were bereft,\\nnor it nor no remembrance what it was.\\nbut flowers distilled though they with winter meet,\\nleese but their show, their substance still lives sweet.\\nthen let not winter's ragged hand deface,\\nin thee thy summer ere thou be distilled:\\nmake sweet some vial; treasure thou some place,\\nwith beauty's treasure ere it be self-killed:\\nthat use is not forbidden usury,\\nwhich happies those that pay the willing loan;\\nthat's for thy self to breed another thee,\\nor ten times happier be it ten for one,\\nten times thy self were happier than thou art,\\nif ten of thine ten times refigured thee:\\nthen what could death do if thou shouldst depart,\\nleaving thee living in posterity?\\nbe not self-willed for thou art much too fair,\\nto be death's conquest and make worms thine heir.\\nlo in the orient when the gracious light\\nlifts up his burning head, each under eye\\ndoth homage to his new-appearing sight,\\nserving with looks his sacred majesty,\\nand having climbed the steep-up heavenly hill,\\nresembling strong youth in his middle age,\\nyet mortal looks adore his beauty still,\\nattending on his golden pilgrimage:\\nbut when from highmost pitch with weary car,\\nlike feeble age he reeleth from the day,\\nthe eyes (fore duteous) now converted are\\nfrom his low tract and look another way:\\nso thou, thy self out-going in thy noon:\\nunlooked on diest unless thou get a son.\\nmusic to hear, why hear'st thou music sadly?\\nsweets with sweets war not, joy delights in joy:\\nwhy lov'st thou that which thou receiv'st not gladly,\\nor else receiv'st with pleasure thine annoy?\\nif the true concord of well-tuned sounds,\\nby unions married do offend thine ear,\\nthey do but sweetly chide thee, who confounds\\nin singleness the parts that thou shouldst bear:\\nmark how one string sweet husband to another,\\nstrikes each in each by mutual ordering;\\nresembling sire, and child, and happy mother,\\nwho all in one, one pleasing note do sing:\\nwhose speechless song being many, seeming one,\\nsings this to thee, 'thou single wilt prove none'.\\nis it for fear to wet a widow's eye,\\nthat thou consum'st thy self in single life?\\nah, if thou issueless shalt hap to die,\\nthe world will wail thee like a makeless wife,\\nthe world will be thy widow and still weep,\\nthat thou no form of thee hast left behind,\\nwhen every private widow well may keep,\\nby children's eyes, her husband's shape in mind:\\nlook what an unthrift in the world doth spend\\nshifts but his place, for still the world enjoys it;\\nbut beauty's waste hath in the world an end,\\nand kept unused the user so destroys it:\\nno love toward others in that bosom sits\\nthat on himself such murd'rous shame commits.\\nfor shame deny that thou bear'st love to any\\nwho for thy self art so unprovident.\\ngrant if thou wilt, thou art beloved of many,\\nbut that thou none lov'st is most evident:\\nfor thou art so possessed with murd'rous hate,\\nthat 'gainst thy self thou stick'st not to conspire,\\nseeking that beauteous roof to ruinate\\nwhich to repair should be thy chief desire:\\no change thy thought, that i may change my mind,\\nshall hate be fairer lodged than gentle love?\\nbe as thy presence is gracious and kind,\\nor to thy self at least kind-hearted prove,\\nmake thee another self for love of me,\\nthat beauty still may live in thine or thee.\\nas fast as thou shalt wane so fast thou grow'st,\\nin one of thine, from that which thou departest,\\nand that fresh blood which youngly thou bestow'st,\\nthou mayst call thine, when thou from youth convertest,\\nherein lives wisdom, beauty, and increase,\\nwithout this folly, age, and cold decay,\\nif all were minded so, the times should cease,\\nand threescore year would make the world away:\\nlet those whom nature hath not made for store,\\nharsh, featureless, and rude, barrenly perish:\\nlook whom she best endowed, she gave thee more;\\nwhich bounteous gift thou shouldst in bounty cherish:\\nshe carved thee for her seal, and meant thereby,\\nthou shouldst print more, not let that copy die.\\nwhen i do count the clock that tells the time,\\nand see the brave day sunk in hideous night,\\nwhen i behold the violet past prime,\\nand sable curls all silvered o'er with white:\\nwhen lofty trees i see barren of leaves,\\nwhich erst from heat did canopy the herd\\nand summer's green all girded up in sheaves\\nborne on the bier with white and bristly beard:\\nthen of thy beauty do i question make\\nthat thou among the wastes of time must go,\\nsince sweets and beauties do themselves forsake,\\nand die as fast as they see others grow,\\nand nothing 'gainst time's scythe can make defence\\nsave breed to brave him, when he takes thee hence.\\no that you were your self, but love you are\\nno longer yours, than you your self here live,\\nagainst this coming end you should prepare,\\nand your sweet semblance to some other give.\\nso should that beauty which you hold in lease\\nfind no determination, then you were\\nyour self again after your self's decease,\\nwhen your sweet issue your sweet form should bear.\\nwho lets so fair a house fall to decay,\\nwhich husbandry in honour might uphold,\\nagainst the stormy gusts of winter's day\\nand barren rage of death's eternal cold?\\no none but unthrifts, dear my love you know,\\nyou had a father, let your son say so.\\nnot from the stars do i my judgement pluck,\\nand yet methinks i have astronomy,\\nbut not to tell of good, or evil luck,\\nof plagues, of dearths, or seasons' quality,\\nnor can i fortune to brief minutes tell;\\npointing to each his thunder, rain and wind,\\nor say with princes if it shall go well\\nby oft predict that i in heaven find.\\nbut from thine eyes my knowledge i derive,\\nand constant stars in them i read such art\\nas truth and beauty shall together thrive\\nif from thy self, to store thou wouldst convert:\\nor else of thee this i prognosticate,\\nthy end is truth's and beauty's doom and date.\\nwhen i consider every thing that grows\\nholds in perfection but a little moment.\\nthat this huge stage presenteth nought but shows\\nwhereon the stars in secret influence comment.\\nwhen i perceive that men as plants increase,\\ncheered and checked even by the self-same sky:\\nvaunt in their youthful sap, at height decrease,\\nand wear their brave state out of memory.\\nthen the conceit of this inconstant stay,\\nsets you most rich in youth before my sight,\\nwhere wasteful time debateth with decay\\nto change your day of youth to sullied night,\\nand all in war with time for love of you,\\nas he takes from you, i engraft you new.\\nbut wherefore do not you a mightier way\\nmake war upon this bloody tyrant time?\\nand fortify your self in your decay\\nwith means more blessed than my barren rhyme?\\nnow stand you on the top of happy hours,\\nand many maiden gardens yet unset,\\nwith virtuous wish would bear you living flowers,\\nmuch liker than your painted counterfeit:\\nso should the lines of life that life repair\\nwhich this (time's pencil) or my pupil pen\\nneither in inward worth nor outward fair\\ncan make you live your self in eyes of men.\\nto give away your self, keeps your self still,\\nand you must live drawn by your own sweet skill.\\nwho will believe my verse in time to come\\nif it were filled with your most high deserts?\\nthough yet heaven knows it is but as a tomb\\nwhich hides your life, and shows not half your parts:\\nif i could write the beauty of your eyes,\\nand in fresh numbers number all your graces,\\nthe age to come would say this poet lies,\\nsuch heavenly touches ne'er touched earthly faces.\\nso should my papers (yellowed with their age)\\nbe scorned, like old men of less truth than tongue,\\nand your true rights be termed a poet's rage,\\nand stretched metre of an antique song.\\nbut were some child of yours alive that time,\\nyou should live twice in it, and in my rhyme.\\nshall i compare thee to a summer's day?\\nthou art more lovely and more temperate:\\nrough winds do shake the darling buds of may,\\nand summer's lease hath all too short a date:\\nsometime too hot the eye of heaven shines,\\nand often is his gold complexion dimmed,\\nand every fair from fair sometime declines,\\nby chance, or nature's changing course untrimmed:\\nbut thy eternal summer shall not fade,\\nnor lose possession of that fair thou ow'st,\\nnor shall death brag thou wand'rest in his shade,\\nwhen in eternal lines to time thou grow'st,\\nso long as men can breathe or eyes can see,\\nso long lives this, and this gives life to thee.\\ndevouring time blunt thou the lion's paws,\\nand make the earth devour her own sweet brood,\\npluck the keen teeth from the fierce tiger's jaws,\\nand burn the long-lived phoenix, in her blood,\\nmake glad and sorry seasons as thou fleet'st,\\nand do whate'er thou wilt swift-footed time\\nto the wide world and all her fading sweets:\\nbut i forbid thee one most heinous crime,\\no carve not with thy hours my love's fair brow,\\nnor draw no lines there with thine antique pen,\\nhim in thy course untainted do allow,\\nfor beauty's pattern to succeeding men.\\nyet do thy worst old time: despite thy wrong,\\nmy love shall in my verse ever live young.\\na woman's face with nature's own hand painted,\\nhast thou the master mistress of my passion,\\na woman's gentle heart but not acquainted\\nwith shifting change as is false women's fashion,\\nan eye more bright than theirs, less false in rolling:\\ngilding the object whereupon it gazeth,\\na man in hue all hues in his controlling,\\nwhich steals men's eyes and women's souls amazeth.\\nand for a woman wert thou first created,\\ntill nature as she wrought thee fell a-doting,\\nand by addition me of thee defeated,\\nby adding one thing to my purpose nothing.\\nbut since she pricked thee out for women's pleasure,\\nmine be thy love and thy love's use their treasure.\\nso is it not with me as with that muse,\\nstirred by a painted beauty to his verse,\\nwho heaven it self for ornament doth use,\\nand every fair with his fair doth rehearse,\\nmaking a couplement of proud compare\\nwith sun and moon, with earth and sea's rich gems:\\nwith april's first-born flowers and all things rare,\\nthat heaven's air in this huge rondure hems.\\no let me true in love but truly write,\\nand then believe me, my love is as fair,\\nas any mother's child, though not so bright\\nas those gold candles fixed in heaven's air:\\nlet them say more that like of hearsay well,\\ni will not praise that purpose not to sell.\\nmy glass shall not persuade me i am old,\\nso long as youth and thou are of one date,\\nbut when in thee time's furrows i behold,\\nthen look i death my days should expiate.\\nfor all that beauty that doth cover thee,\\nis but the seemly raiment of my heart,\\nwhich in thy breast doth live, as thine in me,\\nhow can i then be elder than thou art?\\no therefore love be of thyself so wary,\\nas i not for my self, but for thee will,\\nbearing thy heart which i will keep so chary\\nas tender nurse her babe from faring ill.\\npresume not on thy heart when mine is slain,\\nthou gav'st me thine not to give back again.\\nas an unperfect actor on the stage,\\nwho with his fear is put beside his part,\\nor some fierce thing replete with too much rage,\\nwhose strength's abundance weakens his own heart;\\nso i for fear of trust, forget to say,\\nthe perfect ceremony of love's rite,\\nand in mine own love's strength seem to decay,\\no'ercharged with burthen of mine own love's might:\\no let my looks be then the eloquence,\\nand dumb presagers of my speaking breast,\\nwho plead for love, and look for recompense,\\nmore than that tongue that more hath more expressed.\\no learn to read what silent love hath writ,\\nto hear with eyes belongs to love's fine wit.\\nmine eye hath played the painter and hath stelled,\\nthy beauty's form in table of my heart,\\nmy body is the frame wherein 'tis held,\\nand perspective it is best painter's art.\\nfor through the painter must you see his skill,\\nto find where your true image pictured lies,\\nwhich in my bosom's shop is hanging still,\\nthat hath his windows glazed with thine eyes:\\nnow see what good turns eyes for eyes have done,\\nmine eyes have drawn thy shape, and thine for me\\nare windows to my breast, where-through the sun\\ndelights to peep, to gaze therein on thee;\\nyet eyes this cunning want to grace their art,\\nthey draw but what they see, know not the heart.\\nlet those who are in favour with their stars,\\nof public honour and proud titles boast,\\nwhilst i whom fortune of such triumph bars\\nunlooked for joy in that i honour most;\\ngreat princes' favourites their fair leaves spread,\\nbut as the marigold at the sun's eye,\\nand in themselves their pride lies buried,\\nfor at a frown they in their glory die.\\nthe painful warrior famoused for fight,\\nafter a thousand victories once foiled,\\nis from the book of honour razed quite,\\nand all the rest forgot for which he toiled:\\nthen happy i that love and am beloved\\nwhere i may not remove nor be removed.\\nlord of my love, to whom in vassalage\\nthy merit hath my duty strongly knit;\\nto thee i send this written embassage\\nto witness duty, not to show my wit.\\nduty so great, which wit so poor as mine\\nmay make seem bare, in wanting words to show it;\\nbut that i hope some good conceit of thine\\nin thy soul's thought (all naked) will bestow it:\\ntill whatsoever star that guides my moving,\\npoints on me graciously with fair aspect,\\nand puts apparel on my tattered loving,\\nto show me worthy of thy sweet respect,\\nthen may i dare to boast how i do love thee,\\ntill then, not show my head where thou mayst prove me.\\nweary with toil, i haste me to my bed,\\nthe dear respose for limbs with travel tired,\\nbut then begins a journey in my head\\nto work my mind, when body's work's expired.\\nfor then my thoughts (from far where i abide)\\nintend a zealous pilgrimage to thee,\\nand keep my drooping eyelids open wide,\\nlooking on darkness which the blind do see.\\nsave that my soul's imaginary sight\\npresents thy shadow to my sightless view,\\nwhich like a jewel (hung in ghastly night)\\nmakes black night beauteous, and her old face new.\\nlo thus by day my limbs, by night my mind,\\nfor thee, and for my self, no quiet find.\\nhow can i then return in happy plight\\nthat am debarred the benefit of rest?\\nwhen day's oppression is not eased by night,\\nbut day by night and night by day oppressed.\\nand each (though enemies to either's reign)\\ndo in consent shake hands to torture me,\\nthe one by toil, the other to complain\\nhow far i toil, still farther off from thee.\\ni tell the day to please him thou art bright,\\nand dost him grace when clouds do blot the heaven:\\nso flatter i the swart-complexioned night,\\nwhen sparkling stars twire not thou gild'st the even.\\nbut day doth daily draw my sorrows longer,\\nand night doth nightly make grief's length seem stronger\\nwhen in disgrace with fortune and men's eyes,\\ni all alone beweep my outcast state,\\nand trouble deaf heaven with my bootless cries,\\nand look upon my self and curse my fate,\\nwishing me like to one more rich in hope,\\nfeatured like him, like him with friends possessed,\\ndesiring this man's art, and that man's scope,\\nwith what i most enjoy contented least,\\nyet in these thoughts my self almost despising,\\nhaply i think on thee, and then my state,\\n(like to the lark at break of day arising\\nfrom sullen earth) sings hymns at heaven's gate,\\nfor thy sweet love remembered such wealth brings,\\nthat then i scorn to change my state with kings.\\nwhen to the sessions of sweet silent thought,\\ni summon up remembrance of things past,\\ni sigh the lack of many a thing i sought,\\nand with old woes new wail my dear time's waste:\\nthen can i drown an eye (unused to flow)\\nfor precious friends hid in death's dateless night,\\nand weep afresh love's long since cancelled woe,\\nand moan th' expense of many a vanished sight.\\nthen can i grieve at grievances foregone,\\nand heavily from woe to woe tell o'er\\nthe sad account of fore-bemoaned moan,\\nwhich i new pay as if not paid before.\\nbut if the while i think on thee (dear friend)\\nall losses are restored, and sorrows end.\\nthy bosom is endeared with all hearts,\\nwhich i by lacking have supposed dead,\\nand there reigns love and all love's loving parts,\\nand all those friends which i thought buried.\\nhow many a holy and obsequious tear\\nhath dear religious love stol'n from mine eye,\\nas interest of the dead, which now appear,\\nbut things removed that hidden in thee lie.\\nthou art the grave where buried love doth live,\\nhung with the trophies of my lovers gone,\\nwho all their parts of me to thee did give,\\nthat due of many, now is thine alone.\\ntheir images i loved, i view in thee,\\nand thou (all they) hast all the all of me.\\nif thou survive my well-contented day,\\nwhen that churl death my bones with dust shall cover\\nand shalt by fortune once more re-survey\\nthese poor rude lines of thy deceased lover:\\ncompare them with the bett'ring of the time,\\nand though they be outstripped by every pen,\\nreserve them for my love, not for their rhyme,\\nexceeded by the height of happier men.\\no then vouchsafe me but this loving thought,\\n'had my friend's muse grown with this growing age,\\na dearer birth than this his love had brought\\nto march in ranks of better equipage:\\nbut since he died and poets better prove,\\ntheirs for their style i'll read, his for his love'.\\nfull many a glorious morning have i seen,\\nflatter the mountain tops with sovereign eye,\\nkissing with golden face the meadows green;\\ngilding pale streams with heavenly alchemy:\\nanon permit the basest clouds to ride,\\nwith ugly rack on his celestial face,\\nand from the forlorn world his visage hide\\nstealing unseen to west with this disgrace:\\neven so my sun one early morn did shine,\\nwith all triumphant splendour on my brow,\\nbut out alack, he was but one hour mine,\\nthe region cloud hath masked him from me now.\\nyet him for this, my love no whit disdaineth,\\nsuns of the world may stain, when heaven's sun staineth.\\nwhy didst thou promise such a beauteous day,\\nand make me travel forth without my cloak,\\nto let base clouds o'ertake me in my way,\\nhiding thy brav'ry in their rotten smoke?\\n'tis not enough that through the cloud thou break,\\nto dry the rain on my storm-beaten face,\\nfor no man well of such a salve can speak,\\nthat heals the wound, and cures not the disgrace:\\nnor can thy shame give physic to my grief,\\nthough thou repent, yet i have still the loss,\\nth' offender's sorrow lends but weak relief\\nto him that bears the strong offence's cross.\\nah but those tears are pearl which thy love sheds,\\nand they are rich, and ransom all ill deeds.\\nno more be grieved at that which thou hast done,\\nroses have thorns, and silver fountains mud,\\nclouds and eclipses stain both moon and sun,\\nand loathsome canker lives in sweetest bud.\\nall men make faults, and even i in this,\\nauthorizing thy trespass with compare,\\nmy self corrupting salving thy amiss,\\nexcusing thy sins more than thy sins are:\\nfor to thy sensual fault i bring in sense,\\nthy adverse party is thy advocate,\\nand 'gainst my self a lawful plea commence:\\nsuch civil war is in my love and hate,\\nthat i an accessary needs must be,\\nto that sweet thief which sourly robs from me.\\nlet me confess that we two must be twain,\\nalthough our undivided loves are one:\\nso shall those blots that do with me remain,\\nwithout thy help, by me be borne alone.\\nin our two loves there is but one respect,\\nthough in our lives a separable spite,\\nwhich though it alter not love's sole effect,\\nyet doth it steal sweet hours from love's delight.\\ni may not evermore acknowledge thee,\\nlest my bewailed guilt should do thee shame,\\nnor thou with public kindness honour me,\\nunless thou take that honour from thy name:\\nbut do not so, i love thee in such sort,\\nas thou being mine, mine is thy good report.\\nas a decrepit father takes delight,\\nto see his active child do deeds of youth,\\nso i, made lame by fortune's dearest spite\\ntake all my comfort of thy worth and truth.\\nfor whether beauty, birth, or wealth, or wit,\\nor any of these all, or all, or more\\nentitled in thy parts, do crowned sit,\\ni make my love engrafted to this store:\\nso then i am not lame, poor, nor despised,\\nwhilst that this shadow doth such substance give,\\nthat i in thy abundance am sufficed,\\nand by a part of all thy glory live:\\nlook what is best, that best i wish in thee,\\nthis wish i have, then ten times happy me.\\nhow can my muse want subject to invent\\nwhile thou dost breathe that pour'st into my verse,\\nthine own sweet argument, too excellent,\\nfor every vulgar paper to rehearse?\\no give thy self the thanks if aught in me,\\nworthy perusal stand against thy sight,\\nfor who's so dumb that cannot write to thee,\\nwhen thou thy self dost give invention light?\\nbe thou the tenth muse, ten times more in worth\\nthan those old nine which rhymers invocate,\\nand he that calls on thee, let him bring forth\\neternal numbers to outlive long date.\\nif my slight muse do please these curious days,\\nthe pain be mine, but thine shall be the praise.\\no how thy worth with manners may i sing,\\nwhen thou art all the better part of me?\\nwhat can mine own praise to mine own self bring:\\nand what is't but mine own when i praise thee?\\neven for this, let us divided live,\\nand our dear love lose name of single one,\\nthat by this separation i may give:\\nthat due to thee which thou deserv'st alone:\\no absence what a torment wouldst thou prove,\\nwere it not thy sour leisure gave sweet leave,\\nto entertain the time with thoughts of love,\\nwhich time and thoughts so sweetly doth deceive.\\nand that thou teachest how to make one twain,\\nby praising him here who doth hence remain.\\ntake all my loves, my love, yea take them all,\\nwhat hast thou then more than thou hadst before?\\nno love, my love, that thou mayst true love call,\\nall mine was thine, before thou hadst this more:\\nthen if for my love, thou my love receivest,\\ni cannot blame thee, for my love thou usest,\\nbut yet be blamed, if thou thy self deceivest\\nby wilful taste of what thy self refusest.\\ni do forgive thy robbery gentle thief\\nalthough thou steal thee all my poverty:\\nand yet love knows it is a greater grief\\nto bear greater wrong, than hate's known injury.\\nlascivious grace, in whom all ill well shows,\\nkill me with spites yet we must not be foes.\\nthose pretty wrongs that liberty commits,\\nwhen i am sometime absent from thy heart,\\nthy beauty, and thy years full well befits,\\nfor still temptation follows where thou art.\\ngentle thou art, and therefore to be won,\\nbeauteous thou art, therefore to be assailed.\\nand when a woman woos, what woman's son,\\nwill sourly leave her till he have prevailed?\\nay me, but yet thou mightst my seat forbear,\\nand chide thy beauty, and thy straying youth,\\nwho lead thee in their riot even there\\nwhere thou art forced to break a twofold truth:\\nhers by thy beauty tempting her to thee,\\nthine by thy beauty being false to me.\\nthat thou hast her it is not all my grief,\\nand yet it may be said i loved her dearly,\\nthat she hath thee is of my wailing chief,\\na loss in love that touches me more nearly.\\nloving offenders thus i will excuse ye,\\nthou dost love her, because thou know'st i love her,\\nand for my sake even so doth she abuse me,\\nsuff'ring my friend for my sake to approve her.\\nif i lose thee, my loss is my love's gain,\\nand losing her, my friend hath found that loss,\\nboth find each other, and i lose both twain,\\nand both for my sake lay on me this cross,\\nbut here's the joy, my friend and i are one,\\nsweet flattery, then she loves but me alone.\\nwhen most i wink then do mine eyes best see,\\nfor all the day they view things unrespected,\\nbut when i sleep, in dreams they look on thee,\\nand darkly bright, are bright in dark directed.\\nthen thou whose shadow shadows doth make bright\\nhow would thy shadow's form, form happy show,\\nto the clear day with thy much clearer light,\\nwhen to unseeing eyes thy shade shines so!\\nhow would (i say) mine eyes be blessed made,\\nby looking on thee in the living day,\\nwhen in dead night thy fair imperfect shade,\\nthrough heavy sleep on sightless eyes doth stay!\\nall days are nights to see till i see thee,\\nand nights bright days when dreams do show thee me.\\nif the dull substance of my flesh were thought,\\ninjurious distance should not stop my way,\\nfor then despite of space i would be brought,\\nfrom limits far remote, where thou dost stay,\\nno matter then although my foot did stand\\nupon the farthest earth removed from thee,\\nfor nimble thought can jump both sea and land,\\nas soon as think the place where he would be.\\nbut ah, thought kills me that i am not thought\\nto leap large lengths of miles when thou art gone,\\nbut that so much of earth and water wrought,\\ni must attend, time's leisure with my moan.\\nreceiving nought by elements so slow,\\nbut heavy tears, badges of either's woe.\\nthe other two, slight air, and purging fire,\\nare both with thee, wherever i abide,\\nthe first my thought, the other my desire,\\nthese present-absent with swift motion slide.\\nfor when these quicker elements are gone\\nin tender embassy of love to thee,\\nmy life being made of four, with two alone,\\nsinks down to death, oppressed with melancholy.\\nuntil life's composition be recured,\\nby those swift messengers returned from thee,\\nwho even but now come back again assured,\\nof thy fair health, recounting it to me.\\nthis told, i joy, but then no longer glad,\\ni send them back again and straight grow sad.\\nmine eye and heart are at a mortal war,\\nhow to divide the conquest of thy sight,\\nmine eye, my heart thy picture's sight would bar,\\nmy heart, mine eye the freedom of that right,\\nmy heart doth plead that thou in him dost lie,\\n(a closet never pierced with crystal eyes)\\nbut the defendant doth that plea deny,\\nand says in him thy fair appearance lies.\\nto side this title is impanelled\\na quest of thoughts, all tenants to the heart,\\nand by their verdict is determined\\nthe clear eye's moiety, and the dear heart's part.\\nas thus, mine eye's due is thy outward part,\\nand my heart's right, thy inward love of heart.\\nbetwixt mine eye and heart a league is took,\\nand each doth good turns now unto the other,\\nwhen that mine eye is famished for a look,\\nor heart in love with sighs himself doth smother;\\nwith my love's picture then my eye doth feast,\\nand to the painted banquet bids my heart:\\nanother time mine eye is my heart's guest,\\nand in his thoughts of love doth share a part.\\nso either by thy picture or my love,\\nthy self away, art present still with me,\\nfor thou not farther than my thoughts canst move,\\nand i am still with them, and they with thee.\\nor if they sleep, thy picture in my sight\\nawakes my heart, to heart's and eye's delight.\\nhow careful was i when i took my way,\\neach trifle under truest bars to thrust,\\nthat to my use it might unused stay\\nfrom hands of falsehood, in sure wards of trust!\\nbut thou, to whom my jewels trifles are,\\nmost worthy comfort, now my greatest grief,\\nthou best of dearest, and mine only care,\\nart left the prey of every vulgar thief.\\nthee have i not locked up in any chest,\\nsave where thou art not, though i feel thou art,\\nwithin the gentle closure of my breast,\\nfrom whence at pleasure thou mayst come and part,\\nand even thence thou wilt be stol'n i fear,\\nfor truth proves thievish for a prize so dear.\\nagainst that time (if ever that time come)\\nwhen i shall see thee frown on my defects,\\nwhen as thy love hath cast his utmost sum,\\ncalled to that audit by advised respects,\\nagainst that time when thou shalt strangely pass,\\nand scarcely greet me with that sun thine eye,\\nwhen love converted from the thing it was\\nshall reasons find of settled gravity;\\nagainst that time do i ensconce me here\\nwithin the knowledge of mine own desert,\\nand this my hand, against my self uprear,\\nto guard the lawful reasons on thy part,\\nto leave poor me, thou hast the strength of laws,\\nsince why to love, i can allege no cause.\\nhow heavy do i journey on the way,\\nwhen what i seek (my weary travel's end)\\ndoth teach that case and that repose to say\\n'thus far the miles are measured from thy friend.'\\nthe beast that bears me, tired with my woe,\\nplods dully on, to bear that weight in me,\\nas if by some instinct the wretch did know\\nhis rider loved not speed being made from thee:\\nthe bloody spur cannot provoke him on,\\nthat sometimes anger thrusts into his hide,\\nwhich heavily he answers with a groan,\\nmore sharp to me than spurring to his side,\\nfor that same groan doth put this in my mind,\\nmy grief lies onward and my joy behind.\\nthus can my love excuse the slow offence,\\nof my dull bearer, when from thee i speed,\\nfrom where thou art, why should i haste me thence?\\ntill i return of posting is no need.\\no what excuse will my poor beast then find,\\nwhen swift extremity can seem but slow?\\nthen should i spur though mounted on the wind,\\nin winged speed no motion shall i know,\\nthen can no horse with my desire keep pace,\\ntherefore desire (of perfect'st love being made)\\nshall neigh (no dull flesh) in his fiery race,\\nbut love, for love, thus shall excuse my jade,\\nsince from thee going, he went wilful-slow,\\ntowards thee i'll run, and give him leave to go.\\nso am i as the rich whose blessed key,\\ncan bring him to his sweet up-locked treasure,\\nthe which he will not every hour survey,\\nfor blunting the fine point of seldom pleasure.\\ntherefore are feasts so solemn and so rare,\\nsince seldom coming in that long year set,\\nlike stones of worth they thinly placed are,\\nor captain jewels in the carcanet.\\nso is the time that keeps you as my chest\\nor as the wardrobe which the robe doth hide,\\nto make some special instant special-blest,\\nby new unfolding his imprisoned pride.\\nblessed are you whose worthiness gives scope,\\nbeing had to triumph, being lacked to hope.\\nwhat is your substance, whereof are you made,\\nthat millions of strange shadows on you tend?\\nsince every one, hath every one, one shade,\\nand you but one, can every shadow lend:\\ndescribe adonis and the counterfeit,\\nis poorly imitated after you,\\non helen's cheek all art of beauty set,\\nand you in grecian tires are painted new:\\nspeak of the spring, and foison of the year,\\nthe one doth shadow of your beauty show,\\nthe other as your bounty doth appear,\\nand you in every blessed shape we know.\\nin all external grace you have some part,\\nbut you like none, none you for constant heart.\\no how much more doth beauty beauteous seem,\\nby that sweet ornament which truth doth give!\\nthe rose looks fair, but fairer we it deem\\nfor that sweet odour, which doth in it live:\\nthe canker blooms have full as deep a dye,\\nas the perfumed tincture of the roses,\\nhang on such thorns, and play as wantonly,\\nwhen summer's breath their masked buds discloses:\\nbut for their virtue only is their show,\\nthey live unwooed, and unrespected fade,\\ndie to themselves. sweet roses do not so,\\nof their sweet deaths, are sweetest odours made:\\nand so of you, beauteous and lovely youth,\\nwhen that shall fade, my verse distills your truth.\\nnot marble, nor the gilded monuments\\nof princes shall outlive this powerful rhyme,\\nbut you shall shine more bright in these contents\\nthan unswept stone, besmeared with sluttish time.\\nwhen wasteful war shall statues overturn,\\nand broils root out the work of masonry,\\nnor mars his sword, nor war's quick fire shall burn:\\nthe living record of your memory.\\n'gainst death, and all-oblivious enmity\\nshall you pace forth, your praise shall still find room,\\neven in the eyes of all posterity\\nthat wear this world out to the ending doom.\\nso till the judgment that your self arise,\\nyou live in this, and dwell in lovers' eyes.\\nsweet love renew thy force, be it not said\\nthy edge should blunter be than appetite,\\nwhich but to-day by feeding is allayed,\\nto-morrow sharpened in his former might.\\nso love be thou, although to-day thou fill\\nthy hungry eyes, even till they wink with fulness,\\nto-morrow see again, and do not kill\\nthe spirit of love, with a perpetual dulness:\\nlet this sad interim like the ocean be\\nwhich parts the shore, where two contracted new,\\ncome daily to the banks, that when they see:\\nreturn of love, more blest may be the view.\\nor call it winter, which being full of care,\\nmakes summer's welcome, thrice more wished, more rare.\\nbeing your slave what should i do but tend,\\nupon the hours, and times of your desire?\\ni have no precious time at all to spend;\\nnor services to do till you require.\\nnor dare i chide the world-without-end hour,\\nwhilst i (my sovereign) watch the clock for you,\\nnor think the bitterness of absence sour,\\nwhen you have bid your servant once adieu.\\nnor dare i question with my jealous thought,\\nwhere you may be, or your affairs suppose,\\nbut like a sad slave stay and think of nought\\nsave where you are, how happy you make those.\\nso true a fool is love, that in your will,\\n(though you do any thing) he thinks no ill.\\nthat god forbid, that made me first your slave,\\ni should in thought control your times of pleasure,\\nor at your hand th' account of hours to crave,\\nbeing your vassal bound to stay your leisure.\\no let me suffer (being at your beck)\\nth' imprisoned absence of your liberty,\\nand patience tame to sufferance bide each check,\\nwithout accusing you of injury.\\nbe where you list, your charter is so strong,\\nthat you your self may privilage your time\\nto what you will, to you it doth belong,\\nyour self to pardon of self-doing crime.\\ni am to wait, though waiting so be hell,\\nnot blame your pleasure be it ill or well.\\nif there be nothing new, but that which is,\\nhath been before, how are our brains beguiled,\\nwhich labouring for invention bear amis\\nthe second burthen of a former child!\\no that record could with a backward look,\\neven of five hundred courses of the sun,\\nshow me your image in some antique book,\\nsince mind at first in character was done.\\nthat i might see what the old world could say,\\nto this composed wonder of your frame,\\nwhether we are mended, or whether better they,\\nor whether revolution be the same.\\no sure i am the wits of former days,\\nto subjects worse have given admiring praise.\\nlike as the waves make towards the pebbled shore,\\nso do our minutes hasten to their end,\\neach changing place with that which goes before,\\nin sequent toil all forwards do contend.\\nnativity once in the main of light,\\ncrawls to maturity, wherewith being crowned,\\ncrooked eclipses 'gainst his glory fight,\\nand time that gave, doth now his gift confound.\\ntime doth transfix the flourish set on youth,\\nand delves the parallels in beauty's brow,\\nfeeds on the rarities of nature's truth,\\nand nothing stands but for his scythe to mow.\\nand yet to times in hope, my verse shall stand\\npraising thy worth, despite his cruel hand.\\nis it thy will, thy image should keep open\\nmy heavy eyelids to the weary night?\\ndost thou desire my slumbers should be broken,\\nwhile shadows like to thee do mock my sight?\\nis it thy spirit that thou send'st from thee\\nso far from home into my deeds to pry,\\nto find out shames and idle hours in me,\\nthe scope and tenure of thy jealousy?\\no no, thy love though much, is not so great,\\nit is my love that keeps mine eye awake,\\nmine own true love that doth my rest defeat,\\nto play the watchman ever for thy sake.\\nfor thee watch i, whilst thou dost wake elsewhere,\\nfrom me far off, with others all too near.\\nsin of self-love possesseth all mine eye,\\nand all my soul, and all my every part;\\nand for this sin there is no remedy,\\nit is so grounded inward in my heart.\\nmethinks no face so gracious is as mine,\\nno shape so true, no truth of such account,\\nand for my self mine own worth do define,\\nas i all other in all worths surmount.\\nbut when my glass shows me my self indeed\\nbeated and chopt with tanned antiquity,\\nmine own self-love quite contrary i read:\\nself, so self-loving were iniquity.\\n'tis thee (my self) that for my self i praise,\\npainting my age with beauty of thy days.\\nagainst my love shall be as i am now\\nwith time's injurious hand crushed and o'erworn,\\nwhen hours have drained his blood and filled his brow\\nwith lines and wrinkles, when his youthful morn\\nhath travelled on to age's steepy night,\\nand all those beauties whereof now he's king\\nare vanishing, or vanished out of sight,\\nstealing away the treasure of his spring:\\nfor such a time do i now fortify\\nagainst confounding age's cruel knife,\\nthat he shall never cut from memory\\nmy sweet love's beauty, though my lover's life.\\nhis beauty shall in these black lines be seen,\\nand they shall live, and he in them still green.\\nwhen i have seen by time's fell hand defaced\\nthe rich-proud cost of outworn buried age,\\nwhen sometime lofty towers i see down-rased,\\nand brass eternal slave to mortal rage.\\nwhen i have seen the hungry ocean gain\\nadvantage on the kingdom of the shore,\\nand the firm soil win of the watery main,\\nincreasing store with loss, and loss with store.\\nwhen i have seen such interchange of state,\\nor state it self confounded, to decay,\\nruin hath taught me thus to ruminate\\nthat time will come and take my love away.\\nthis thought is as a death which cannot choose\\nbut weep to have, that which it fears to lose.\\nsince brass, nor stone, nor earth, nor boundless sea,\\nbut sad mortality o'ersways their power,\\nhow with this rage shall beauty hold a plea,\\nwhose action is no stronger than a flower?\\no how shall summer's honey breath hold out,\\nagainst the wrackful siege of batt'ring days,\\nwhen rocks impregnable are not so stout,\\nnor gates of steel so strong but time decays?\\no fearful meditation, where alack,\\nshall time's best jewel from time's chest lie hid?\\nor what strong hand can hold his swift foot back,\\nor who his spoil of beauty can forbid?\\no none, unless this miracle have might,\\nthat in black ink my love may still shine bright.\\ntired with all these for restful death i cry,\\nas to behold desert a beggar born,\\nand needy nothing trimmed in jollity,\\nand purest faith unhappily forsworn,\\nand gilded honour shamefully misplaced,\\nand maiden virtue rudely strumpeted,\\nand right perfection wrongfully disgraced,\\nand strength by limping sway disabled\\nand art made tongue-tied by authority,\\nand folly (doctor-like) controlling skill,\\nand simple truth miscalled simplicity,\\nand captive good attending captain ill.\\ntired with all these, from these would i be gone,\\nsave that to die, i leave my love alone.\\nah wherefore with infection should he live,\\nand with his presence grace impiety,\\nthat sin by him advantage should achieve,\\nand lace it self with his society?\\nwhy should false painting imitate his cheek,\\nand steal dead seeming of his living hue?\\nwhy should poor beauty indirectly seek,\\nroses of shadow, since his rose is true?\\nwhy should he live, now nature bankrupt is,\\nbeggared of blood to blush through lively veins,\\nfor she hath no exchequer now but his,\\nand proud of many, lives upon his gains?\\no him she stores, to show what wealth she had,\\nin days long since, before these last so bad.\\nthus is his cheek the map of days outworn,\\nwhen beauty lived and died as flowers do now,\\nbefore these bastard signs of fair were born,\\nor durst inhabit on a living brow:\\nbefore the golden tresses of the dead,\\nthe right of sepulchres, were shorn away,\\nto live a second life on second head,\\nere beauty's dead fleece made another gay:\\nin him those holy antique hours are seen,\\nwithout all ornament, it self and true,\\nmaking no summer of another's green,\\nrobbing no old to dress his beauty new,\\nand him as for a map doth nature store,\\nto show false art what beauty was of yore.\\nthose parts of thee that the world's eye doth view,\\nwant nothing that the thought of hearts can mend:\\nall tongues (the voice of souls) give thee that due,\\nuttering bare truth, even so as foes commend.\\nthy outward thus with outward praise is crowned,\\nbut those same tongues that give thee so thine own,\\nin other accents do this praise confound\\nby seeing farther than the eye hath shown.\\nthey look into the beauty of thy mind,\\nand that in guess they measure by thy deeds,\\nthen churls their thoughts (although their eyes were kind)\\nto thy fair flower add the rank smell of weeds:\\nbut why thy odour matcheth not thy show,\\nthe soil is this, that thou dost common grow.\\nthat thou art blamed shall not be thy defect,\\nfor slander's mark was ever yet the fair,\\nthe ornament of beauty is suspect,\\na crow that flies in heaven's sweetest air.\\nso thou be good, slander doth but approve,\\nthy worth the greater being wooed of time,\\nfor canker vice the sweetest buds doth love,\\nand thou present'st a pure unstained prime.\\nthou hast passed by the ambush of young days,\\neither not assailed, or victor being charged,\\nyet this thy praise cannot be so thy praise,\\nto tie up envy, evermore enlarged,\\nif some suspect of ill masked not thy show,\\nthen thou alone kingdoms of hearts shouldst owe.\\nno longer mourn for me when i am dead,\\nthan you shall hear the surly sullen bell\\ngive warning to the world that i am fled\\nfrom this vile world with vilest worms to dwell:\\nnay if you read this line, remember not,\\nthe hand that writ it, for i love you so,\\nthat i in your sweet thoughts would be forgot,\\nif thinking on me then should make you woe.\\no if (i say) you look upon this verse,\\nwhen i (perhaps) compounded am with clay,\\ndo not so much as my poor name rehearse;\\nbut let your love even with my life decay.\\nlest the wise world should look into your moan,\\nand mock you with me after i am gone.\\no lest the world should task you to recite,\\nwhat merit lived in me that you should love\\nafter my death (dear love) forget me quite,\\nfor you in me can nothing worthy prove.\\nunless you would devise some virtuous lie,\\nto do more for me than mine own desert,\\nand hang more praise upon deceased i,\\nthan niggard truth would willingly impart:\\no lest your true love may seem false in this,\\nthat you for love speak well of me untrue,\\nmy name be buried where my body is,\\nand live no more to shame nor me, nor you.\\nfor i am shamed by that which i bring forth,\\nand so should you, to love things nothing worth.\\nthat time of year thou mayst in me behold,\\nwhen yellow leaves, or none, or few do hang\\nupon those boughs which shake against the cold,\\nbare ruined choirs, where late the sweet birds sang.\\nin me thou seest the twilight of such day,\\nas after sunset fadeth in the west,\\nwhich by and by black night doth take away,\\ndeath's second self that seals up all in rest.\\nin me thou seest the glowing of such fire,\\nthat on the ashes of his youth doth lie,\\nas the death-bed, whereon it must expire,\\nconsumed with that which it was nourished by.\\nthis thou perceiv'st, which makes thy love more strong,\\nto love that well, which thou must leave ere long.\\nbut be contented when that fell arrest,\\nwithout all bail shall carry me away,\\nmy life hath in this line some interest,\\nwhich for memorial still with thee shall stay.\\nwhen thou reviewest this, thou dost review,\\nthe very part was consecrate to thee,\\nthe earth can have but earth, which is his due,\\nmy spirit is thine the better part of me,\\nso then thou hast but lost the dregs of life,\\nthe prey of worms, my body being dead,\\nthe coward conquest of a wretch's knife,\\ntoo base of thee to be remembered,\\nthe worth of that, is that which it contains,\\nand that is this, and this with thee remains.\\nso are you to my thoughts as food to life,\\nor as sweet-seasoned showers are to the ground;\\nand for the peace of you i hold such strife\\nas 'twixt a miser and his wealth is found.\\nnow proud as an enjoyer, and anon\\ndoubting the filching age will steal his treasure,\\nnow counting best to be with you alone,\\nthen bettered that the world may see my pleasure,\\nsometime all full with feasting on your sight,\\nand by and by clean starved for a look,\\npossessing or pursuing no delight\\nsave what is had, or must from you be took.\\nthus do i pine and surfeit day by day,\\nor gluttoning on all, or all away.\\nwhy is my verse so barren of new pride?\\nso far from variation or quick change?\\nwhy with the time do i not glance aside\\nto new-found methods, and to compounds strange?\\nwhy write i still all one, ever the same,\\nand keep invention in a noted weed,\\nthat every word doth almost tell my name,\\nshowing their birth, and where they did proceed?\\no know sweet love i always write of you,\\nand you and love are still my argument:\\nso all my best is dressing old words new,\\nspending again what is already spent:\\nfor as the sun is daily new and old,\\nso is my love still telling what is told.\\nthy glass will show thee how thy beauties wear,\\nthy dial how thy precious minutes waste,\\nthese vacant leaves thy mind's imprint will bear,\\nand of this book, this learning mayst thou taste.\\nthe wrinkles which thy glass will truly show,\\nof mouthed graves will give thee memory,\\nthou by thy dial's shady stealth mayst know,\\ntime's thievish progress to eternity.\\nlook what thy memory cannot contain,\\ncommit to these waste blanks, and thou shalt find\\nthose children nursed, delivered from thy brain,\\nto take a new acquaintance of thy mind.\\nthese offices, so oft as thou wilt look,\\nshall profit thee, and much enrich thy book.\\nso oft have i invoked thee for my muse,\\nand found such fair assistance in my verse,\\nas every alien pen hath got my use,\\nand under thee their poesy disperse.\\nthine eyes, that taught the dumb on high to sing,\\nand heavy ignorance aloft to fly,\\nhave added feathers to the learned's wing,\\nand given grace a double majesty.\\nyet be most proud of that which i compile,\\nwhose influence is thine, and born of thee,\\nin others' works thou dost but mend the style,\\nand arts with thy sweet graces graced be.\\nbut thou art all my art, and dost advance\\nas high as learning, my rude ignorance.\\nwhilst i alone did call upon thy aid,\\nmy verse alone had all thy gentle grace,\\nbut now my gracious numbers are decayed,\\nand my sick muse doth give an other place.\\ni grant (sweet love) thy lovely argument\\ndeserves the travail of a worthier pen,\\nyet what of thee thy poet doth invent,\\nhe robs thee of, and pays it thee again,\\nhe lends thee virtue, and he stole that word,\\nfrom thy behaviour, beauty doth he give\\nand found it in thy cheek: he can afford\\nno praise to thee, but what in thee doth live.\\nthen thank him not for that which he doth say,\\nsince what he owes thee, thou thy self dost pay.\\no how i faint when i of you do write,\\nknowing a better spirit doth use your name,\\nand in the praise thereof spends all his might,\\nto make me tongue-tied speaking of your fame.\\nbut since your worth (wide as the ocean is)\\nthe humble as the proudest sail doth bear,\\nmy saucy bark (inferior far to his)\\non your broad main doth wilfully appear.\\nyour shallowest help will hold me up afloat,\\nwhilst he upon your soundless deep doth ride,\\nor (being wrecked) i am a worthless boat,\\nhe of tall building, and of goodly pride.\\nthen if he thrive and i be cast away,\\nthe worst was this, my love was my decay.\\nor i shall live your epitaph to make,\\nor you survive when i in earth am rotten,\\nfrom hence your memory death cannot take,\\nalthough in me each part will be forgotten.\\nyour name from hence immortal life shall have,\\nthough i (once gone) to all the world must die,\\nthe earth can yield me but a common grave,\\nwhen you entombed in men's eyes shall lie,\\nyour monument shall be my gentle verse,\\nwhich eyes not yet created shall o'er-read,\\nand tongues to be, your being shall rehearse,\\nwhen all the breathers of this world are dead,\\nyou still shall live (such virtue hath my pen)\\nwhere breath most breathes, even in the mouths of men.\\ni grant thou wert not married to my muse,\\nand therefore mayst without attaint o'erlook\\nthe dedicated words which writers use\\nof their fair subject, blessing every book.\\nthou art as fair in knowledge as in hue,\\nfinding thy worth a limit past my praise,\\nand therefore art enforced to seek anew,\\nsome fresher stamp of the time-bettering days.\\nand do so love, yet when they have devised,\\nwhat strained touches rhetoric can lend,\\nthou truly fair, wert truly sympathized,\\nin true plain words, by thy true-telling friend.\\nand their gross painting might be better used,\\nwhere cheeks need blood, in thee it is abused.\\ni never saw that you did painting need,\\nand therefore to your fair no painting set,\\ni found (or thought i found) you did exceed,\\nthat barren tender of a poet's debt:\\nand therefore have i slept in your report,\\nthat you your self being extant well might show,\\nhow far a modern quill doth come too short,\\nspeaking of worth, what worth in you doth grow.\\nthis silence for my sin you did impute,\\nwhich shall be most my glory being dumb,\\nfor i impair not beauty being mute,\\nwhen others would give life, and bring a tomb.\\nthere lives more life in one of your fair eyes,\\nthan both your poets can in praise devise.\\nwho is it that says most, which can say more,\\nthan this rich praise, that you alone, are you?\\nin whose confine immured is the store,\\nwhich should example where your equal grew.\\nlean penury within that pen doth dwell,\\nthat to his subject lends not some small glory,\\nbut he that writes of you, if he can tell,\\nthat you are you, so dignifies his story.\\nlet him but copy what in you is writ,\\nnot making worse what nature made so clear,\\nand such a counterpart shall fame his wit,\\nmaking his style admired every where.\\nyou to your beauteous blessings add a curse,\\nbeing fond on praise, which makes your praises worse.\\nmy tongue-tied muse in manners holds her still,\\nwhile comments of your praise richly compiled,\\nreserve their character with golden quill,\\nand precious phrase by all the muses filed.\\ni think good thoughts, whilst other write good words,\\nand like unlettered clerk still cry amen,\\nto every hymn that able spirit affords,\\nin polished form of well refined pen.\\nhearing you praised, i say 'tis so, 'tis true,\\nand to the most of praise add something more,\\nbut that is in my thought, whose love to you\\n(though words come hindmost) holds his rank before,\\nthen others, for the breath of words respect,\\nme for my dumb thoughts, speaking in effect.\\nwas it the proud full sail of his great verse,\\nbound for the prize of (all too precious) you,\\nthat did my ripe thoughts in my brain inhearse,\\nmaking their tomb the womb wherein they grew?\\nwas it his spirit, by spirits taught to write,\\nabove a mortal pitch, that struck me dead?\\nno, neither he, nor his compeers by night\\ngiving him aid, my verse astonished.\\nhe nor that affable familiar ghost\\nwhich nightly gulls him with intelligence,\\nas victors of my silence cannot boast,\\ni was not sick of any fear from thence.\\nbut when your countenance filled up his line,\\nthen lacked i matter, that enfeebled mine.\\nfarewell! thou art too dear for my possessing,\\nand like enough thou know'st thy estimate,\\nthe charter of thy worth gives thee releasing:\\nmy bonds in thee are all determinate.\\nfor how do i hold thee but by thy granting,\\nand for that riches where is my deserving?\\nthe cause of this fair gift in me is wanting,\\nand so my patent back again is swerving.\\nthy self thou gav'st, thy own worth then not knowing,\\nor me to whom thou gav'st it, else mistaking,\\nso thy great gift upon misprision growing,\\ncomes home again, on better judgement making.\\nthus have i had thee as a dream doth flatter,\\nin sleep a king, but waking no such matter.\\nwhen thou shalt be disposed to set me light,\\nand place my merit in the eye of scorn,\\nupon thy side, against my self i'll fight,\\nand prove thee virtuous, though thou art forsworn:\\nwith mine own weakness being best acquainted,\\nupon thy part i can set down a story\\nof faults concealed, wherein i am attainted:\\nthat thou in losing me, shalt win much glory:\\nand i by this will be a gainer too,\\nfor bending all my loving thoughts on thee,\\nthe injuries that to my self i do,\\ndoing thee vantage, double-vantage me.\\nsuch is my love, to thee i so belong,\\nthat for thy right, my self will bear all wrong.\\nsay that thou didst forsake me for some fault,\\nand i will comment upon that offence,\\nspeak of my lameness, and i straight will halt:\\nagainst thy reasons making no defence.\\nthou canst not (love) disgrace me half so ill,\\nto set a form upon desired change,\\nas i'll my self disgrace, knowing thy will,\\ni will acquaintance strangle and look strange:\\nbe absent from thy walks and in my tongue,\\nthy sweet beloved name no more shall dwell,\\nlest i (too much profane) should do it wronk:\\nand haply of our old acquaintance tell.\\nfor thee, against my self i'll vow debate,\\nfor i must ne'er love him whom thou dost hate.\\nthen hate me when thou wilt, if ever, now,\\nnow while the world is bent my deeds to cross,\\njoin with the spite of fortune, make me bow,\\nand do not drop in for an after-loss:\\nah do not, when my heart hath 'scaped this sorrow,\\ncome in the rearward of a conquered woe,\\ngive not a windy night a rainy morrow,\\nto linger out a purposed overthrow.\\nif thou wilt leave me, do not leave me last,\\nwhen other petty griefs have done their spite,\\nbut in the onset come, so shall i taste\\nat first the very worst of fortune's might.\\nand other strains of woe, which now seem woe,\\ncompared with loss of thee, will not seem so.\\nsome glory in their birth, some in their skill,\\nsome in their wealth, some in their body's force,\\nsome in their garments though new-fangled ill:\\nsome in their hawks and hounds, some in their horse.\\nand every humour hath his adjunct pleasure,\\nwherein it finds a joy above the rest,\\nbut these particulars are not my measure,\\nall these i better in one general best.\\nthy love is better than high birth to me,\\nricher than wealth, prouder than garments' costs,\\nof more delight than hawks and horses be:\\nand having thee, of all men's pride i boast.\\nwretched in this alone, that thou mayst take,\\nall this away, and me most wretched make.\\nbut do thy worst to steal thy self away,\\nfor term of life thou art assured mine,\\nand life no longer than thy love will stay,\\nfor it depends upon that love of thine.\\nthen need i not to fear the worst of wrongs,\\nwhen in the least of them my life hath end,\\ni see, a better state to me belongs\\nthan that, which on thy humour doth depend.\\nthou canst not vex me with inconstant mind,\\nsince that my life on thy revolt doth lie,\\no what a happy title do i find,\\nhappy to have thy love, happy to die!\\nbut what's so blessed-fair that fears no blot?\\nthou mayst be false, and yet i know it not.\\nso shall i live, supposing thou art true,\\nlike a deceived husband, so love's face,\\nmay still seem love to me, though altered new:\\nthy looks with me, thy heart in other place.\\nfor there can live no hatred in thine eye,\\ntherefore in that i cannot know thy change,\\nin many's looks, the false heart's history\\nis writ in moods and frowns and wrinkles strange.\\nbut heaven in thy creation did decree,\\nthat in thy face sweet love should ever dwell,\\nwhate'er thy thoughts, or thy heart's workings be,\\nthy looks should nothing thence, but sweetness tell.\\nhow like eve's apple doth thy beauty grow,\\nif thy sweet virtue answer not thy show.\\nthey that have power to hurt, and will do none,\\nthat do not do the thing, they most do show,\\nwho moving others, are themselves as stone,\\nunmoved, cold, and to temptation slow:\\nthey rightly do inherit heaven's graces,\\nand husband nature's riches from expense,\\ntibey are the lords and owners of their faces,\\nothers, but stewards of their excellence:\\nthe summer's flower is to the summer sweet,\\nthough to it self, it only live and die,\\nbut if that flower with base infection meet,\\nthe basest weed outbraves his dignity:\\nfor sweetest things turn sourest by their deeds,\\nlilies that fester, smell far worse than weeds.\\nhow sweet and lovely dost thou make the shame,\\nwhich like a canker in the fragrant rose,\\ndoth spot the beauty of thy budding name!\\no in what sweets dost thou thy sins enclose!\\nthat tongue that tells the story of thy days,\\n(making lascivious comments on thy sport)\\ncannot dispraise, but in a kind of praise,\\nnaming thy name, blesses an ill report.\\no what a mansion have those vices got,\\nwhich for their habitation chose out thee,\\nwhere beauty's veil doth cover every blot,\\nand all things turns to fair, that eyes can see!\\ntake heed (dear heart) of this large privilege,\\nthe hardest knife ill-used doth lose his edge.\\nsome say thy fault is youth, some wantonness,\\nsome say thy grace is youth and gentle sport,\\nboth grace and faults are loved of more and less:\\nthou mak'st faults graces, that to thee resort:\\nas on the finger of a throned queen,\\nthe basest jewel will be well esteemed:\\nso are those errors that in thee are seen,\\nto truths translated, and for true things deemed.\\nhow many lambs might the stern wolf betray,\\nif like a lamb he could his looks translate!\\nhow many gazers mightst thou lead away,\\nif thou wouldst use the strength of all thy state!\\nbut do not so, i love thee in such sort,\\nas thou being mine, mine is thy good report.\\nhow like a winter hath my absence been\\nfrom thee, the pleasure of the fleeting year!\\nwhat freezings have i felt, what dark days seen!\\nwhat old december's bareness everywhere!\\nand yet this time removed was summer's time,\\nthe teeming autumn big with rich increase,\\nbearing the wanton burden of the prime,\\nlike widowed wombs after their lords' decease:\\nyet this abundant issue seemed to me\\nbut hope of orphans, and unfathered fruit,\\nfor summer and his pleasures wait on thee,\\nand thou away, the very birds are mute.\\nor if they sing, 'tis with so dull a cheer,\\nthat leaves look pale, dreading the winter's near.\\nfrom you have i been absent in the spring,\\nwhen proud-pied april (dressed in all his trim)\\nhath put a spirit of youth in every thing:\\nthat heavy saturn laughed and leaped with him.\\nyet nor the lays of birds, nor the sweet smell\\nof different flowers in odour and in hue,\\ncould make me any summer's story tell:\\nor from their proud lap pluck them where they grew:\\nnor did i wonder at the lily's white,\\nnor praise the deep vermilion in the rose,\\nthey were but sweet, but figures of delight:\\ndrawn after you, you pattern of all those.\\nyet seemed it winter still, and you away,\\nas with your shadow i with these did play.\\nthe forward violet thus did i chide,\\nsweet thief, whence didst thou steal thy sweet that smells,\\nif not from my love's breath? the purple pride\\nwhich on thy soft check for complexion dwells,\\nin my love's veins thou hast too grossly dyed.\\nthe lily i condemned for thy hand,\\nand buds of marjoram had stol'n thy hair,\\nthe roses fearfully on thorns did stand,\\none blushing shame, another white despair:\\na third nor red, nor white, had stol'n of both,\\nand to his robbery had annexed thy breath,\\nbut for his theft in pride of all his growth\\na vengeful canker eat him up to death.\\nmore flowers i noted, yet i none could see,\\nbut sweet, or colour it had stol'n from thee.\\nwhere art thou muse that thou forget'st so long,\\nto speak of that which gives thee all thy might?\\nspend'st thou thy fury on some worthless song,\\ndarkening thy power to lend base subjects light?\\nreturn forgetful muse, and straight redeem,\\nin gentle numbers time so idly spent,\\nsing to the ear that doth thy lays esteem,\\nand gives thy pen both skill and argument.\\nrise resty muse, my love's sweet face survey,\\nif time have any wrinkle graven there,\\nif any, be a satire to decay,\\nand make time's spoils despised everywhere.\\ngive my love fame faster than time wastes life,\\nso thou prevent'st his scythe, and crooked knife.\\no truant muse what shall be thy amends,\\nfor thy neglect of truth in beauty dyed?\\nboth truth and beauty on my love depends:\\nso dost thou too, and therein dignified:\\nmake answer muse, wilt thou not haply say,\\n'truth needs no colour with his colour fixed,\\nbeauty no pencil, beauty's truth to lay:\\nbut best is best, if never intermixed'?\\nbecause he needs no praise, wilt thou be dumb?\\nexcuse not silence so, for't lies in thee,\\nto make him much outlive a gilded tomb:\\nand to be praised of ages yet to be.\\nthen do thy office muse, i teach thee how,\\nto make him seem long hence, as he shows now.\\nmy love is strengthened though more weak in seeming,\\ni love not less, though less the show appear,\\nthat love is merchandized, whose rich esteeming,\\nthe owner's tongue doth publish every where.\\nour love was new, and then but in the spring,\\nwhen i was wont to greet it with my lays,\\nas philomel in summer's front doth sing,\\nand stops her pipe in growth of riper days:\\nnot that the summer is less pleasant now\\nthan when her mournful hymns did hush the night,\\nbut that wild music burthens every bough,\\nand sweets grown common lose their dear delight.\\ntherefore like her, i sometime hold my tongue:\\nbecause i would not dull you with my song.\\nalack what poverty my muse brings forth,\\nthat having such a scope to show her pride,\\nthe argument all bare is of more worth\\nthan when it hath my added praise beside.\\no blame me not if i no more can write!\\nlook in your glass and there appears a face,\\nthat over-goes my blunt invention quite,\\ndulling my lines, and doing me disgrace.\\nwere it not sinful then striving to mend,\\nto mar the subject that before was well?\\nfor to no other pass my verses tend,\\nthan of your graces and your gifts to tell.\\nand more, much more than in my verse can sit,\\nyour own glass shows you, when you look in it.\\nto me fair friend you never can be old,\\nfor as you were when first your eye i eyed,\\nsuch seems your beauty still: three winters cold,\\nhave from the forests shook three summers' pride,\\nthree beauteous springs to yellow autumn turned,\\nin process of the seasons have i seen,\\nthree april perfumes in three hot junes burned,\\nsince first i saw you fresh which yet are green.\\nah yet doth beauty like a dial hand,\\nsteal from his figure, and no pace perceived,\\nso your sweet hue, which methinks still doth stand\\nhath motion, and mine eye may be deceived.\\nfor fear of which, hear this thou age unbred,\\nere you were born was beauty's summer dead.\\nlet not my love be called idolatry,\\nnor my beloved as an idol show,\\nsince all alike my songs and praises be\\nto one, of one, still such, and ever so.\\nkind is my love to-day, to-morrow kind,\\nstill constant in a wondrous excellence,\\ntherefore my verse to constancy confined,\\none thing expressing, leaves out difference.\\nfair, kind, and true, is all my argument,\\nfair, kind, and true, varying to other words,\\nand in this change is my invention spent,\\nthree themes in one, which wondrous scope affords.\\nfair, kind, and true, have often lived alone.\\nwhich three till now, never kept seat in one.\\nwhen in the chronicle of wasted time,\\ni see descriptions of the fairest wights,\\nand beauty making beautiful old rhyme,\\nin praise of ladies dead, and lovely knights,\\nthen in the blazon of sweet beauty's best,\\nof hand, of foot, of lip, of eye, of brow,\\ni see their antique pen would have expressed,\\neven such a beauty as you master now.\\nso all their praises are but prophecies\\nof this our time, all you prefiguring,\\nand for they looked but with divining eyes,\\nthey had not skill enough your worth to sing:\\nfor we which now behold these present days,\\nhave eyes to wonder, but lack tongues to praise.\\nnot mine own fears, nor the prophetic soul,\\nof the wide world, dreaming on things to come,\\ncan yet the lease of my true love control,\\nsupposed as forfeit to a confined doom.\\nthe mortal moon hath her eclipse endured,\\nand the sad augurs mock their own presage,\\nincertainties now crown themselves assured,\\nand peace proclaims olives of endless age.\\nnow with the drops of this most balmy time,\\nmy love looks fresh, and death to me subscribes,\\nsince spite of him i'll live in this poor rhyme,\\nwhile he insults o'er dull and speechless tribes.\\nand thou in this shalt find thy monument,\\nwhen tyrants' crests and tombs of brass are spent.\\nwhat's in the brain that ink may character,\\nwhich hath not figured to thee my true spirit,\\nwhat's new to speak, what now to register,\\nthat may express my love, or thy dear merit?\\nnothing sweet boy, but yet like prayers divine,\\ni must each day say o'er the very same,\\ncounting no old thing old, thou mine, i thine,\\neven as when first i hallowed thy fair name.\\nso that eternal love in love's fresh case,\\nweighs not the dust and injury of age,\\nnor gives to necessary wrinkles place,\\nbut makes antiquity for aye his page,\\nfinding the first conceit of love there bred,\\nwhere time and outward form would show it dead.\\no never say that i was false of heart,\\nthough absence seemed my flame to qualify,\\nas easy might i from my self depart,\\nas from my soul which in thy breast doth lie:\\nthat is my home of love, if i have ranged,\\nlike him that travels i return again,\\njust to the time, not with the time exchanged,\\nso that my self bring water for my stain,\\nnever believe though in my nature reigned,\\nall frailties that besiege all kinds of blood,\\nthat it could so preposterously be stained,\\nto leave for nothing all thy sum of good:\\nfor nothing this wide universe i call,\\nsave thou my rose, in it thou art my all.\\nalas 'tis true, i have gone here and there,\\nand made my self a motley to the view,\\ngored mine own thoughts, sold cheap what is most dear,\\nmade old offences of affections new.\\nmost true it is, that i have looked on truth\\naskance and strangely: but by all above,\\nthese blenches gave my heart another youth,\\nand worse essays proved thee my best of love.\\nnow all is done, have what shall have no end,\\nmine appetite i never more will grind\\non newer proof, to try an older friend,\\na god in love, to whom i am confined.\\nthen give me welcome, next my heaven the best,\\neven to thy pure and most most loving breast.\\no for my sake do you with fortune chide,\\nthe guilty goddess of my harmful deeds,\\nthat did not better for my life provide,\\nthan public means which public manners breeds.\\nthence comes it that my name receives a brand,\\nand almost thence my nature is subdued\\nto what it works in, like the dyer's hand:\\npity me then, and wish i were renewed,\\nwhilst like a willing patient i will drink,\\npotions of eisel 'gainst my strong infection,\\nno bitterness that i will bitter think,\\nnor double penance to correct correction.\\npity me then dear friend, and i assure ye,\\neven that your pity is enough to cure me.\\nyour love and pity doth th' impression fill,\\nwhich vulgar scandal stamped upon my brow,\\nfor what care i who calls me well or ill,\\nso you o'er-green my bad, my good allow?\\nyou are my all the world, and i must strive,\\nto know my shames and praises from your tongue,\\nnone else to me, nor i to none alive,\\nthat my steeled sense or changes right or wrong.\\nin so profound abysm i throw all care\\nof others' voices, that my adder's sense,\\nto critic and to flatterer stopped are:\\nmark how with my neglect i do dispense.\\nyou are so strongly in my purpose bred,\\nthat all the world besides methinks are dead.\\nsince i left you, mine eye is in my mind,\\nand that which governs me to go about,\\ndoth part his function, and is partly blind,\\nseems seeing, but effectually is out:\\nfor it no form delivers to the heart\\nof bird, of flower, or shape which it doth latch,\\nof his quick objects hath the mind no part,\\nnor his own vision holds what it doth catch:\\nfor if it see the rud'st or gentlest sight,\\nthe most sweet favour or deformed'st creature,\\nthe mountain, or the sea, the day, or night:\\nthe crow, or dove, it shapes them to your feature.\\nincapable of more, replete with you,\\nmy most true mind thus maketh mine untrue.\\nor whether doth my mind being crowned with you\\ndrink up the monarch's plague this flattery?\\nor whether shall i say mine eye saith true,\\nand that your love taught it this alchemy?\\nto make of monsters, and things indigest,\\nsuch cherubins as your sweet self resemble,\\ncreating every bad a perfect best\\nas fast as objects to his beams assemble:\\no 'tis the first, 'tis flattery in my seeing,\\nand my great mind most kingly drinks it up,\\nmine eye well knows what with his gust is 'greeing,\\nand to his palate doth prepare the cup.\\nif it be poisoned, 'tis the lesser sin,\\nthat mine eye loves it and doth first begin.\\nthose lines that i before have writ do lie,\\neven those that said i could not love you dearer,\\nyet then my judgment knew no reason why,\\nmy most full flame should afterwards burn clearer,\\nbut reckoning time, whose millioned accidents\\ncreep in 'twixt vows, and change decrees of kings,\\ntan sacred beauty, blunt the sharp'st intents,\\ndivert strong minds to the course of alt'ring things:\\nalas why fearing of time's tyranny,\\nmight i not then say 'now i love you best,'\\nwhen i was certain o'er incertainty,\\ncrowning the present, doubting of the rest?\\nlove is a babe, then might i not say so\\nto give full growth to that which still doth grow.\\nlet me not to the marriage of true minds\\nadmit impediments, love is not love\\nwhich alters when it alteration finds,\\nor bends with the remover to remove.\\no no, it is an ever-fixed mark\\nthat looks on tempests and is never shaken;\\nit is the star to every wand'ring bark,\\nwhose worth's unknown, although his height be taken.\\nlove's not time's fool, though rosy lips and cheeks\\nwithin his bending sickle's compass come,\\nlove alters not with his brief hours and weeks,\\nbut bears it out even to the edge of doom:\\nif this be error and upon me proved,\\ni never writ, nor no man ever loved.\\naccuse me thus, that i have scanted all,\\nwherein i should your great deserts repay,\\nforgot upon your dearest love to call,\\nwhereto all bonds do tie me day by day,\\nthat i have frequent been with unknown minds,\\nand given to time your own dear-purchased right,\\nthat i have hoisted sail to all the winds\\nwhich should transport me farthest from your sight.\\nbook both my wilfulness and errors down,\\nand on just proof surmise, accumulate,\\nbring me within the level of your frown,\\nbut shoot not at me in your wakened hate:\\nsince my appeal says i did strive to prove\\nthe constancy and virtue of your love.\\nlike as to make our appetite more keen\\nwith eager compounds we our palate urge,\\nas to prevent our maladies unseen,\\nwe sicken to shun sickness when we purge.\\neven so being full of your ne'er-cloying sweetness,\\nto bitter sauces did i frame my feeding;\\nand sick of welfare found a kind of meetness,\\nto be diseased ere that there was true needing.\\nthus policy in love t' anticipate\\nthe ills that were not, grew to faults assured,\\nand brought to medicine a healthful state\\nwhich rank of goodness would by ill be cured.\\nbut thence i learn and find the lesson true,\\ndrugs poison him that so feil sick of you.\\nwhat potions have i drunk of siren tears\\ndistilled from limbecks foul as hell within,\\napplying fears to hopes, and hopes to fears,\\nstill losing when i saw my self to win!\\nwhat wretched errors hath my heart committed,\\nwhilst it hath thought it self so blessed never!\\nhow have mine eyes out of their spheres been fitted\\nin the distraction of this madding fever!\\no benefit of ill, now i find true\\nthat better is, by evil still made better.\\nand ruined love when it is built anew\\ngrows fairer than at first, more strong, far greater.\\nso i return rebuked to my content,\\nand gain by ills thrice more than i have spent.\\nthat you were once unkind befriends me now,\\nand for that sorrow, which i then did feel,\\nneeds must i under my transgression bow,\\nunless my nerves were brass or hammered steel.\\nfor if you were by my unkindness shaken\\nas i by yours, y'have passed a hell of time,\\nand i a tyrant have no leisure taken\\nto weigh how once i suffered in your crime.\\no that our night of woe might have remembered\\nmy deepest sense, how hard true sorrow hits,\\nand soon to you, as you to me then tendered\\nthe humble salve, which wounded bosoms fits!\\nbut that your trespass now becomes a fee,\\nmine ransoms yours, and yours must ransom me.\\n'tis better to be vile than vile esteemed,\\nwhen not to be, receives reproach of being,\\nand the just pleasure lost, which is so deemed,\\nnot by our feeling, but by others' seeing.\\nfor why should others' false adulterate eyes\\ngive salutation to my sportive blood?\\nor on my frailties why are frailer spies,\\nwhich in their wills count bad what i think good?\\nno, i am that i am, and they that level\\nat my abuses, reckon up their own,\\ni may be straight though they themselves be bevel;\\nby their rank thoughts, my deeds must not be shown\\nunless this general evil they maintain,\\nall men are bad and in their badness reign.\\nthy gift, thy tables, are within my brain\\nfull charactered with lasting memory,\\nwhich shall above that idle rank remain\\nbeyond all date even to eternity.\\nor at the least, so long as brain and heart\\nhave faculty by nature to subsist,\\ntill each to razed oblivion yield his part\\nof thee, thy record never can be missed:\\nthat poor retention could not so much hold,\\nnor need i tallies thy dear love to score,\\ntherefore to give them from me was i bold,\\nto trust those tables that receive thee more:\\nto keep an adjunct to remember thee\\nwere to import forgetfulness in me.\\nno! time, thou shalt not boast that i do change,\\nthy pyramids built up with newer might\\nto me are nothing novel, nothing strange,\\nthey are but dressings of a former sight:\\nour dates are brief, and therefore we admire,\\nwhat thou dost foist upon us that is old,\\nand rather make them born to our desire,\\nthan think that we before have heard them told:\\nthy registers and thee i both defy,\\nnot wond'ring at the present, nor the past,\\nfor thy records, and what we see doth lie,\\nmade more or less by thy continual haste:\\nthis i do vow and this shall ever be,\\ni will be true despite thy scythe and thee.\\nif my dear love were but the child of state,\\nit might for fortune's bastard be unfathered,\\nas subject to time's love or to time's hate,\\nweeds among weeds, or flowers with flowers gathered.\\nno it was builded far from accident,\\nit suffers not in smiling pomp, nor falls\\nunder the blow of thralled discontent,\\nwhereto th' inviting time our fashion calls:\\nit fears not policy that heretic,\\nwhich works on leases of short-numbered hours,\\nbut all alone stands hugely politic,\\nthat it nor grows with heat, nor drowns with showers.\\nto this i witness call the fools of time,\\nwhich die for goodness, who have lived for crime.\\nwere't aught to me i bore the canopy,\\nwith my extern the outward honouring,\\nor laid great bases for eternity,\\nwhich proves more short than waste or ruining?\\nhave i not seen dwellers on form and favour\\nlose all, and more by paying too much rent\\nfor compound sweet; forgoing simple savour,\\npitiful thrivers in their gazing spent?\\nno, let me be obsequious in thy heart,\\nand take thou my oblation, poor but free,\\nwhich is not mixed with seconds, knows no art,\\nbut mutual render, only me for thee.\\nhence, thou suborned informer, a true soul\\nwhen most impeached, stands least in thy control.\\no thou my lovely boy who in thy power,\\ndost hold time's fickle glass his fickle hour:\\nwho hast by waning grown, and therein show'st,\\nthy lovers withering, as thy sweet self grow'st.\\nif nature (sovereign mistress over wrack)\\nas thou goest onwards still will pluck thee back,\\nshe keeps thee to this purpose, that her skill\\nmay time disgrace, and wretched minutes kill.\\nyet fear her o thou minion of her pleasure,\\nshe may detain, but not still keep her treasure!\\nher audit (though delayed) answered must be,\\nand her quietus is to render thee.\\nin the old age black was not counted fair,\\nor if it were it bore not beauty's name:\\nbut now is black beauty's successive heir,\\nand beauty slandered with a bastard shame,\\nfor since each hand hath put on nature's power,\\nfairing the foul with art's false borrowed face,\\nsweet beauty hath no name no holy bower,\\nbut is profaned, if not lives in disgrace.\\ntherefore my mistress' eyes are raven black,\\nher eyes so suited, and they mourners seem,\\nat such who not born fair no beauty lack,\\nslandering creation with a false esteem,\\nyet so they mourn becoming of their woe,\\nthat every tongue says beauty should look so.\\nhow oft when thou, my music, music play'st,\\nupon that blessed wood whose motion sounds\\nwith thy sweet fingers when thou gently sway'st\\nthe wiry concord that mine ear confounds,\\ndo i envy those jacks that nimble leap,\\nto kiss the tender inward of thy hand,\\nwhilst my poor lips which should that harvest reap,\\nat the wood's boldness by thee blushing stand.\\nto be so tickled they would change their state\\nand situation with those dancing chips,\\no'er whom thy fingers walk with gentle gait,\\nmaking dead wood more blest than living lips,\\nsince saucy jacks so happy are in this,\\ngive them thy fingers, me thy lips to kiss.\\nth' expense of spirit in a waste of shame\\nis lust in action, and till action, lust\\nis perjured, murd'rous, bloody full of blame,\\nsavage, extreme, rude, cruel, not to trust,\\nenjoyed no sooner but despised straight,\\npast reason hunted, and no sooner had\\npast reason hated as a swallowed bait,\\non purpose laid to make the taker mad.\\nmad in pursuit and in possession so,\\nhad, having, and in quest, to have extreme,\\na bliss in proof and proved, a very woe,\\nbefore a joy proposed behind a dream.\\nall this the world well knows yet none knows well,\\nto shun the heaven that leads men to this hell.\\nmy mistress' eyes are nothing like the sun,\\ncoral is far more red, than her lips red,\\nif snow be white, why then her breasts are dun:\\nif hairs be wires, black wires grow on her head:\\ni have seen roses damasked, red and white,\\nbut no such roses see i in her cheeks,\\nand in some perfumes is there more delight,\\nthan in the breath that from my mistress reeks.\\ni love to hear her speak, yet well i know,\\nthat music hath a far more pleasing sound:\\ni grant i never saw a goddess go,\\nmy mistress when she walks treads on the ground.\\nand yet by heaven i think my love as rare,\\nas any she belied with false compare.\\nthou art as tyrannous, so as thou art,\\nas those whose beauties proudly make them cruel;\\nfor well thou know'st to my dear doting heart\\nthou art the fairest and most precious jewel.\\nyet in good faith some say that thee behold,\\nthy face hath not the power to make love groan;\\nto say they err, i dare not be so bold,\\nalthough i swear it to my self alone.\\nand to be sure that is not false i swear,\\na thousand groans but thinking on thy face,\\none on another's neck do witness bear\\nthy black is fairest in my judgment's place.\\nin nothing art thou black save in thy deeds,\\nand thence this slander as i think proceeds.\\nthine eyes i love, and they as pitying me,\\nknowing thy heart torment me with disdain,\\nhave put on black, and loving mourners be,\\nlooking with pretty ruth upon my pain.\\nand truly not the morning sun of heaven\\nbetter becomes the grey cheeks of the east,\\nnor that full star that ushers in the even\\ndoth half that glory to the sober west\\nas those two mourning eyes become thy face:\\no let it then as well beseem thy heart\\nto mourn for me since mourning doth thee grace,\\nand suit thy pity like in every part.\\nthen will i swear beauty herself is black,\\nand all they foul that thy complexion lack.\\nbeshrew that heart that makes my heart to groan\\nfor that deep wound it gives my friend and me;\\nis't not enough to torture me alone,\\nbut slave to slavery my sweet'st friend must be?\\nme from my self thy cruel eye hath taken,\\nand my next self thou harder hast engrossed,\\nof him, my self, and thee i am forsaken,\\na torment thrice three-fold thus to be crossed:\\nprison my heart in thy steel bosom's ward,\\nbut then my friend's heart let my poor heart bail,\\nwhoe'er keeps me, let my heart be his guard,\\nthou canst not then use rigour in my gaol.\\nand yet thou wilt, for i being pent in thee,\\nperforce am thine and all that is in me.\\nso now i have confessed that he is thine,\\nand i my self am mortgaged to thy will,\\nmy self i'll forfeit, so that other mine,\\nthou wilt restore to be my comfort still:\\nbut thou wilt not, nor he will not be free,\\nfor thou art covetous, and he is kind,\\nhe learned but surety-like to write for me,\\nunder that bond that him as fist doth bind.\\nthe statute of thy beauty thou wilt take,\\nthou usurer that put'st forth all to use,\\nand sue a friend, came debtor for my sake,\\nso him i lose through my unkind abuse.\\nhim have i lost, thou hast both him and me,\\nhe pays the whole, and yet am i not free.\\nwhoever hath her wish, thou hast thy will,\\nand 'will' to boot, and 'will' in over-plus,\\nmore than enough am i that vex thee still,\\nto thy sweet will making addition thus.\\nwilt thou whose will is large and spacious,\\nnot once vouchsafe to hide my will in thine?\\nshall will in others seem right gracious,\\nand in my will no fair acceptance shine?\\nthe sea all water, yet receives rain still,\\nand in abundance addeth to his store,\\nso thou being rich in will add to thy will\\none will of mine to make thy large will more.\\nlet no unkind, no fair beseechers kill,\\nthink all but one, and me in that one 'will.'\\nif thy soul check thee that i come so near,\\nswear to thy blind soul that i was thy 'will',\\nand will thy soul knows is admitted there,\\nthus far for love, my love-suit sweet fulfil.\\n'will', will fulfil the treasure of thy love,\\nay, fill it full with wills, and my will one,\\nin things of great receipt with case we prove,\\namong a number one is reckoned none.\\nthen in the number let me pass untold,\\nthough in thy store's account i one must be,\\nfor nothing hold me, so it please thee hold,\\nthat nothing me, a something sweet to thee.\\nmake but my name thy love, and love that still,\\nand then thou lov'st me for my name is will.\\nthou blind fool love, what dost thou to mine eyes,\\nthat they behold and see not what they see?\\nthey know what beauty is, see where it lies,\\nyet what the best is, take the worst to be.\\nif eyes corrupt by over-partial looks,\\nbe anchored in the bay where all men ride,\\nwhy of eyes' falsehood hast thou forged hooks,\\nwhereto the judgment of my heart is tied?\\nwhy should my heart think that a several plot,\\nwhich my heart knows the wide world's common place?\\nor mine eyes seeing this, say this is not\\nto put fair truth upon so foul a face?\\nin things right true my heart and eyes have erred,\\nand to this false plague are they now transferred.\\nwhen my love swears that she is made of truth,\\ni do believe her though i know she lies,\\nthat she might think me some untutored youth,\\nunlearned in the world's false subtleties.\\nthus vainly thinking that she thinks me young,\\nalthough she knows my days are past the best,\\nsimply i credit her false-speaking tongue,\\non both sides thus is simple truth suppressed:\\nbut wherefore says she not she is unjust?\\nand wherefore say not i that i am old?\\no love's best habit is in seeming trust,\\nand age in love, loves not to have years told.\\ntherefore i lie with her, and she with me,\\nand in our faults by lies we flattered be.\\no call not me to justify the wrong,\\nthat thy unkindness lays upon my heart,\\nwound me not with thine eye but with thy tongue,\\nuse power with power, and slay me not by art,\\ntell me thou lov'st elsewhere; but in my sight,\\ndear heart forbear to glance thine eye aside,\\nwhat need'st thou wound with cunning when thy might\\nis more than my o'erpressed defence can bide?\\nlet me excuse thee, ah my love well knows,\\nher pretty looks have been mine enemies,\\nand therefore from my face she turns my foes,\\nthat they elsewhere might dart their injuries:\\nyet do not so, but since i am near slain,\\nkill me outright with looks, and rid my pain.\\nbe wise as thou art cruel, do not press\\nmy tongue-tied patience with too much disdain:\\nlest sorrow lend me words and words express,\\nthe manner of my pity-wanting pain.\\nif i might teach thee wit better it were,\\nthough not to love, yet love to tell me so,\\nas testy sick men when their deaths be near,\\nno news but health from their physicians know.\\nfor if i should despair i should grow mad,\\nand in my madness might speak ill of thee,\\nnow this ill-wresting world is grown so bad,\\nmad slanderers by mad ears believed be.\\nthat i may not be so, nor thou belied,\\nbear thine eyes straight, though thy proud heart go wide.\\nin faith i do not love thee with mine eyes,\\nfor they in thee a thousand errors note,\\nbut 'tis my heart that loves what they despise,\\nwho in despite of view is pleased to dote.\\nnor are mine cars with thy tongue's tune delighted,\\nnor tender feeling to base touches prone,\\nnor taste, nor smell, desire to be invited\\nto any sensual feast with thee alone:\\nbut my five wits, nor my five senses can\\ndissuade one foolish heart from serving thee,\\nwho leaves unswayed the likeness of a man,\\nthy proud heart's slave and vassal wretch to be:\\nonly my plague thus far i count my gain,\\nthat she that makes me sin, awards me pain.\\nlove is my sin, and thy dear virtue hate,\\nhate of my sin, grounded on sinful loving,\\no but with mine, compare thou thine own state,\\nand thou shalt find it merits not reproving,\\nor if it do, not from those lips of thine,\\nthat have profaned their scarlet ornaments,\\nand sealed false bonds of love as oft as mine,\\nrobbed others' beds' revenues of their rents.\\nbe it lawful i love thee as thou lov'st those,\\nwhom thine eyes woo as mine importune thee,\\nroot pity in thy heart that when it grows,\\nthy pity may deserve to pitied be.\\nif thou dost seek to have what thou dost hide,\\nby self-example mayst thou be denied.\\nlo as a careful huswife runs to catch,\\none of her feathered creatures broke away,\\nsets down her babe and makes all swift dispatch\\nin pursuit of the thing she would have stay:\\nwhilst her neglected child holds her in chase,\\ncries to catch her whose busy care is bent,\\nto follow that which flies before her face:\\nnot prizing her poor infant's discontent;\\nso run'st thou after that which flies from thee,\\nwhilst i thy babe chase thee afar behind,\\nbut if thou catch thy hope turn back to me:\\nand play the mother's part, kiss me, be kind.\\nso will i pray that thou mayst have thy will,\\nif thou turn back and my loud crying still.\\ntwo loves i have of comfort and despair,\\nwhich like two spirits do suggest me still,\\nthe better angel is a man right fair:\\nthe worser spirit a woman coloured ill.\\nto win me soon to hell my female evil,\\ntempteth my better angel from my side,\\nand would corrupt my saint to be a devil:\\nwooing his purity with her foul pride.\\nand whether that my angel be turned fiend,\\nsuspect i may, yet not directly tell,\\nbut being both from me both to each friend,\\ni guess one angel in another's hell.\\nyet this shall i ne'er know but live in doubt,\\ntill my bad angel fire my good one out.\\nthose lips that love's own hand did make,\\nbreathed forth the sound that said 'i hate',\\nto me that languished for her sake:\\nbut when she saw my woeful state,\\nstraight in her heart did mercy come,\\nchiding that tongue that ever sweet,\\nwas used in giving gentle doom:\\nand taught it thus anew to greet:\\n'i hate' she altered with an end,\\nthat followed it as gentle day,\\ndoth follow night who like a fiend\\nfrom heaven to hell is flown away.\\n'i hate', from hate away she threw,\\nand saved my life saying 'not you'.\\npoor soul the centre of my sinful earth,\\nmy sinful earth these rebel powers array,\\nwhy dost thou pine within and suffer dearth\\npainting thy outward walls so costly gay?\\nwhy so large cost having so short a lease,\\ndost thou upon thy fading mansion spend?\\nshall worms inheritors of this excess\\neat up thy charge? is this thy body's end?\\nthen soul live thou upon thy servant's loss,\\nand let that pine to aggravate thy store;\\nbuy terms divine in selling hours of dross;\\nwithin be fed, without be rich no more,\\nso shall thou feed on death, that feeds on men,\\nand death once dead, there's no more dying then.\\nmy love is as a fever longing still,\\nfor that which longer nurseth the disease,\\nfeeding on that which doth preserve the ill,\\nth' uncertain sickly appetite to please:\\nmy reason the physician to my love,\\nangry that his prescriptions are not kept\\nhath left me, and i desperate now approve,\\ndesire is death, which physic did except.\\npast cure i am, now reason is past care,\\nand frantic-mad with evermore unrest,\\nmy thoughts and my discourse as mad men's are,\\nat random from the truth vainly expressed.\\nfor i have sworn thee fair, and thought thee bright,\\nwho art as black as hell, as dark as night.\\no me! what eyes hath love put in my head,\\nwhich have no correspondence with true sight,\\nor if they have, where is my judgment fled,\\nthat censures falsely what they see aright?\\nif that be fair whereon my false eyes dote,\\nwhat means the world to say it is not so?\\nif it be not, then love doth well denote,\\nlove's eye is not so true as all men's: no,\\nhow can it? o how can love's eye be true,\\nthat is so vexed with watching and with tears?\\nno marvel then though i mistake my view,\\nthe sun it self sees not, till heaven clears.\\no cunning love, with tears thou keep'st me blind,\\nlest eyes well-seeing thy foul faults should find.\\ncanst thou o cruel, say i love thee not,\\nwhen i against my self with thee partake?\\ndo i not think on thee when i forgot\\nam of my self, all-tyrant, for thy sake?\\nwho hateth thee that i do call my friend,\\non whom frown'st thou that i do fawn upon,\\nnay if thou lour'st on me do i not spend\\nrevenge upon my self with present moan?\\nwhat merit do i in my self respect,\\nthat is so proud thy service to despise,\\nwhen all my best doth worship thy defect,\\ncommanded by the motion of thine eyes?\\nbut love hate on for now i know thy mind,\\nthose that can see thou lov'st, and i am blind.\\no from what power hast thou this powerful might,\\nwith insufficiency my heart to sway,\\nto make me give the lie to my true sight,\\nand swear that brightness doth not grace the day?\\nwhence hast thou this becoming of things ill,\\nthat in the very refuse of thy deeds,\\nthere is such strength and warrantise of skill,\\nthat in my mind thy worst all best exceeds?\\nwho taught thee how to make me love thee more,\\nthe more i hear and see just cause of hate?\\no though i love what others do abhor,\\nwith others thou shouldst not abhor my state.\\nif thy unworthiness raised love in me,\\nmore worthy i to be beloved of thee.\\nlove is too young to know what conscience is,\\nyet who knows not conscience is born of love?\\nthen gentle cheater urge not my amiss,\\nlest guilty of my faults thy sweet self prove.\\nfor thou betraying me, i do betray\\nmy nobler part to my gross body's treason,\\nmy soul doth tell my body that he may,\\ntriumph in love, flesh stays no farther reason,\\nbut rising at thy name doth point out thee,\\nas his triumphant prize, proud of this pride,\\nhe is contented thy poor drudge to be,\\nto stand in thy affairs, fall by thy side.\\nno want of conscience hold it that i call,\\nher love, for whose dear love i rise and fall.\\nin loving thee thou know'st i am forsworn,\\nbut thou art twice forsworn to me love swearing,\\nin act thy bed-vow broke and new faith torn,\\nin vowing new hate after new love bearing:\\nbut why of two oaths' breach do i accuse thee,\\nwhen i break twenty? i am perjured most,\\nfor all my vows are oaths but to misuse thee:\\nand all my honest faith in thee is lost.\\nfor i have sworn deep oaths of thy deep kindness:\\noaths of thy love, thy truth, thy constancy,\\nand to enlighten thee gave eyes to blindness,\\nor made them swear against the thing they see.\\nfor i have sworn thee fair: more perjured i,\\nto swear against the truth so foul a be.\\ncupid laid by his brand and fell asleep,\\na maid of dian's this advantage found,\\nand his love-kindling fire did quickly steep\\nin a cold valley-fountain of that ground:\\nwhich borrowed from this holy fire of love,\\na dateless lively heat still to endure,\\nand grew a seeting bath which yet men prove,\\nagainst strange maladies a sovereign cure:\\nbut at my mistress' eye love's brand new-fired,\\nthe boy for trial needs would touch my breast,\\ni sick withal the help of bath desired,\\nand thither hied a sad distempered guest.\\nbut found no cure, the bath for my help lies,\\nwhere cupid got new fire; my mistress' eyes.\\nthe little love-god lying once asleep,\\nlaid by his side his heart-inflaming brand,\\nwhilst many nymphs that vowed chaste life to keep,\\ncame tripping by, but in her maiden hand,\\nthe fairest votary took up that fire,\\nwhich many legions of true hearts had warmed,\\nand so the general of hot desire,\\nwas sleeping by a virgin hand disarmed.\\nthis brand she quenched in a cool well by,\\nwhich from love's fire took heat perpetual,\\ngrowing a bath and healthful remedy,\\nfor men discased, but i my mistress' thrall,\\ncame there for cure and this by that i prove,\\nlove's fire heats water, water cools not love.\""
      ]
     },
     "execution_count": 3,
     "metadata": {},
     "output_type": "execute_result"
    }
   ],
   "source": [
    "sh_data = open(\"poem_data/shakespeare.txt\", \"r\").read()\n",
    "\n",
    "sh_data = sh_data.lower()\n",
    "sh_data = sh_data.replace(\"\\n  \", \"\\n\")\n",
    "sh_data = sh_data.replace(\"\\n\\n\\n\", \"\\n\")\n",
    "\n",
    "for num in [\"0\", \"1\", \"2\", \"3\", \"4\", \"5\", \"6\", \"7\", \"8\", \"9\"]:\n",
    "    sh_data = sh_data.replace(num, \"\")\n",
    "\n",
    "temp1 = sh_data.split(\"                   \")\n",
    "sh_data = temp1[1]\n",
    "temp2 = sh_data.split(\"                 \")\n",
    "sh_poems = [curr[1:] for curr in temp2]\n",
    "sh_data = \"\".join(sh_poems)\n",
    "sh_data"
   ]
  },
  {
   "cell_type": "code",
   "execution_count": 4,
   "id": "d8f83809",
   "metadata": {},
   "outputs": [
    {
     "data": {
      "text/plain": [
       "\"happy ye leaves when as those lily hands,\\nwhich hold my life in their dead-doing might, \\nshall handle you and hold in love's soft bands, \\nlike captives trembling at the victor's sight. \\nand happy lines, on which with starry light,\\nthose lamping eyes will deign sometimes to look \\nand read the sorrows of my dying sprite, \\nwritten with tears in heart's close-bleeding book. \\nand happy rhymes bath'd in the sacred brook,\\nof helicon whence she derived is, \\nwhen ye behold that angel's blessed look, \\nmy soul's long-lacked food, my heaven's bliss. \\nleaves, lines, and rhymes, seek her to please alone,\\nwhom if ye please, i care for other none. \\nunquiet thought, whom at the first i bred,\\nof th' inward bale of my love-pined heart: \\nand sithens have with sighs and sorrows fed, \\ntill greater then my womb thou woxen art. \\nbreak forth at length out of the inner part,\\nin which thou lurkest like to viper's brood: \\nand seek some succour both to ease my smart \\nand also to sustain thy self with food. \\nbut if in presence of that fairest proud\\nthou chance to come, fall lowly at her feet: \\nand with meek humbless and afflicted mood, \\npardon for thee, and grace for me entreat. \\nwhich if she grant, then live, and my love cherish,\\nif not, die soon, and i with thee will perish. \\nthou sovereign beauty which i do admire,\\nwitness the world how worthy to be praised: \\nthe light whereof hath kindled heavenly fire, \\nin my frail spirit by her from baseness raised. \\nthat being now with her huge brightness dazed,\\nbase things i can no more endure to view; \\nbut looking still on her i stand amazed, \\nat wondrous sight of so celestial hew. \\nso when my tongue would speak her praises due,\\nit stopped is with thought's astonishment: \\nand when my pen would write her titles true, \\nit ravished is with fancy's wonderment: \\nyet in my heart i then both speak and write\\nthe wonder that my wit cannot endite. \\nnew year forth looking out of janus' gate,\\ndoth seem to promise hope of new delight: \\nand bidding th' old adieu, his passed date \\nbids all old thoughts to die in dumpish sprite. \\nand calling forth out of sad winter's night,\\nfresh love, that long hath slept in cheerless bower: \\nwills him awake, and soon about him dight \\nhis wanton wings and darts of deadly power. \\nfor lusty spring now in his timely hour,\\nis ready to come forth him to receive; \\nand warns the earth with diverse colored flower, \\nto deck herself, and her fair mantle weave. \\nthen you fair flower, in whom fresh youth doth rain,\\nprepare yourself new love to entertain. \\nrudely thou wrongest my dear heart's desire,\\nin finding fault with her too portly pride: \\nthe thing which i do most in her admire, \\nis of the world unworthy most envied. \\nfor in those lofty looks is close implied,\\nscorn of base things, and sdeigne of foul dishonor: \\nthreatening rash eyes which gaze on her so wide, \\nthat loosely they ne dare to look upon her. \\nsuch pride is praise, such portliness is honor,\\nthat boldened innocence bears in her eyes: \\nand her fair countenance like a goodly banner, \\nspreads in defiance of all enemies. \\nwas never in this world ought worthy tried,\\nwithout some spark of such self-pleasing pride. \\nbe not dismayed that her unmoved mind\\ndoth still persist in her rebellious pride: \\nand love not like to lusts of baser kind, \\nthe harder won, the firmer will abide. \\nthe durefull oak, whose sap is not yet dried,\\nis long ere it conceive the kindling fire; \\nbut when it once doth burn, it doth divide, \\ngreat heat, and makes his flames to heaven aspire. \\nso hard it is to kindle new desire,\\nin gentle breast that shall endure for ever: \\ndeep is the wound, that dints the parts entire \\nwith chaste affects, that naught but death can sever. \\nthen think not long in taking little pain,\\nto knit the knot, that ever shall remain. \\nfair eyes, the mirror of my mazed heart,\\nwhat wondrous virtue is contained in you, \\nthe which both life and death forth from you dart \\ninto the object of your mighty view? \\nfor when ye mildly look with lovely hew,\\nthen is my soul with life and love inspired \\nbut when ye lour, or look on me askew, \\nthen do i die, as one with lightning fired. \\nbut since that life is more than death desired,\\nlook ever lovely, as becomes you best, \\nthat your bright beams of my weak eyes admired, \\nmay kindle living fire within my breast. \\nsuch life should be the honor of your light,\\nsuch death the sad ensample of your might. \\nmore than most fair, full of the living fire,\\nkindled above unto the maker near: \\nno eyes but joys, in which all powers conspire, \\nthat to the world naught else be counted dear. \\nthrough your bright beams doth not the blinded guest,\\nshoot out his darts to base affections wound: \\nbut angels come to lead frail minds to rest \\nin chaste desires on heavenly beauty bound. \\nyou frame my thoughts and fashion me within,\\nyou stop my tongue, and teach my heart to speak, \\nyou calm the storm that passion did begin, \\nstrong through your cause, but by your virtue weak. \\ndark is the world, where your light shined never;\\nwell is he born, that may behold you ever. \\nlong-while i sought to what i might compare\\nthose powerful eyes, which lighten my dark sprite, \\nyet find i nought on earth to which i dare \\nresemble th'image of their goodly light. \\nnot to the sun: for they do shine by night;\\nnor to the moon: for they are changed never; \\nnor to the stars: for they have purer sight; \\nnor to the fire: for they consume not ever; \\nnor to the lightening: for they still persever;\\nnor to the diamond: for they are more tender; \\nnor unto crystal: for nought may them sever; \\nnor unto glass: such baseness mought offend her; \\nthen to the maker self they likest be,\\nwhose light doth lighten all that here we see. \\nunrighteous lord of love, what law is this,\\nthat me thou makest thus tormented be: \\nthe whiles she lordeth in licentious bliss \\nof her freewill, scorning both thee and me. \\nsee how the tyraness doth joy to see\\nthe huge massacres which her eyes do make: \\nand humbled hearts brings captives unto thee, \\nthat thou of them mayst mighty vengeance take. \\nbut her proud heart do thou a little shake\\nand that high look, with which she doth comptroll \\nall this world's pride, bow to a baser make, \\nand all her faults in thy black book enroll. \\nthat i may laugh at her in equal sort,\\nas she doth laugh at me and makes my pain her sport. \\ndaily when i do seek and sew for peace,\\nand hostages do offer for my truth: \\nshe cruel warrior doth herself address \\nto battle, and the weary war renew'th. \\nnor will be moved with reason or with ruth,\\nto grant small respite to my restless toil: \\nbut greedily her fell intent persueth, \\nof my poor life to make unpityed spoil. \\nyet my poor life, all sorrows to assoyle,\\ni would her yield, her wrath to pacify: \\nbut then she seeks with torment and turmoil, \\nto force me live, and will not let me die. \\nall pain hath end and every war hath peace,\\nbut mine no price nor prayer may surcease. \\none day i sought with her heart-thrilling eyes\\nto make a truce, and terms to entertain; \\nall fearless then of so false enemies, \\nwhich sought me to entrap in treason's train. \\nso as i then disarmed did remain,\\na wicked ambush which lay hidden long \\nin the close court of her guileful eyen, \\nthence breaking forth did thick about me throng. \\ntoo feeble i t'abide the brunt so strong,\\nwas forced to yield myself into their hands: \\nwho me captiving straight with rigorous wrong, \\nhave ever since me kept in cruel bands. \\nso lady, now to you i do complain\\nagainst your eyes that justice i may gain. \\nin that proud port, which her so goodly graceth,\\nwhiles her fair face she rears up to the sky: \\nand to the ground her eyelids low embaseth, \\nmost goodly temperature ye may descry, \\nmild humbless mixed with awful majesty.\\nfor looking on the earth whence she was born, \\nher mind remembreth her mortality, \\nwhat so is fairest shall to earth return. \\nbut that same lofty countenance seems to scorn\\nbase thing, and think how she to heaven may climb: \\ntreading down earth as lothsome and forlorn, \\nthat hinders heavenly thoughts with drossy slime. \\nyet lowly still vouchsafe to look on me,\\nsuch lowliness shall make you lofty be. \\nreturn again my forces late dismayed,\\nunto the siege by you abondon'd quite, \\ngreat shame it is to leave like one afraid, \\nso fair a peace for one repulse so light. \\n'gainst such strong castles needeth greater might,\\nthan those small forts which ye were wont belay: \\nsuch haughty minds enur'd to hardy fight \\ndisdain to yield unto the first assay. \\nbring therefore all the forces that ye may,\\nand lay incessant battery to her heart, \\nplaints, prayers, vows, ruth, sorrow, and dismay, \\nthose engines can the proudest love convert. \\nand if those fail, fall down and die before her,\\nso dying live, and living do adore her. \\nye tradefull merchants, that with weary toil,\\ndo seek most precious things to make your gain; \\nand both the indias of their treasures spoil, \\nwhat needeth you to seek so far in vain? \\nfor lo my love doth in her self contain\\nall this world's riches that may far be found, \\nif saphires, lo her eyes be saphires plain, \\nif rubies, lo her lips be rubies sound: \\nif pearls, her teeth be pearls both pure and round;\\nif ivory, her forhead ivory weene; \\nif gold, her locks are finest gold on ground; \\nif silver, her fair hands are silver sheen. \\nbut that which fairest is, but few behold,\\nher mind adorned with virtues manifold. \\none day as i unwarily did gaze\\non those fair eyes my love's immortal light: \\nthe whiles my 'stonished heart stood in amaze, \\nthrough sweet illusion of her look's delight. \\ni mote perceive how in her glancing sight,\\nlegions of loves with little wings did fly: \\ndarting their deadly arrows fiery bright, \\nat every rash beholder passing by. \\none of those archers closely i did spy,\\naiming his arrow at my very heart: \\nwhen suddenly with twinkle of her eye, \\nthe damsel broke his misintended dart. \\nhad she not so done, sure i had been slain,\\nyet as it was, i hardly 'scaped with pain. \\nthe glorious portrait of that angel's face,\\nmade to amaze weak men's confused skill: \\nand this world's worthless glory to embase, \\nwhat pen, what pencil can express her fill? \\nfor though he colours could devise at will,\\nand eke his learned hand at pleasure guide, \\nleast trembling it his workmanship should spill, \\nyet many wondrous things there are beside. \\nthe sweet eye-glances, that like arrows glide,\\nthe charming smiles, that rob sense from the heart: \\nthe lovely pleasance and the lofty pride, \\ncannot expressed be by any art. \\na greater craftsman's hand thereto doth need,\\nthat can express the life of things indeed. \\nthe rolling wheel that runneth often round,\\nthe hardest steel in tract of time doth tear: \\nand drizling drops that often do redound, \\nthe firmest flint doth in continuance wear. \\nyet cannot i, with many a dropping tear,\\nand long entreaty, soften her hard heart: \\nthat she will once vouchsafe my plaint to hear, \\nor look with pity on my painful smart. \\nbut when i plead, she bids me play my part,\\nand when i weep, she says tears are but water: \\nand when i sigh, she says i know the art, \\nand when i wail she turns herself to laughter. \\nso do i weep, and wail, and plead in vain,\\nwhiles she as steel and flint doth still remain. \\nthe merry cuckoo, messenger of spring,\\nhis trumpet shrill hath thrice already sounded: \\nthat warns all lovers wait upon their king, \\nwho now is coming forth with garland crowned. \\nwith noise whereof the choir of birds resounded\\ntheir anthems sweet devised of love's praise, \\nthat all the woods their echoes back rebounded, \\nas if they knew the meaning of their lays. \\nbut 'mongst them all, which did love's honor raise\\nno word was heard of her that most it ought, \\nbut she his precept proudly disobeys, \\nand doth his idle message set at nought. \\ntherefore o love, unless she turn to thee\\nere cuckoo end, let her a rebel be. \\nin vain i seek and sue to her for grace,\\nand do mine humbled heart before her pour, \\nthe whiles her foot she in my neck doth place, \\nand tread my life down in the lowly floor. \\nand yet the lion that is lord of power,\\nand reighneth over every beast in field, \\nin his most pride disdaineth to devour \\nthe silly lamb that to his might doth yield. \\nbut she more cruel and more savage wild,\\nthen either lion or lioness: \\nshames not to be with guiltless blood defiled, \\nbut taketh glory in her cruelness. \\nfairer than fairest, let none ever say,\\nthat ye were blooded in a yielded prey. \\nwas it the work of nature or of art,\\nwhich tempered so the feature of her face, \\nthat pride and meekness mixed by equal part, \\ndo both appear t'adorn her beauty's grace? \\nfor with mild pleasance, which doth pride displace,\\nshe to her love doth lookers' eyes allure: \\nand with stern countenance back again doth chase \\ntheir looser looks that stir up lusts impure. \\nwith such strange terms her eyes she doth inure,\\nthat with one look she doth my life dismay: \\nand with another doth it straight recure, \\nher smile me draws, her frown me drives away. \\nthus doth she train and teach me with her looks,\\nsuch art of eyes i never read in books. \\nthis holy season fit to fast and pray,\\nmen to devotion ought to be inclined: \\ntherefore, i likewise on so holy day, \\nfor my sweet saint some service fit will find. \\nher temple fair is built within my mind,\\nin which her glorious image placed is, \\non which my thoughts do day and night attend \\nlike sacred priests that never think amiss. \\nthere i to her as th'author of my bliss\\nwill build an altar to appease her ire: \\nand on the same my heart will sacrifice, \\nburning in flames of pure and chaste desire: \\nthe which vouchsafe o godess to accept\\namongst thy dearest relics to be kept. \\npenelope for her ulysses' sake,\\ndevised a web her wooers to deceive; \\nin which the work that she all day did make \\nthe same at night she did again unreave. \\nsuch subtle craft my damsel doth conceive,\\nth'importune suit of my desire to shun: \\nfor all that i in many days do weave, \\nin one short hour i find by her undone. \\nso when i think to end that i begun,\\ni must begin and never bring to end: \\nfor with one look she spills that long i spun, \\nand with one word my whole year's work doth rend. \\nsuch labour like the spider's web i find,\\nwhose fruitless work is broken with least wind. \\nwhen i behold that beauty's wonderment,\\nand rare perfection of each goodly part; \\nof nature's skill the only complement, \\ni honor and admire the maker's art. \\nbut when i feel the bitter baleful smart,\\nwhich her fair eyes unwares do work in me: \\nthat death out of their shiny beams do dart, \\ni think that i a new pandora see; \\nwhom all the gods in council did agree,\\ninto this sinful world from heaven to send: \\nthat she to wicked men a scourge should be, \\nfor all their faults with which they did offend. \\nbut since ye are my scourge i will intreat,\\nthat for my faults ye will me gently beat. \\nhow long shall this like dying life endure,\\nand know no end of her own mystery: \\nbut waste and wear away in terms unsure, \\n'twixt fear and hope depending doubtfully? \\nyet better were at once to let me die,\\nand show the last ensample of your pride: \\nthan to torment me thus with cruelty, \\nto prove your power, which i too well have tried. \\nbut yet if in your hardened breast ye hide,\\na close intent at last to show me grace: \\nthen all the woes and wrecks which i abide, \\nas means of bliss i gladly will embrace. \\nand wish that more and greater they might be,\\nthat greater meede at last may turn to me. \\nsweet is the rose, but grows upon a briar;\\nsweet in the juniper, but sharp his bough; \\nsweet is the eglantine, but pricketh near; \\nsweet is the firbloom, but his branches rough. \\nsweet is the cypress, but his rind is tough,\\nsweet is the nut, but bitter is his pill; \\nsweet is the broom-flower, but yet sour enough; \\nand sweet is moly, but his root is ill. \\nso every sweet with sour is tempered still\\nthat maketh it be coveted the more: \\nfor easy things that may be got at will, \\nmost sorts of men do set but little store. \\nwhy then should i account of little pain,\\nthat endless pleasure shall unto me gain. \\nfair proud now tell me why should fair be proud,\\nsith all world's glory is but dross unclean: \\nand in the shade of death itself shall shroud, \\nbut ever now thereof ye little weene. \\nthat goodly idol now so gay beseen,\\nshall doff her flesh's borrowed fair attire: \\nand be forgot as it had never been, \\nthat many now much worship and admire. \\nne any then shall after it inquire,\\nne any mention shall thereof remain: \\nbut what this verse, that never shall expire, \\nshall to you purchase with her thankless pain. \\nfair be no longer proud of that shall perish,\\nbut that which shall you make immortal, cherish. \\nthe laurel leaf, which you this day do wear,\\ngives me great hope of your relenting mind: \\nfor since it is the badge which i do bear, \\nye wearing it do seem to me inclined: \\nthe power thereof, which of in me i find,\\nlet in likewise your gentle breast inspire \\nwith sweet infusion, and put you in mind \\nof that proud maid, whom now those leave attire: \\nproud daphne scorning phoebus' lovely fire,\\non the thessalian shore from him did fly: \\nfor which the gods in their revengeful ire \\ndid her transform into a laurel tree. \\nthen fly no more fair love from phoebus' chace,\\nbut in your breast his leaf and love embrace. \\nsee how the stubborn damsel doth deprave\\nmy simple meaning with disdainful scorn: \\nand by the bay which i unto her gave, \\naccounts myself her captive quite forlorn. \\nthe bay (quoth she) is of the victors borne,\\nyielded them by the vanquished as their meeds, \\nand they therewith do poets' heads adorn, \\nto sing the glory of their famous deeds. \\nbut sith she will the conquest challenge needs,\\nlet her accept me as her faithful thrall, \\nthat her great triumph which my skill exceeds, \\ni may in trump of fame blaze over all. \\nthen would i deck her head with glorious bays,\\nand fill the world with her victorious praise. \\nmy love is like to ice, and i to fire;\\nhow comes it then that this her cold so great \\nis not dissolved through my so-hot desire, \\nbut harder grows the more i her intreat? \\nor how comes it that my exceeding heat\\nis not delayed by her heart frozen cold; \\nbut that i burn much more in boiling sweat, \\nand feel my flames augmented manifold? \\nwhat more miraculous thing may be told\\nthat fire which all things melts, should harden ice: \\nand ice which is congealed with senseless cold, \\nshould kindle fire by wonderful device? \\nsuch is the power of love in gentle mind,\\nthat it can alter all the course of kind. \\nah why hath nature to so hard a heart\\ngiven so goodly gifts of beauty's grace?\\nwhose pride depraves each other better part,\\nand all those pretty ornaments deface.\\nsith to all other beasts of bloody race,\\na dreadful countenance she given hath,\\nthat with their terror all the rest may chase,\\nand warn to shun the danger of their wrath.\\nbut my proud one doth work the greater scath,\\nthrough sweet allurement of her lovely hue:\\nthat she the better may in bloody bath\\nof such poor thralls her cruel hands embrew.\\nbut did she know how ill these two accord,\\nsuch cruelty she would have soon abhored.\\nthe painful smith with force of fervent heat,\\nthe hardest iron soon doth mollify:\\nthat with his heavy sledge he can it beat,\\nand fashion to what he it list apply.\\nyet cannot all these flames in which i fry,\\nher heart more hard than iron soft a whit:\\nne all the plaints and prayers with which i\\ndo beat on th'anvil of her stubborn wit;\\nbut still the more she fervent sees my fit,\\nthe more she frieseth in her willful pride:\\nand harder grows the harder she is smit,\\nwith all the plaints which to her be applied.\\nwhat then remains but i to ashes burn,\\nand she to stones at length all frozen turn?\\ngreat wrong i do, i can it not deny,\\nto that most sacred empress my dear dread,\\nnot finishing her queen of fa&ed.ry,\\nthat mote enlarge her living praises dead;\\nbut lodwick, this of grace to me aread:\\ndo ye not think the'accomplishment of it,\\nsufficient work for one man's simple head,\\nall were it as the rest but rudely writ.\\nhow then should i without another wit,\\nthink ever to endure so tedious toil,\\nsins that this one is tossed with troublous fit,\\nof a proud love, that both my spirit spoil.\\ncease then, till she vouchsafe to grant me rest,\\nor lend you me another loving breast.\\nlike a ship that through the ocean wide,\\nby conduct of some star doth make her way,\\nwhenas a storm hath dimmed her trusty guide,\\nout of her course doth wander far astray.\\nso i whose star, that wont with her bright ray,\\nme to direct, with clouds is overcast,\\ndo wander now in darkness and dismay,\\nthrough hidden perils round about me plast.\\nyet hope i well, that when this storm is past\\nmy helice the lodestar of my life\\nwill shine again, and look on me at last,\\nwith lovely light to clear my cloudy grief.\\ntill then i wander carefull comfortless,\\nin secret sorrow and sad pensiveness.\\nmy hungry eyes through greedy covetize,\\nstill to behold the object of their pain,\\nwith no contentment can themselves suffice:\\nbut having pine and having not complain.\\nfor lacking it they cannot life sustain,\\nand having it they gaze on it the more:\\nin their amazement like narcissus vain\\nwhose eyes him starv'd: so plenty makes me poor.\\nyet are mine eyes so filled with the store\\nof that fair sight, that nothing else they brook,\\nbut loath the things which they did like before,\\nand can no more endure on them to look.\\nall this world's glory seemeth vain to me,\\nand all their shows but shadows, saving she.\\ntell me when shall these weary woes have end,\\nor shall their ruthless torment never cease:\\nbut all my days in pining langor spend,\\nwithout hope of aswagement or release.\\nis there no means for me to purchase peace,\\nor make agreement with her thrilling eyes:\\nbut that their cruelty doth still increase,\\nand daily more augment my miseries.\\nbut when ye have shewed all extermities,\\nthen think how little glory ye have gained:\\nby slaying him, whose life though ye dispise,\\nmote have your life in honour long maintained.\\nbut by his death which some perhaps will moan,\\nye shall condemned be of many a one.\\nwhat guile is this, that those her golden tresses,\\nshe doth attire under a net of gold:\\nand with sly skill so cunningly them dresses,\\nthat which is gold or hair, may scarce be told?\\nis it that men's frail eyes, which gaze too bold,\\nshe may entangle in that golden snare:\\nand being caught may craftily enfold,\\ntheir weaker hearts, which are not well aware?\\ntake heed therefore, mine eyes, how ye do stare\\nhenceforth too rashly on that guileful net,\\nin which if ever ye entrapped are,\\nout of her bands ye by no means shall get.\\nfondness it were for any being free,\\nto covet fetters, though they golden be.\\narion, when through tempests' cruel wrack,\\nhe forth was thrown into the greedy seas:\\nthrough the sweet music which his harp did make\\nallured a dolphin him from death to ease.\\nbut my rude music, which was wont to please\\nsome dainty ears, cannot with any skill,\\nthe dreadful tempest of her wrath appease,\\nnor move the dolphin from her stubborn will.\\nbut in her pride she doth persever still,\\nall careless how my life for her decays:\\nyet with one word she can in save or spill,\\nto spill were pitty, but to save were praise.\\nchoose rather to be praised for doing good,\\nthan to be blam'd for spilling guiltless blood.\\nsweet smile, the daughter of the queen of love,\\nexpressing all thy mother's powerful art:\\nwith which she wonts to temper angry jove,\\nwhen all the gods he threats with thund'ring dart.\\nsweet is thy virtue as thy self sweet art,\\nfor when on me thou shinedst late in sadness,\\na melting pleasance ran through every part,\\nand me revived with heart robbing gladness.\\nwhylest rapt with joy resembling heavenly madness,\\nmy soul was ravished quite as in a trance:\\nand feeling thence no more her sorrow's sadness,\\nfed on the fullness of that cheerful glance,\\nmore sweet than nectar or ambrosial meat,\\nseemed every bit, which thenceforth i did eat.\\nmark when she smiles with amiable cheer,\\nand tell me whereto can ye liken it:\\nwhen on each eyelid sweetly do appear\\nan hundred graces as in shade to sit.\\nlikest it seemeth in my simple wit\\nunto the fair sunshine in summer's day:\\nthat when a dreadful storm away is flit,\\nthrough the broad world doth spread his goodly ray:\\nat sight whereof each bird that sits on spray,\\nand every beast that to his den was fled\\ncomes forth afresh out of their late dismay,\\nand to the light lift up their drooping head.\\nso my storm-beaten heart likewise is cheered,\\nwith that sunshine when cloudy looks are cleared.\\nis it her nature or is it her will,\\nto be so cruel to an humbled foe?\\nif nature, then she may it mend with skill,\\nif will, then she at will may will forgo.\\nbut if her nature and her will be so,\\nthat she will plague the man that loves her most:\\nand take delight t'increase a wretch's woe,\\nthen all her nature's goodly gifts are lost.\\nand that same glorious beauty's idle boast,\\nis but a bait such wretches to beguile:\\nas being long in her love's tempest tossed,\\nshe means at last to make her piteous spoil.\\nof fairest fair let never it be named,\\nthat so fair beauty was so foully shamed.\\nthe love which me so cruelly tormenteth,\\nso pleasing is in my extremest pain:\\nthat all the more my sorrow it augmenteth,\\nthe more i love and do embrace my bane.\\nne do i wish (for wishing were but vain)\\nto be acquit from my continual smart:\\nbut joy her thrall for ever to remain,\\nand yield for pledge my poor captived heart;\\nthe which that it from her may never start,\\nlet her, if please her, bind with adamant chain:\\nand from all wandering loves which mote pervert,\\nhis safe assurance strongly it restrain.\\nonly let her abstain from cruelty,\\nand do me not before my time to die.\\nshall i then silent be or shall i speak?\\nand if i speak, her wrath renew i shall:\\nand if i silent be, my heart will break,\\nor choked be with overflowing gall.\\nwhat tyranny is this both my heart to thrall,\\nand eke my tongue with proud restraint to tie?\\nthat neither i may speak nor think at all,\\nbut like a stupid stock in silence die.\\nyet i my heart with silence secretly\\nwill teach to speak, and my just cause to plead:\\nand eke mine eyes with meek humility,\\nlove-learned letters to her eyes to read.\\nwhich her deep wit, that true hearts' thought can spell,\\nwill soon conceive, and learn to construe well.\\nwhen those renowned noble peers of greece,\\nthrough stubborn pride amongst themselves did war,\\nforgetful of the famous golden fleece,\\nthen orpheus with his harp their strife did bar.\\nbut this continual cruel civil war\\nthe which myself against myself do make:\\nwhilest my weak powers of passions warried are,\\nno skill can stint nor reason can aslake.\\nbut when in hand my tuneless harp i take,\\nthen do i more augment my foes' despight:\\nand grief renew, and passions do awake\\nto battle, fresh against myself to fight.\\n'mongst whom the more i seek to settle peace,\\nthe more i find their malice to increase.\\nleave, lady, in your glass of crystal clean,\\nyour goodly self for evermore to view:\\nand in myself, my inward self i mean,\\nmost lively like behold your semblance true.\\nwithin my heart, though hardly it can shew\\nthing so divine to view of earthly eye,\\nthe fair idea of your celestial hue,\\nand every part remains immortally:\\nand were it not that through your cruelty,\\nwith sorrow dimmed and deformed it were:\\nthe goodly image of your visnomy,\\ndearer than crystal would therein appear.\\nbut if yourself in me ye plain will see,\\nremove the cause by which your fair beams darkened be.\\nwhen my abode's prefixed time is spent,\\nmy cruel fair straight bids me wend my way:\\nbut then from heaven most hideous storms are sent\\nas willing me against her will to stay.\\nwhom then shall i or heaven or her obey?\\nthe heavens know best what is the best form:\\nbut as she will, whose will my life doth sway,\\nmy lower heaven, so it perforce must be.\\nbut ye high heavens, that all this sorrow see,\\nsith all your tempests cannot hold me back:\\naswage your storms, or else both you and she,\\nwill both together me too sorely wrack.\\nenough it is for one man to sustain\\nthe storms, which she alone on me doth rain.\\ntrust not the treason of those smiling looks,\\nuntil ye have their guilefull trains well tried;\\nfor they are like but unto golden hooks,\\nthat from the foolish fish their baits do hide:\\nso she with flattering smiles weak hearts doth guide\\nunto her love, and tempt to their decay,\\nwhom being caught she kills with cruel pride,\\nand feeds at pleasure on the wretched pray:\\nyet even whilst her bloody hands them slay,\\nher eyes look lovely and upon them smile:\\nthat they take pleasure in her cruel play,\\nand dying do themselves of pain beguile.\\no mighty charm which makes men love their bane,\\nand think they die with pleasure, live with pain.\\ninnocent paper, whom too cruel hand\\ndid make the matter to avenge her ire:\\nand ere she could thy cause well understand,\\ndid sacrifice unto the greedy fire.\\nwell worthy thou to have found better hire,\\nthen so bad end for heretics ordained;\\nyet heresy nor treason didst conspire,\\nbut plead thy master's cause unjustly pained.\\nwhom she all careless of his grief contrained\\nto utter forth the anguish of his heart;\\nand would not hear, when he to her complained,\\nthe piteous passion of his dying smart.\\nyet live for ever, though against her will,\\nand speak her good, though she requite it ill.\\nfair cruel, why are you so fierce and cruel?\\nis it because your eyes have power to kill?\\nthen know, that mercy is the mightiest jewel,\\nand greater glory think to save, than spill.\\nbut if it be your pleasure and proud will,\\nto show the power of your imperious eyes:\\nthen not on him that never thought you ill,\\nbut bend your force against your enemies.\\nlet them feel th'utmost of your cruelties,\\nand kill with looks, as cockatrices do:\\nbut him that at your footstool humbled lies,\\nwith merciful regard, give mercy to.\\nsuch mercy shall you make admired to be,\\nso shall you live by giving life to me.\\nlong languishing in double malady,\\nof my heart's wound and of my body's grief,\\nthere came to me a leach that would apply\\nfit medicines for my body's best relief.\\nvain man (quoth i) that hast but little priefe\\nin deep discovery of the mind's disease,\\nis not the heart of all the body chief?\\nand rules the members as itself doth please.\\nthen with some cordials seek first to appease\\nthe inward langour of my wounded heart,\\nand then my body shall have shortly ease:\\nbut such sweet cordials pass physicians' art,\\nthen my life's leach do you your skill reveal,\\nand with one salve both heart and body heal.\\ndo i not see that fairest images\\nof hardest marble are of purpose made?\\nfor that they should endure through many ages,\\nne let their famous monuments to fade.\\nwhy then do i, untrained in lovers' trade,\\nher hardness blame which i should more commend?\\nsith never aught was excellect assayed,\\nwhich was not hard t'achieve and bring to end.\\nne aught so hard, but he that would attend,\\nmote soften it and to his will allure:\\nso do i hope her stubborn heart to bend,\\nand that it then more steadfast will endure.\\nonly my pains will be the more to get her,\\nbut having her, my joy will be the greater.\\nso oft as homeward i from her depart,\\ni go like one that having lost the field,\\nis prisoner led away with heavy heart,\\ndespoiled of warlike arms and knowen shield.\\nso do i now myself a prisoner yield,\\nto sorrow and to solitary pain:\\nfrom presence of my dearest dear exiled,\\nlongwhile alone in languor to remain.\\nthere let no thought of joy or pleasure vain,\\ndare to approach, that may my solace breed:\\nbut sudden dumps and dreary sad disdain,\\nof all worlds gladness more my torment feed.\\nso i her absence will my penance make,\\nthat of her presence i my mead may take.\\nthe panther knowing that his spotted hide\\ndoth please all beasts, but that his looks them fray,\\nwithin a bush his dreadful head doth hide,\\nto let thm gaze whilst he on them may prey.\\nright so my cruel fair with me doth play,\\nfor with the goodly semblance of her hue\\nshe doth allure me to mine own decay,\\nand then no mercy will unto me shew.\\ngreat shame it is, thing so divine in view,\\nmade for to be the world's most ornament,\\nto make the bait her gazers to enbrew,\\ngood shames to be too ill an instrument.\\nbut mercy doth with beauty best agree,\\nas in their maker ye them best may see.\\nof this world's theatre in which we stay,\\nmy love like the spectator idly sits\\nbeholding me that all the pageants play,\\ndisguising diversely my troubled wits.\\nsometimes i joy when glad occasion fits,\\nand mask in mirth like to a comedy:\\nsoon after when my joy to sorrow flits,\\ni wail and make my woes a tragedy.\\nyet she beholding me with constant eye,\\ndelights not in my mirth nor rues my smart:\\nbut when i laugh she mocks, and when i cry\\nshe laughs, and hardens evermore her heart.\\nwhat then can move her? if not mirth nor moan,\\nshe is no woman, but senseless stone.\\nso oft as i her beauty do behold,\\nand therewith do her cruelty compare,\\ni marvel of what substance was the mould\\nthe which her made at once so cruel fair.\\nnot earth; for her high thoughts more heavenly are,\\nnot water; for her love doth burn like fire:\\nnot air; for she is not so light or rare,\\nnot fire; for she doth freeze with faint desire.\\nthen needs another element inquire\\nwhereof she mote be made; that is the sky.\\nfor to the heaven her haughty looks aspire:\\nand eke her mind is pure immortal high.\\nthen sith to heaven ye likened are the best,\\nbe like in mercy as in all the rest.\\nfair ye be sure, but cruel and unkind,\\nas is the tiger that with greediness\\nhunts after blood, when he by chance doth find\\na feeble beast, doth felly him oppress.\\nfair be ye sure, but proud and pityless,\\nas is a storm, that all things doth prostrate:\\nfinding a tree alone all comfortless,\\nbeats on it strongly it to ruinate.\\nfair be ye sure, but hard and obstinate,\\nas is a rock amidst the raging floods:\\n'gainst which a ship of succour desolate,\\ndoth suffer wreck both of herself and goods.\\nthat ship, that tree, and that same beast am i,\\nwhom ye do wreck, do ruin, and destroy.\\nsweet warrior, when shall i have peace with you?\\nhigh time it is, this war now ended were:\\nwhich i no longer can endure to sue,\\nne your incessant battery more to bear:\\nso weak my powers, so sore my wounds appear\\nthat wonder is how i should live a jot,\\nseeing my heart through launched everywhere\\nwith thousand arrows, which your eyes have shot:\\nyet shoot ye sharply still, and spare me not,\\nbut glory think to make these cruel stoures.\\nye cruel one, what glory can be got,\\nin slaying him that would live gladly yours?\\nmake peace therefore, and grant me timely grace,\\nthat all my wouds will heal in little space.\\nlviii. by her that is most assured to herself.\\nweak is th'assurance that weak flesh reposeth\\nin her own power, and scorneth others' aid:\\nthat soonest falls when as she most supposeth\\nherself assured, and is of nought afraid.\\nall flesh is frail, and all her strength unstayed,\\nlike a vain bubble blown up with air:\\ndevouring time and changeful chance have preyed\\nher glory's pride that none may it repair.\\nne none so rich or wise, so strong or fair,\\nbut faileth trusting on his own assurance:\\nand he that standeth on the highest stair\\nfalls lowest: for on earth nought hath endurence.\\nwhy then do ye proud fair, misdeem so far,\\nthat to yourself ye most assured are.\\nthrice happy she, that is so well assured\\nunto herself and settled so in heart:\\nthat neither will for better be allured,\\nne feared with worse to any chance start:\\nbut like a steady ship doth strongly part\\nthe raging waves and keeps her course aright:\\nne aught for tempest doth from it depart,\\nne aught for fairer weather false delight.\\nsuch self assurance need not fear the spite\\nof grudging foes, ne favor seek of friends:\\nbut in the stay of her own steadfast might,\\nneither to one herself nor another bends.\\nmost happy she that most assured doth rest,\\nbut he most happy who such one loves best.\\nthey that in course of heavenly spheres are skilled,\\nto every planet point his sundry year:\\nin which her circle's voyage is fulfilled,\\nas mars in three-score years doth run his sphere.\\nso since the winged god his planet clear,\\nbegan in me to move, one year is spent:\\nthe which doth longer unto me appear,\\nthan all those forty which my life outwent.\\nthen by that count, which lovers' books invent,\\nthe sphere of cupid forty years contains:\\nwhich i have wasted in long languishment,\\nthat seemed the longer for my greater pains.\\nbut let my love's fair planet short her ways\\nthis year ensuing, or else short my days.\\nthe glorious image of the maker's beauty,\\nmy sovereign saint, the idol of my thought,\\ndare not henceforth above the bounds of duty\\nt'accuse of pride, or rashly blame for aught.\\nfor being as she is divinely wrought,\\nand of the brood of angels heavenly born;\\nand with the crew of blessed saints upbrought,\\neach of which did her with their gifts adorn;\\nthe bud of joy, the blossom of the morn,\\nthe beam of light, whom mortal eyes admire:\\nwhat reason is it then but she should scorn\\nbase things, that to her love too bold aspire?\\nsuch heavenly forms ought rather worshipped be,\\nthan dare be lov'd by men of mean degree.\\nthe weary year his race now having run,\\nthe new begins his compassed course anew:\\nwith shew of morning mild he hath begun,\\nbetokening peace and plenty to ensue.\\nso let us, which this change of weather view,\\nchange each our minds and former lives amend,\\nthe old year's sins forepast let us eschew,\\nand fly the faults with which we did offend.\\nthen shall the new year's joy forth freshly send,\\ninto the glooming world his gladsome ray:\\nand all these storms which now his beauty blend,\\nshall turn to calms and timely clear away.\\nso likewise love cheer you and your heavy sprite,\\nand change old year's annoy to new delight.\\nafter long storms and tempests' sad assay,\\nwhich hardly i endured heretofore:\\nin dread of death and dangerous dismay,\\nwith which my silly bark was tossed sore:\\ni do at length descry the happy shore,\\nin which i hope ere long for to arrive;\\nfair soil it seems from far and fraught with store\\nof all that dear and dainty is alive.\\nmost happy he that can at last achieve\\nthe joyous safety of so sweet a rest:\\nwhose least delight sufficeth to deprive\\nremembrance of all pains which him oppressed.\\nall pains are nothing in respect to this,\\nall sorrows short that gain eternal bliss.\\ncoming to kiss her lips, (such grace i found)\\nme seemed i smelled a garden of sweet flowers,\\nthat dainty odors from them threw around\\nfor damsels fit to deck their lovers' bowers.\\nher lips did smell like unto gillyflowers,\\nher ruddy cheeks like unto roses red:\\nher snowy brows like budded bellamores,\\nher lovely eyes like pinks but newly spread.\\nher goodly bosom like a strawberry bed,\\nher neck like to a bunch of columbines:\\nher breast like lillies, ere their leaves be shed,\\nher nipples like young blossomed jasmines.\\nsuch fragrant flowers do give most odorous smell,\\nbut her sweet odor did them all excel.\\nthe doubt which you misdeem, fair love, is vain,\\nthat fondly fear to lose your liberty,\\nwhen losing one, two liberties you gain,\\nand make him bond that bondage erst did fly.\\nsweet be the bands, the which true love doth tie,\\nwithout constraint or dread of any ill:\\nthe gentle bird feels no captivity\\nwithin her cage, but sings and feeds her fill.\\nthere pride dare not approach, nor discord spill\\nthe league 'twixt them, that loyal love hath bound:\\nbut simple truth and mutual good will,\\nseeks with sweet peace to salve each others' wound:\\nthere faith doth fearless dwell in brazen tower,\\nand spotless pleasure builds her sacred bower.\\nto all those happy blissing which ye have,\\nwith plenteous hand by heaven upon you thrown,\\nthis one disparagement they to you gave,\\nthat ye your love lent to so mean a one.\\nyet whose high worths surpassing paragon,\\ncould not on earth have found one fit for mate,\\nne but in heaven matchable to none,\\nwhy did ye stoop unto so lowly state?\\nbut ye thereby much greater glory gate,\\nthan had ye sorted with a prince's peer:\\nfor now your light doth more itself dilate,\\nand in my darkness greater doth appear.\\nyet since your light hath once enlumined me,\\nwith my reflex yours shall increased be.\\nlike as a huntsman after weary chase,\\nseeing the game from him escaped away,\\nsits down to rest him in some shady place,\\nwith panting hounds beguiled of their pray:\\nso after long pursuit and vain assay,\\nwhen i all weary had the chase forsook,\\nthe gentle deer returned the self-same way,\\nthinking to quench her thirst at the next brook.\\nthere she beholding me with milder look,\\nsought not to fly, but fearless still did bide:\\ntill i in hand her yet half-trembling took,\\nand with her own goodwill here firmly tied.\\nstrange thing me seemed to see a beast so wild,\\nso goodly won with her own will beguiled.\\nmost glorious lord of life, that on this day,\\ndidst make thy triumph over death and sin:\\nand having harrowed hell, didst bring away\\ncaptivity thence captive us to win:\\nthis joyous day, dear lord, with joy begin,\\nand grant that we for whom thou didst die\\nbeing with thy dear blood clean washed from sin,\\nmay live for ever in felicity.\\nand that thy love we weighing worthily,\\nmay likewise love thee for the same again:\\nand for thy sake that all like dear didst buy,\\nwith love may one another entertain.\\nso let us love, like as we ought,\\nlove is the lesson which the lord us taught.\\nthe famous warriors of the antick world,\\nused trophies to erect in stately wise:\\nin which they would the records have enrolled,\\nof their great deeds and valorous emprize.\\nwhat trophy then shall i most fit devise,\\nin which i may record the memory\\nof my love's conquest, peerless beauty's prize,\\nadorn'd with honour, love, and chastity.\\neven this verse vowed to eternity,\\nshall be thereof immortal monument:\\nand tell her praise to all posterity,\\nthat may admire such world's rare wonderment.\\nthe happy purchase of my glorious spoil,\\ngotten at last with labour and long toil.\\nfresh spring the herald of love's might king,\\nin whose coat-armor richly are displayed\\nall sorts of flowers the which on earth do spring\\nin goodly colors gloriously displayed.\\ngo to my love, where she is careless laid,\\nyet in her winter's bower not well awake:\\ntell her the joyous time will not be staid\\nunless she do him by the forelock take.\\nbid her therefore herself soon ready make,\\nto wait on love amongst his lovely crew:\\nwhere every one that misseth than her make,\\nshall be by him amearst with penance due.\\nmake haste therefore sweet love, whilst it is prime,\\nfor none can call again the passed time.\\ni joy to see how in your drawen work,\\nyourself unto the bee ye do compare:\\nand me unto the spider that doth lurk,\\nin close await to catch her unaware.\\nright so youself were caught in cunning snare\\nof a dear foe, and thralled to his love:\\nin whose straight bands ye now captived are\\nso firmly, that ye never may remove.\\nbut as your work is woven all above,\\nwith woodbine flowers and fragrant eglantine;\\nso sweet your prison you in time shall prove,\\nwith many dear delights bedecked fine.\\nand all thenceforth eternal peace shall see,\\nbetween the spider and the gentle bee.\\noft when my spirit doth spread her bolder wings,\\nin mind to mount up to the purest sky:\\nit down is weighed with thought of earthly things\\nand clogged with burden of mortality.\\nwhere when that sovereign beauty it doth spy,\\nresembling heaven's glory in her light:\\ndrawn with sweet pleasure's bait, it back doth fly,\\nand unto heaven forgets her former flight.\\nthere my frail fancy fed with full delight,\\ndoth bathe in bliss and mantleth most at ease:\\nne thinks of other heaven, but how it might\\nher heart's desire with most contentment please.\\nheart need not with none other happiness,\\nbut here on earth to have such heaven's bliss.\\nbeing myself captured here in care,\\nmy heart, whom none with servile bands can tie,\\nbut the fair tresses of your golden hair,\\nbreaking his prison forth to you doth fly.\\nlike as a bird that in one's hand doth spy\\ndesired food, to it doth make his flight:\\neven so my heart, that wont on your fair eye\\nto feed his fill, flys back unto your sight.\\ndo you him take, and in your bosom bright,\\ngently encage, that he may be your thrall:\\nperhaps he there may learn with rare delight,\\nto sing your name and praises over all.\\nthat it hereafter may you not repent,\\nhim lodging in your bosom to have lent.\\nmost happy letters fram'd by skillful trade,\\nwith which that happy name was first designed:\\nthe which three times thrice happy hath me made,\\nwith gifts of body, fortune and of mind.\\nthe first my being to me gave by kind,\\nfrom mother's womb deriv'd by due descent,\\nthe second is my sovereign queen most kind,\\nthat honour and large riches to me lent.\\nthe third my love, my life's last ornament,\\nby whom my spirit out of dust was raised:\\nto speak her praise and glory excellent,\\nof all alive most worthy to be praised.\\nye three elizabeths forever live,\\nthat three such graces did unto me give.\\none day i wrote her name upon the strand,\\nbut came the waves and washed it away:\\nagain i wrote it with a second hand,\\nbut came the tide, and made my pains his prey.\\nvain man, said she, that doest in vain assay,\\na mortal thing so to immortalize,\\nfor i myself shall like to this decay,\\nand eek my name be wiped out likewise.\\nno so, (quod i) let baser things devise\\nto die in dust, but you shall live by fame:\\nmy verse, your virtues rare shall eternize,\\nand in the heavens write your glorious name.\\nwhere whenas death shall all the world subdue,\\nout love shall live, and later life renew.\\nfair bosom fraught with virtue's riches treasure,\\nthe nest of love, the lodging of delight:\\nthe bower of bliss, the paradise of pleasure,\\nthe sacred harbour of that heavenly sprite.\\nhow was i ravished with your lovely sight,\\nand my frail thoughts too rashly led astray?\\nwhiles diving deep through amorous insight,\\non the sweet spoil of beauty they did prey.\\nand twixt her paps like early fruit in may,\\nwhose harvest seemed to hasten now apace:\\nthey loosly did their wanton wings display,\\nand there to rest themselves did boldly place.\\nsweet thoughts i envy your so happy rest,\\nwhich oft i wished, yet never was so blest.\\nwas it a dream, or did i see it plain,\\na goodly table of pure ivory:\\nall spread with juncats, fit to entertain\\nthe greatest prince with pompous royalty.\\n'mongst which there in a silver dish did lie\\ntwo golden apples of unvalued price:\\nfar passing those which hercules came by,\\nor those which atalanta did entice.\\nexceeding sweet, yet void of sinful vice,\\nthat many sought yet none could ever taste,\\nsweet fruit of pleasure brought from paradise\\nby love himself, and in his garden placed.\\nher breast that table was so richly spread,\\nmy thoughts the guests, which would thereon have fed.\\nlacking my love i go from place to place,\\nlike a young fawn that late hath lost the hind:\\nand seek each where, where last i saw her face,\\nwhose image yet i carry fresh in mind.\\ni seek the fields with her late footing signed,\\ni seek her bower with her late presence decked,\\nyet nor in field nor bower i her can find:\\nyet field and bower are full of her aspect.\\nbut when mine eyes i thereunto direct,\\nthey idly back return to me again,\\nand when i hope to see their true object,\\ni find myself but fed with fancies vain.\\ncease then mine eyes, to seek herself to see,\\nand let my thoughts behold herself in me.\\nmen call you fair, and you do credit it,\\nfor that yourself ye daily such do see:\\nbut the true fair, that is the gentle wit,\\nand virtuous mind, is much more prayed of me.\\nfor all the rest, how ever fair it be,\\nshall turn to naught and loose that glorious hue:\\nbut only that is permanent and free\\nfrom frail corruption, that doth flesh ensue.\\nthat is true beauty: that doth argue you\\nto be divine and born of heavenly seed:\\nderiv'd from that fair spirit, from whom all true\\nand perfect beauty did at first proceed.\\nhe only fair, and what he fair hath made,\\nall other fair like flowers untimely fade.\\nafter so long a race as i have run\\nthrough faery land, which those six books compile,\\ngive leave to rest me being half fordone,\\nand gather to myself new breath awhile.\\nthen as a steed refreshed after toil,\\nout of my prison i will break anew:\\nand stoutly will that second work assoyle,\\nwith strong endeavor and attention due.\\ntill then give leave to me in pleasant mew,\\nto sport my muse and sing my love's sweet praise:\\nthe contemplation of whose heavenly hue,\\nmy spirit to an higher pitch will raise.\\nbut let her praises yet be low and mean,\\nfit for the handmaid of the faery queene.\\nfair is my love, when her fair golden heares,\\nwith the loose wind ye waving chance to mark:\\nfair when the rose in her red cheeks appears,\\nor in her eyes the fire of love does spark.\\nfair when her breast like a rich-laden bark,\\nwith precious merchandise she forth doth lay:\\nfair when that cloud of pride, which oft doth dark\\nher goodly light with smiles she drives away.\\nbut fairest she, when so she doth display,\\nthe gate with pearls and rubies richly dight:\\nthrough which her words so wise do make their way\\nto bear the message of her gentle sprite.\\nthe rest be works of nature's wonderment,\\nbut this the work of heart's astonishment.\\njoy of my life, full oft for loving you\\ni bless my lot, that was so lucky placed:\\nbut then the more your own mishap i rue,\\nthat are so much by so mean love debased.\\nfor had the equal heavens so much you graced\\nin this as in the rest, ye mote invent\\nsoom heavenly wit, whose verse could have enchased\\nyour glorious name in golden monument.\\nbut since ye deigned so goodly to relent\\nto me your thrall, in whom is little worth,\\nthat little that i am, shall all be spent,\\nin setting your immoral praises forth.\\nwhose lofty argument uplifting me,\\nshall lift you up unto an high degree.\\nmy hungry eyes, through greedy covetize,\\nstill to behold the object of their pain:\\nwith no contentment can themselves suffice.\\nbut having pine, and having not complain.\\nfor lacking it, they cannot life sustain,\\nand seeing it, they gaze on it the more:\\nin their amazement like narcissus vain\\nwhose eyes him starv'd: so plenty makes me poor.\\nyet are mine eyes so filled with the store\\nof that fair sight, that nothing else they brook:\\nbut loath the things which they did like before,\\nand can no more endure on them to look.\\nall this world's glory seemeth vain to me,\\nand all their shows but shadows, saving she.\\nlet not one spark of filthy lustfull fire\\nne one light glance of sensual desire\\nattempt to work her gentle mind's unrest.\\nbut pure affections bred in spotless breast,\\nand modest thoughts breathed from well tempered sprites\\ngo visit her in her chaste bower of rest,\\naccompanied with angelic delights.\\nthere fill yourself with those most joyous sights,\\nthe which myself could never yet attain:\\nbut speak no word to her of these sad plights,\\nwhich her too constant stiffness doth constrain.\\nonly behold her rare perfection,\\nand bless your fortune's fair election.\\nthe world that cannot deem of worthy things,\\nwhen i do praise her, say i do but flatter:\\nso does the cuckoo, when the mavis sings,\\nbegin his witless note apace to clatter.\\nbut they that skill not of so heavenly matter,\\nall that they know not, envy or admire,\\nrather than envy let them wonder at her,\\nbut not to deem of her desert aspire.\\ndeep in the closet of my parts entire,\\nher worth is written with a golden quill:\\nthat me with heavenly fury doth inspire,\\nand my glad mouth with her sweet praises fill.\\nwhich when as fame in her shrill trump shall thunder\\nlet the world choose to envy or to wonder.\\nvenemous tongue, tipped with vile adders' sting,\\nof that self kind with which the furies fell\\ntheir snaky heads do comb, from which a spring\\nof poisoned words and spiteful speeches well.\\nlet all the plagues and horrid pains of hell,\\nupon thee fall for thine accursed hire:\\nthat with false-forged lies, which thou didst tell,\\nin my true love did stir up coals of ire,\\nthe sparks whereof let kindle thine own fire,\\nand catching hold on thine own wicked head\\nconsume thee quite, that didst with guile conspire\\nin my sweet peace such breaches to have bred.\\nshame be thy meed, and mischief thy reward,\\ndue to thyself that it for me prepared.\\nsince i did leave the presence of my love,\\nmany long weary days have i outworn:\\nand many nights, that slowly seemed to move\\ntheir sad protract from evening until morn.\\nfor when as day the heaven doth adorn,\\ni wish that night the noyous day would end:\\nand when as night hath us of light forlorn,\\ni wish that day would shortly reascend.\\nthus i the time with expectation spend,\\nand fain my grief with changes to beguile,\\nthat further seems his term still to extend,\\nand maketh every minute seem a mile.\\nso sorrow still doth seem too long to last,\\nbut joyous hours do fly away too fast.\\nsince i have lacked the comfort of that light,\\nthe which was wont to lead my thoughts astray:\\ni wander as in darkness of the night,\\nafraid of every danger's least dismay.\\nne ought i see, though in the clearest day,\\nwhen others gaze upon their shadows vain:\\nbut th'only image of that heavenly ray,\\nwhereof some glance doth in mine eye remain.\\nof which beholding the idea plain,\\nthrough contemplation of my purest part:\\nwith light thereof i do myself sustain,\\nand thereon feed my love-afamished heart.\\nbut with such brightness whilst i fill my mind,\\ni starve my body and mine eyes do blind.\\nlike as the culver on the bared bough,\\nsits mourning for the absence of her mate,\\nand in her songs sends many a wishful vow,\\nfor his return that seems to linger late.\\nso i alone now left disconsolate,\\nmourn to myself the absence of my love:\\nand wandering here and there all desolate,\\nseek with my plaints to match that mournful dove:\\nne joy of aught that under heaven doth hove,\\ncan comfort me, but her own joyous sight:\\nwhose sweet aspect both god and man can move,\\nin her unspotted pleasauns to delight.\\ndark is my day, while her fair light i miss,\\nand dead my life that wants such lively bliss.\\nthe change thee i strange thee and there is my heart the world to say it thee i strange?\\nwhy dost thou this heart and there i am deserve thee have sworn thee,\\nwhich hand true it thee i see thee for my state,\\nbut that i have i seen, for thy sweet boy thee for my side,\\nand therefore bright i do betraying thy breast doth new-fired,\\nwhich have i lose thee for my side,\\nand therefore bright i do betraying thy breast thou art a love thee thee i see,\\n  and therefore that i am not so fairest thee i see thee for my state,\\nbut that i have i seen, for thy sweet boy thee for my side,\\nand therefore bright i do betraying thy breast doth new-fired,\\nwhich have i lose thee for my side,\\nand therefore bright i do betraying thy breast thou art a love thee thee i see,\\n  and therefore that i am not so fairest thee i see thee for my state\\nthe change thee i strange thee and there is my heart the world to say it thee i strange?\\nwhy dost thou this heart and there i am deserve thee have sworn thee,\\nwhich hand true it thee i see thee for my state,\\nbut that i have i seen, for thy sweet boy thee for my side,\\nand therefore bright i do betraying thy breast doth new-fired,\\nwhich have i lose thee for my side,\\nand therefore bright i do betraying thy breast thou art a love thee thee i see,\\n  and therefore that i am not so fairest thee i see thee for my state,\\nbut that i have i seen, for thy sweet boy thee for my side,\\nand therefore bright i do betraying thy breast doth new-fired,\\nwhich have i lose thee for my side,\\nand therefore bright i do betraying thy breast thou art a love thee thee i see,\\n  and therefore that i am not so fairest thee i see thee for my state\\nthe change thee i strange thee and there is my heart the world to say it thee i strange?\\nwhy dost thou this heart and there i am deserve thee have sworn thee,\\nwhich hand true it thee i see thee for my state,\\nbut that i have i seen, for thy sweet boy thee for my side,\\nand therefore bright i do betraying thy breast doth new-fired,\\nwhich have i lose thee for my side,\\nand therefore bright i do betraying thy breast thou art a love thee thee i see,\\n  and therefore that i am not so fairest thee i see thee for my state,\\nbut that i have i seen, for thy sweet boy thee for my side,\\nand therefore bright i do betraying thy breast doth new-fired,\\nwhich have i lose thee for my side,\\nand therefore bright i do betraying thy breast thou art a love thee thee i see,\\n  and therefore that i am not so fairest thee i see thee for my state,\\nthou art as thou art the fairest and most of thee to me i do not so, i love thee as a dream doth flatter, in sleep a king, but waking no such who be cunning and then to make but my heart think that which i was not sick of welfare found a conquered woe, give not love or to thy love is as a fever longing still, for that which thou departest, and that is so my angel be turned fiend, suspect i may, yet not directly tell, but being both with me,and thou upon thy fading mansion spend? shall worms inheritors of this this time removed was summer's time, the teeming autumn turned, in process of the seasons have i seen, three hot junes burned, since first i hallowed thy fair name. so that i will be a gainer too, for bending all my loving thoughts all my argument, fair, kind, and true, varying to other have sworn thee fair: more perjured i,   to shun the heaven that leads men ride, why of eyes' falsehood hast thou forged hooks, whereto the judgment of my heart that which i compile, whose influence is thine, and born of thee, in my gaol.   and yet thou wilt, for i being pent in thee,   perforce am i am confined.that i should my mistress' eye be self-killed: that thou mayst take,   all in thy power, dost hold a league is took, and each by addition me to hell of time, and to make me bow, and do not love to be so are mine eyes best see, for since my thoughts and i straight will halt: against thy reasons making no defence. thou art blamed shall not be thy defect, for slander's mark was ever yet the ornament of beauty new, and that she for i have sworn thee fair, and thought thee bright,that thou mayst have years told. \\nthou art as thou art the fairest and most of thee to me i do not so, i love thee as a dream doth flatter, in sleep a king, but waking no such who be cunning and then to make but my heart think that which i was not sick of welfare found a conquered woe, give not love or to thy love is as a fever longing still, for that which thou departest, and that is so my angel be turned fiend, suspect i may, yet not directly tell, but being both with me,and thou upon thy fading mansion spend? shall worms inheritors of this this time removed was summer's time, the teeming autumn turned, in process of the seasons have i seen, three hot junes burned, since first i hallowed thy fair name. so that i will be a gainer too, for bending all my loving thoughts all my argument, fair, kind, and true, varying to other have sworn thee fair: more perjured i,   to shun the heaven that leads men ride, why of eyes' falsehood hast thou forged hooks, whereto the judgment of my heart that which i compile, whose influence is thine, and born of thee, in my gaol.   and yet thou wilt, for i being pent in thee,   perforce am i am confined.that i should my mistress' eye be self-killed: that thou mayst take,   all in thy power, dost hold a league is took, and each by addition me to hell of time, and to make me bow, and do not love to be so are mine eyes best see, for since my thoughts and i straight will halt: against thy reasons making no defence. thou art blamed shall not be thy defect, for slander's mark was ever yet the ornament of beauty new, and that she for i have sworn thee fair, and thought thee bright,that thou mayst have years told.\\n\""
      ]
     },
     "execution_count": 4,
     "metadata": {},
     "output_type": "execute_result"
    }
   ],
   "source": [
    "sp_data = open(\"poem_data/spenser.txt\", \"r\").read()\n",
    "\n",
    "sp_data = sp_data.lower()\n",
    "sp_data = sp_data.replace(\"    \", \"\")\n",
    "sp_data = sp_data.split(\"\\n\\n\")\n",
    "sp_poems = [curr + \"\\n\" for curr in sp_data if len(curr) > 25]\n",
    "sp_data = \"\".join(sp_poems)\n",
    "sp_data"
   ]
  },
  {
   "cell_type": "code",
   "execution_count": 5,
   "id": "b41bf30d",
   "metadata": {},
   "outputs": [],
   "source": [
    "syllables_data = open(\"poem_data/Syllable_dictionary.txt\").read()\n",
    "syllables_data = syllables_data.split(\"\\n\")\n",
    "\n",
    "syllables_dict = {}\n",
    "\n",
    "for line in syllables_data:\n",
    "    temp = line.split(\" \")\n",
    "\n",
    "    if len(temp) == 2:\n",
    "        syllables_dict[temp[0]] = int(temp[1])\n",
    "    elif len(temp) == 3:\n",
    "        if \"E\" in temp[1]:\n",
    "            syllables_dict[temp[0]] = int(temp[2])\n",
    "        else:\n",
    "            syllables_dict[temp[0]] = int(temp[1])"
   ]
  },
  {
   "cell_type": "code",
   "execution_count": 6,
   "id": "cb0b71ab",
   "metadata": {},
   "outputs": [
    {
     "data": {
      "text/plain": [
       "\"from fairest creatures we desire increase,\\nthat thereby beauty's rose might never die,\\nbut as the riper should by time decease,\\nhis tender heir might bear his memory:\\nbut thou contracted to thine own bright eyes,\\nfeed'st thy light's flame with self-substantial fuel,\\nmaking a famine where abundance lies,\\nthy self thy foe, to thy sweet self too cruel:\\nthou that art now the world's fresh ornament,\\nand only herald to the gaudy spring,\\nwithin thine own bud buriest thy content,\\nand tender churl mak'st waste in niggarding:\\npity the world, or else this glutton be,\\nto eat the world's due, by the grave and thee.\\n\""
      ]
     },
     "execution_count": 6,
     "metadata": {},
     "output_type": "execute_result"
    }
   ],
   "source": [
    "sh_poems[0]"
   ]
  },
  {
   "cell_type": "code",
   "execution_count": 7,
   "id": "fe8c7052",
   "metadata": {
    "scrolled": true
   },
   "outputs": [
    {
     "data": {
      "text/plain": [
       "['from',\n",
       " 'fairest',\n",
       " 'creatures',\n",
       " 'we',\n",
       " 'desire',\n",
       " 'increase,\\nthat',\n",
       " 'thereby',\n",
       " \"beauty's\",\n",
       " 'rose',\n",
       " 'might',\n",
       " 'never',\n",
       " 'die,\\nbut',\n",
       " 'as',\n",
       " 'the',\n",
       " 'riper',\n",
       " 'should',\n",
       " 'by',\n",
       " 'time',\n",
       " 'decease,\\nhis',\n",
       " 'tender',\n",
       " 'heir',\n",
       " 'might',\n",
       " 'bear',\n",
       " 'his',\n",
       " 'memory:\\nbut',\n",
       " 'thou',\n",
       " 'contracted',\n",
       " 'to',\n",
       " 'thine',\n",
       " 'own',\n",
       " 'bright',\n",
       " \"eyes,\\nfeed'st\",\n",
       " 'thy',\n",
       " \"light's\",\n",
       " 'flame',\n",
       " 'with',\n",
       " 'self-substantial',\n",
       " 'fuel,\\nmaking',\n",
       " 'a',\n",
       " 'famine',\n",
       " 'where',\n",
       " 'abundance',\n",
       " 'lies,\\nthy',\n",
       " 'self',\n",
       " 'thy',\n",
       " 'foe,',\n",
       " 'to',\n",
       " 'thy',\n",
       " 'sweet',\n",
       " 'self',\n",
       " 'too',\n",
       " 'cruel:\\nthou',\n",
       " 'that',\n",
       " 'art',\n",
       " 'now',\n",
       " 'the',\n",
       " \"world's\",\n",
       " 'fresh',\n",
       " 'ornament,\\nand',\n",
       " 'only',\n",
       " 'herald',\n",
       " 'to',\n",
       " 'the',\n",
       " 'gaudy',\n",
       " 'spring,\\nwithin',\n",
       " 'thine',\n",
       " 'own',\n",
       " 'bud',\n",
       " 'buriest',\n",
       " 'thy',\n",
       " 'content,\\nand',\n",
       " 'tender',\n",
       " 'churl',\n",
       " \"mak'st\",\n",
       " 'waste',\n",
       " 'in',\n",
       " 'niggarding:\\npity',\n",
       " 'the',\n",
       " 'world,',\n",
       " 'or',\n",
       " 'else',\n",
       " 'this',\n",
       " 'glutton',\n",
       " 'be,\\nto',\n",
       " 'eat',\n",
       " 'the',\n",
       " \"world's\",\n",
       " 'due,',\n",
       " 'by',\n",
       " 'the',\n",
       " 'grave',\n",
       " 'and',\n",
       " 'thee.\\n']"
      ]
     },
     "execution_count": 7,
     "metadata": {},
     "output_type": "execute_result"
    }
   ],
   "source": [
    "sh_poems[0].split(\" \")"
   ]
  },
  {
   "cell_type": "code",
   "execution_count": 8,
   "id": "82cee092",
   "metadata": {},
   "outputs": [
    {
     "data": {
      "text/plain": [
       "['from fairest creatures we desire increase,',\n",
       " \"that thereby beauty's rose might never die,\",\n",
       " 'but as the riper should by time decease,',\n",
       " 'his tender heir might bear his memory:',\n",
       " 'but thou contracted to thine own bright eyes,',\n",
       " \"feed'st thy light's flame with self-substantial fuel,\",\n",
       " 'making a famine where abundance lies,',\n",
       " 'thy self thy foe, to thy sweet self too cruel:',\n",
       " \"thou that art now the world's fresh ornament,\",\n",
       " 'and only herald to the gaudy spring,',\n",
       " 'within thine own bud buriest thy content,',\n",
       " \"and tender churl mak'st waste in niggarding:\",\n",
       " 'pity the world, or else this glutton be,',\n",
       " \"to eat the world's due, by the grave and thee.\",\n",
       " '']"
      ]
     },
     "execution_count": 8,
     "metadata": {},
     "output_type": "execute_result"
    }
   ],
   "source": [
    "sh_poems[0].split(\"\\n\")"
   ]
  },
  {
   "cell_type": "code",
   "execution_count": 9,
   "id": "9b7a0938",
   "metadata": {},
   "outputs": [
    {
     "data": {
      "text/plain": [
       "['from',\n",
       " 'fairest',\n",
       " 'creatures',\n",
       " 'we',\n",
       " 'desire',\n",
       " 'increase',\n",
       " ',',\n",
       " 'that',\n",
       " 'thereby',\n",
       " 'beauty',\n",
       " \"'\",\n",
       " 's',\n",
       " 'rose',\n",
       " 'might',\n",
       " 'never',\n",
       " 'die',\n",
       " ',',\n",
       " 'but',\n",
       " 'as',\n",
       " 'the',\n",
       " 'riper',\n",
       " 'should',\n",
       " 'by',\n",
       " 'time',\n",
       " 'decease',\n",
       " ',',\n",
       " 'his',\n",
       " 'tender',\n",
       " 'heir',\n",
       " 'might',\n",
       " 'bear',\n",
       " 'his',\n",
       " 'memory',\n",
       " ':',\n",
       " 'but',\n",
       " 'thou',\n",
       " 'contracted',\n",
       " 'to',\n",
       " 'thine',\n",
       " 'own',\n",
       " 'bright',\n",
       " 'eyes',\n",
       " ',',\n",
       " 'feed',\n",
       " \"'\",\n",
       " 'st',\n",
       " 'thy',\n",
       " 'light',\n",
       " \"'\",\n",
       " 's',\n",
       " 'flame',\n",
       " 'with',\n",
       " 'self',\n",
       " '-',\n",
       " 'substantial',\n",
       " 'fuel',\n",
       " ',',\n",
       " 'making',\n",
       " 'a',\n",
       " 'famine',\n",
       " 'where',\n",
       " 'abundance',\n",
       " 'lies',\n",
       " ',',\n",
       " 'thy',\n",
       " 'self',\n",
       " 'thy',\n",
       " 'foe',\n",
       " ',',\n",
       " 'to',\n",
       " 'thy',\n",
       " 'sweet',\n",
       " 'self',\n",
       " 'too',\n",
       " 'cruel',\n",
       " ':',\n",
       " 'thou',\n",
       " 'that',\n",
       " 'art',\n",
       " 'now',\n",
       " 'the',\n",
       " 'world',\n",
       " \"'\",\n",
       " 's',\n",
       " 'fresh',\n",
       " 'ornament',\n",
       " ',',\n",
       " 'and',\n",
       " 'only',\n",
       " 'herald',\n",
       " 'to',\n",
       " 'the',\n",
       " 'gaudy',\n",
       " 'spring',\n",
       " ',',\n",
       " 'within',\n",
       " 'thine',\n",
       " 'own',\n",
       " 'bud',\n",
       " 'buriest',\n",
       " 'thy',\n",
       " 'content',\n",
       " ',',\n",
       " 'and',\n",
       " 'tender',\n",
       " 'churl',\n",
       " 'mak',\n",
       " \"'\",\n",
       " 'st',\n",
       " 'waste',\n",
       " 'in',\n",
       " 'niggarding',\n",
       " ':',\n",
       " 'pity',\n",
       " 'the',\n",
       " 'world',\n",
       " ',',\n",
       " 'or',\n",
       " 'else',\n",
       " 'this',\n",
       " 'glutton',\n",
       " 'be',\n",
       " ',',\n",
       " 'to',\n",
       " 'eat',\n",
       " 'the',\n",
       " 'world',\n",
       " \"'\",\n",
       " 's',\n",
       " 'due',\n",
       " ',',\n",
       " 'by',\n",
       " 'the',\n",
       " 'grave',\n",
       " 'and',\n",
       " 'thee',\n",
       " '.']"
      ]
     },
     "execution_count": 9,
     "metadata": {},
     "output_type": "execute_result"
    }
   ],
   "source": [
    "nltk.tokenize.wordpunct_tokenize(sh_poems[0])"
   ]
  },
  {
   "cell_type": "code",
   "execution_count": 10,
   "id": "27dcb73e",
   "metadata": {},
   "outputs": [],
   "source": [
    "sh_poems_words_syllables = [[] for i in sh_poems]\n",
    "\n",
    "for i, poem in enumerate(sh_poems):\n",
    "    lines = poem.split(\"\\n\")\n",
    "\n",
    "    for line in lines:\n",
    "        if len(line) != 0:\n",
    "            words = line.split(\" \")\n",
    "        \n",
    "            for word in words:\n",
    "                if len(word) != 0:\n",
    "                    word = word.replace(\".\", \"\")\n",
    "                    word = word.replace(\",\", \"\")\n",
    "                    word = word.replace(\":\", \"\")\n",
    "                    word = word.replace(\";\", \"\")\n",
    "                    word = word.replace(\"?\", \"\")\n",
    "                    word = word.replace(\"!\", \"\")\n",
    "                    word = word.replace(\"(\", \"\")\n",
    "                    word = word.replace(\")\", \"\")\n",
    "\n",
    "                    if \"'\" in word and word not in syllables_dict:\n",
    "                        word = word.replace(\"'\", \"\")\n",
    "\n",
    "                    sh_poems_words_syllables[i].append((word, syllables_dict[word]))"
   ]
  },
  {
   "cell_type": "code",
   "execution_count": 11,
   "id": "36fdeef4",
   "metadata": {},
   "outputs": [],
   "source": [
    "sp_poems_words_syllables = [[] for i in sp_poems]\n",
    "\n",
    "for i, poem in enumerate(sp_poems):\n",
    "    lines = poem.split(\"\\n\")\n",
    "\n",
    "    for line in lines:\n",
    "        if len(line) != 0:\n",
    "            words = line.split(\" \")\n",
    "        \n",
    "            for word in words:\n",
    "                if len(word) != 0:\n",
    "                    word = word.replace(\".\", \"\")\n",
    "                    word = word.replace(\",\", \"\")\n",
    "                    word = word.replace(\":\", \"\")\n",
    "                    word = word.replace(\";\", \"\")\n",
    "                    word = word.replace(\"?\", \"\")\n",
    "                    word = word.replace(\"!\", \"\")\n",
    "                    word = word.replace(\"(\", \"\")\n",
    "                    word = word.replace(\")\", \"\")\n",
    "\n",
    "                    if \"'\" in word and word not in syllables_dict:\n",
    "                        word = word.replace(\"'\", \"\")\n",
    "\n",
    "                    if word not in syllables_dict:\n",
    "                        syllables_dict[word] = len(nltk.tokenize.SyllableTokenizer().tokenize(word))\n",
    "\n",
    "                    sp_poems_words_syllables[i].append((word, syllables_dict[word]))"
   ]
  },
  {
   "cell_type": "code",
   "execution_count": 12,
   "id": "c78488ae",
   "metadata": {},
   "outputs": [
    {
     "data": {
      "text/plain": [
       "[('from', 1),\n",
       " ('fairest', 2),\n",
       " ('creatures', 2),\n",
       " ('we', 1),\n",
       " ('desire', 2),\n",
       " ('increase', 2),\n",
       " ('that', 1),\n",
       " ('thereby', 2),\n",
       " (\"beauty's\", 2),\n",
       " ('rose', 1),\n",
       " ('might', 1),\n",
       " ('never', 2),\n",
       " ('die', 1),\n",
       " ('but', 1),\n",
       " ('as', 1),\n",
       " ('the', 1),\n",
       " ('riper', 2),\n",
       " ('should', 1),\n",
       " ('by', 1),\n",
       " ('time', 1),\n",
       " ('decease', 2),\n",
       " ('his', 1),\n",
       " ('tender', 2),\n",
       " ('heir', 1),\n",
       " ('might', 1),\n",
       " ('bear', 1),\n",
       " ('his', 1),\n",
       " ('memory', 3),\n",
       " ('but', 1),\n",
       " ('thou', 1),\n",
       " ('contracted', 3),\n",
       " ('to', 1),\n",
       " ('thine', 1),\n",
       " ('own', 1),\n",
       " ('bright', 1),\n",
       " ('eyes', 1),\n",
       " (\"feed'st\", 1),\n",
       " ('thy', 1),\n",
       " (\"light's\", 1),\n",
       " ('flame', 1),\n",
       " ('with', 1),\n",
       " ('self-substantial', 4),\n",
       " ('fuel', 1),\n",
       " ('making', 2),\n",
       " ('a', 1),\n",
       " ('famine', 2),\n",
       " ('where', 1),\n",
       " ('abundance', 3),\n",
       " ('lies', 1),\n",
       " ('thy', 1),\n",
       " ('self', 1),\n",
       " ('thy', 1),\n",
       " ('foe', 1),\n",
       " ('to', 1),\n",
       " ('thy', 1),\n",
       " ('sweet', 1),\n",
       " ('self', 1),\n",
       " ('too', 1),\n",
       " ('cruel', 2),\n",
       " ('thou', 1),\n",
       " ('that', 1),\n",
       " ('art', 1),\n",
       " ('now', 1),\n",
       " ('the', 1),\n",
       " (\"world's\", 1),\n",
       " ('fresh', 1),\n",
       " ('ornament', 3),\n",
       " ('and', 1),\n",
       " ('only', 2),\n",
       " ('herald', 2),\n",
       " ('to', 1),\n",
       " ('the', 1),\n",
       " ('gaudy', 2),\n",
       " ('spring', 1),\n",
       " ('within', 2),\n",
       " ('thine', 1),\n",
       " ('own', 1),\n",
       " ('bud', 1),\n",
       " ('buriest', 2),\n",
       " ('thy', 1),\n",
       " ('content', 2),\n",
       " ('and', 1),\n",
       " ('tender', 2),\n",
       " ('churl', 1),\n",
       " (\"mak'st\", 1),\n",
       " ('waste', 1),\n",
       " ('in', 1),\n",
       " ('niggarding', 3),\n",
       " ('pity', 2),\n",
       " ('the', 1),\n",
       " ('world', 1),\n",
       " ('or', 1),\n",
       " ('else', 1),\n",
       " ('this', 1),\n",
       " ('glutton', 2),\n",
       " ('be', 1),\n",
       " ('to', 1),\n",
       " ('eat', 1),\n",
       " ('the', 1),\n",
       " (\"world's\", 1),\n",
       " ('due', 1),\n",
       " ('by', 1),\n",
       " ('the', 1),\n",
       " ('grave', 1),\n",
       " ('and', 1),\n",
       " ('thee', 1)]"
      ]
     },
     "execution_count": 12,
     "metadata": {},
     "output_type": "execute_result"
    }
   ],
   "source": [
    "sh_poems_words_syllables[0]"
   ]
  },
  {
   "cell_type": "code",
   "execution_count": 13,
   "id": "03405177",
   "metadata": {},
   "outputs": [
    {
     "data": {
      "text/plain": [
       "[('happy', 2),\n",
       " ('ye', 1),\n",
       " ('leaves', 1),\n",
       " ('when', 1),\n",
       " ('as', 1),\n",
       " ('those', 1),\n",
       " ('lily', 2),\n",
       " ('hands', 1),\n",
       " ('which', 1),\n",
       " ('hold', 1),\n",
       " ('my', 1),\n",
       " ('life', 1),\n",
       " ('in', 1),\n",
       " ('their', 1),\n",
       " ('dead-doing', 3),\n",
       " ('might', 1),\n",
       " ('shall', 1),\n",
       " ('handle', 2),\n",
       " ('you', 1),\n",
       " ('and', 1),\n",
       " ('hold', 1),\n",
       " ('in', 1),\n",
       " (\"love's\", 1),\n",
       " ('soft', 1),\n",
       " ('bands', 1),\n",
       " ('like', 1),\n",
       " ('captives', 3),\n",
       " ('trembling', 2),\n",
       " ('at', 1),\n",
       " ('the', 1),\n",
       " ('victors', 2),\n",
       " ('sight', 1),\n",
       " ('and', 1),\n",
       " ('happy', 2),\n",
       " ('lines', 1),\n",
       " ('on', 1),\n",
       " ('which', 1),\n",
       " ('with', 1),\n",
       " ('starry', 2),\n",
       " ('light', 1),\n",
       " ('those', 1),\n",
       " ('lamping', 2),\n",
       " ('eyes', 1),\n",
       " ('will', 1),\n",
       " ('deign', 1),\n",
       " ('sometimes', 2),\n",
       " ('to', 1),\n",
       " ('look', 1),\n",
       " ('and', 1),\n",
       " ('read', 1),\n",
       " ('the', 1),\n",
       " ('sorrows', 2),\n",
       " ('of', 1),\n",
       " ('my', 1),\n",
       " ('dying', 2),\n",
       " ('sprite', 2),\n",
       " ('written', 2),\n",
       " ('with', 1),\n",
       " ('tears', 1),\n",
       " ('in', 1),\n",
       " (\"heart's\", 1),\n",
       " ('close-bleeding', 5),\n",
       " ('book', 1),\n",
       " ('and', 1),\n",
       " ('happy', 2),\n",
       " ('rhymes', 2),\n",
       " ('bathd', 1),\n",
       " ('in', 1),\n",
       " ('the', 1),\n",
       " ('sacred', 2),\n",
       " ('brook', 1),\n",
       " ('of', 1),\n",
       " ('helicon', 3),\n",
       " ('whence', 1),\n",
       " ('she', 1),\n",
       " ('derived', 3),\n",
       " ('is', 1),\n",
       " ('when', 1),\n",
       " ('ye', 1),\n",
       " ('behold', 2),\n",
       " ('that', 1),\n",
       " ('angels', 2),\n",
       " ('blessed', 2),\n",
       " ('look', 1),\n",
       " ('my', 1),\n",
       " (\"soul's\", 1),\n",
       " ('long-lacked', 4),\n",
       " ('food', 1),\n",
       " ('my', 1),\n",
       " (\"heaven's\", 1),\n",
       " ('bliss', 1),\n",
       " ('leaves', 1),\n",
       " ('lines', 1),\n",
       " ('and', 1),\n",
       " ('rhymes', 2),\n",
       " ('seek', 1),\n",
       " ('her', 1),\n",
       " ('to', 1),\n",
       " ('please', 1),\n",
       " ('alone', 2),\n",
       " ('whom', 1),\n",
       " ('if', 1),\n",
       " ('ye', 1),\n",
       " ('please', 1),\n",
       " ('i', 1),\n",
       " ('care', 1),\n",
       " ('for', 1),\n",
       " ('other', 2),\n",
       " ('none', 1)]"
      ]
     },
     "execution_count": 13,
     "metadata": {},
     "output_type": "execute_result"
    }
   ],
   "source": [
    "sp_poems_words_syllables[0]"
   ]
  },
  {
   "cell_type": "markdown",
   "id": "fb45b240",
   "metadata": {},
   "source": [
    "# Model Training"
   ]
  },
  {
   "cell_type": "code",
   "execution_count": 14,
   "id": "651e814b",
   "metadata": {},
   "outputs": [
    {
     "name": "stdout",
     "output_type": "stream",
     "text": [
      "----------------------------------------\n",
      "Data has 93673 characters, 38 unique\n",
      "----------------------------------------\n"
     ]
    }
   ],
   "source": [
    "sh_chars = sorted(list(set(sh_data)))\n",
    "data_size, vocab_size = len(sh_data), len(sh_chars)\n",
    "print(\"----------------------------------------\")\n",
    "print(\"Data has {} characters, {} unique\".format(data_size, vocab_size))\n",
    "print(\"----------------------------------------\")\n",
    "\n",
    "# char to index and index to char maps\n",
    "sh_char_to_ix = { ch:i for i,ch in enumerate(sh_chars) }\n",
    "sh_ix_to_char = { i:ch for i,ch in enumerate(sh_chars) }"
   ]
  },
  {
   "cell_type": "code",
   "execution_count": 15,
   "id": "3d375ce6",
   "metadata": {},
   "outputs": [],
   "source": [
    "sh_poems_ix = [0 for i in range(len(sh_poems))]\n",
    "\n",
    "for i, poem in enumerate(sh_poems):\n",
    "    poem = list(poem)\n",
    "    for j, ch in enumerate(poem):\n",
    "        poem[j] = sh_char_to_ix[ch]\n",
    "        \n",
    "    poem = torch.tensor(poem)\n",
    "    sh_poems_ix[i] = poem"
   ]
  },
  {
   "cell_type": "code",
   "execution_count": 16,
   "id": "c54194f0",
   "metadata": {},
   "outputs": [
    {
     "name": "stdout",
     "output_type": "stream",
     "text": [
      "----------------------------------------\n",
      "Data has 59538 characters, 38 unique\n",
      "----------------------------------------\n"
     ]
    }
   ],
   "source": [
    "sp_chars = sorted(list(set(sp_data)))\n",
    "data_size, vocab_size = len(sp_data), len(sp_chars)\n",
    "print(\"----------------------------------------\")\n",
    "print(\"Data has {} characters, {} unique\".format(data_size, vocab_size))\n",
    "print(\"----------------------------------------\")\n",
    "\n",
    "# char to index and index to char maps\n",
    "sp_char_to_ix = { ch:i for i,ch in enumerate(sp_chars) }\n",
    "sp_ix_to_char = { i:ch for i,ch in enumerate(sp_chars) }"
   ]
  },
  {
   "cell_type": "code",
   "execution_count": 17,
   "id": "4f68edfb",
   "metadata": {},
   "outputs": [],
   "source": [
    "sp_poems_ix = [0 for i in range(len(sp_poems))]\n",
    "\n",
    "for i, poem in enumerate(sp_poems):\n",
    "    poem = list(poem)\n",
    "    for j, ch in enumerate(poem):\n",
    "        poem[j] = sp_char_to_ix[ch]\n",
    "        \n",
    "    poem = torch.tensor(poem)\n",
    "    sp_poems_ix[i] = poem"
   ]
  },
  {
   "cell_type": "code",
   "execution_count": 18,
   "id": "8223eeea",
   "metadata": {},
   "outputs": [],
   "source": [
    "class RNN(nn.Module):\n",
    "    def __init__(self, input_size, embedding_size, output_size, hidden_size):\n",
    "        super(RNN, self).__init__()\n",
    "        self.embedding = nn.Embedding(input_size, embedding_size)\n",
    "        self.rnn = nn.LSTM(input_size=input_size, hidden_size=hidden_size)\n",
    "        self.decoder = nn.Linear(hidden_size, output_size)\n",
    "#         self.softmax = nn.Softmax()\n",
    "    \n",
    "    def forward(self, input_seq, hidden_state):\n",
    "        embedding = self.embedding(input_seq)\n",
    "        output, hidden_state = self.rnn(embedding, hidden_state)\n",
    "        output = self.decoder(output)\n",
    "#         output = self.softmax(output)\n",
    "        return output, (hidden_state[0].detach(), hidden_state[1].detach())"
   ]
  },
  {
   "cell_type": "code",
   "execution_count": 19,
   "id": "fa42206c",
   "metadata": {},
   "outputs": [],
   "source": [
    "model = RNN(input_size = vocab_size, embedding_size = vocab_size, output_size = vocab_size, hidden_size = 150)\n",
    "loss_fn = nn.CrossEntropyLoss()\n",
    "optimizer = torch.optim.Adam(model.parameters(), lr = 1)"
   ]
  },
  {
   "cell_type": "code",
   "execution_count": 20,
   "id": "635f13f4",
   "metadata": {},
   "outputs": [
    {
     "name": "stdout",
     "output_type": "stream",
     "text": [
      "Epoch: 1 \t Loss: 70.02042529\n",
      "Epoch: 2 \t Loss: 69.25438886\n",
      "Epoch: 3 \t Loss: 68.93366781\n",
      "Epoch: 4 \t Loss: 66.64717762\n",
      "Epoch: 5 \t Loss: 67.82140791\n",
      "Epoch: 6 \t Loss: 68.74099454\n",
      "Epoch: 7 \t Loss: 69.38351749\n",
      "Epoch: 8 \t Loss: 68.05812615\n",
      "Epoch: 9 \t Loss: 67.64049609\n",
      "Epoch: 10 \t Loss: 67.83499663\n"
     ]
    }
   ],
   "source": [
    "for i_epoch in range(1, 11):\n",
    "    n = 0\n",
    "    running_loss = 0\n",
    "    \n",
    "    for poem in sh_poems_ix:\n",
    "        for i in range(40, len(poem) - 1, 10):\n",
    "            hidden_state = None\n",
    "            input_seq = poem[i - 40 : i]\n",
    "            target_seq = poem[i - 40 + 1 : i + 1]\n",
    "            \n",
    "            output, _ = model(input_seq, hidden_state)\n",
    "            \n",
    "            loss = loss_fn(torch.squeeze(output), torch.squeeze(target_seq))\n",
    "            running_loss += loss.item()\n",
    "            n += 1\n",
    "            \n",
    "            optimizer.zero_grad()\n",
    "            loss.backward()\n",
    "            optimizer.step()\n",
    "            \n",
    "    print(\"Epoch: {0} \\t Loss: {1:.8f}\".format(i_epoch, running_loss/n))"
   ]
  },
  {
   "cell_type": "code",
   "execution_count": 21,
   "id": "d0b7244c",
   "metadata": {},
   "outputs": [],
   "source": [
    "model = RNN(input_size = vocab_size, embedding_size = vocab_size, output_size = vocab_size, hidden_size = 150)\n",
    "loss_fn = nn.CrossEntropyLoss()\n",
    "optimizer = torch.optim.Adam(model.parameters(), lr = 0.1)"
   ]
  },
  {
   "cell_type": "code",
   "execution_count": 22,
   "id": "ed92765a",
   "metadata": {},
   "outputs": [
    {
     "name": "stdout",
     "output_type": "stream",
     "text": [
      "Epoch: 1 \t Loss: 4.27880101\n",
      "Epoch: 2 \t Loss: 4.26535983\n",
      "Epoch: 3 \t Loss: 4.47952566\n",
      "Epoch: 4 \t Loss: 4.42351814\n",
      "Epoch: 5 \t Loss: 4.30575475\n",
      "Epoch: 6 \t Loss: 4.12550972\n",
      "Epoch: 7 \t Loss: 4.26157586\n",
      "Epoch: 8 \t Loss: 4.23873205\n",
      "Epoch: 9 \t Loss: 4.22602354\n",
      "Epoch: 10 \t Loss: 4.21532944\n"
     ]
    }
   ],
   "source": [
    "for i_epoch in range(1, 11):\n",
    "    n = 0\n",
    "    running_loss = 0\n",
    "    \n",
    "    for poem in sh_poems_ix:\n",
    "        for i in range(40, len(poem) - 1, 10):\n",
    "            hidden_state = None\n",
    "            input_seq = poem[i - 40 : i]\n",
    "            target_seq = poem[i - 40 + 1 : i + 1]\n",
    "            \n",
    "            output, _ = model(input_seq, hidden_state)\n",
    "            \n",
    "            loss = loss_fn(torch.squeeze(output), torch.squeeze(target_seq))\n",
    "            running_loss += loss.item()\n",
    "            n += 1\n",
    "            \n",
    "            optimizer.zero_grad()\n",
    "            loss.backward()\n",
    "            optimizer.step()\n",
    "            \n",
    "    print(\"Epoch: {0} \\t Loss: {1:.8f}\".format(i_epoch, running_loss/n))"
   ]
  },
  {
   "cell_type": "code",
   "execution_count": 23,
   "id": "2de91a40",
   "metadata": {},
   "outputs": [],
   "source": [
    "model = RNN(input_size = vocab_size, embedding_size = vocab_size, output_size = vocab_size, hidden_size = 150)\n",
    "loss_fn = nn.CrossEntropyLoss()\n",
    "optimizer = torch.optim.Adam(model.parameters(), lr = 0.01)"
   ]
  },
  {
   "cell_type": "code",
   "execution_count": 24,
   "id": "26a06699",
   "metadata": {},
   "outputs": [
    {
     "name": "stdout",
     "output_type": "stream",
     "text": [
      "Epoch: 1 \t Loss: 2.07098191\n",
      "Epoch: 2 \t Loss: 2.02504313\n",
      "Epoch: 3 \t Loss: 2.03218175\n",
      "Epoch: 4 \t Loss: 2.05471860\n",
      "Epoch: 5 \t Loss: 2.06071207\n",
      "Epoch: 6 \t Loss: 2.06369827\n",
      "Epoch: 7 \t Loss: 2.06390966\n",
      "Epoch: 8 \t Loss: 2.06392601\n",
      "Epoch: 9 \t Loss: 2.08410020\n",
      "Epoch: 10 \t Loss: 2.09885689\n"
     ]
    }
   ],
   "source": [
    "for i_epoch in range(1, 11):\n",
    "    n = 0\n",
    "    running_loss = 0\n",
    "    \n",
    "    for poem in sh_poems_ix:\n",
    "        for i in range(40, len(poem) - 1, 10):\n",
    "            hidden_state = None\n",
    "            input_seq = poem[i - 40 : i]\n",
    "            target_seq = poem[i - 40 + 1 : i + 1]\n",
    "            \n",
    "            output, _ = model(input_seq, hidden_state)\n",
    "            \n",
    "            loss = loss_fn(torch.squeeze(output), torch.squeeze(target_seq))\n",
    "            running_loss += loss.item()\n",
    "            n += 1\n",
    "            \n",
    "            optimizer.zero_grad()\n",
    "            loss.backward()\n",
    "            optimizer.step()\n",
    "            \n",
    "    print(\"Epoch: {0} \\t Loss: {1:.8f}\".format(i_epoch, running_loss/n))"
   ]
  },
  {
   "cell_type": "code",
   "execution_count": 25,
   "id": "71392a2b",
   "metadata": {},
   "outputs": [],
   "source": [
    "model = RNN(input_size = vocab_size, embedding_size = vocab_size, output_size = vocab_size, hidden_size = 150)\n",
    "loss_fn = nn.CrossEntropyLoss()\n",
    "optimizer = torch.optim.Adam(model.parameters(), lr = 0.001)"
   ]
  },
  {
   "cell_type": "code",
   "execution_count": 26,
   "id": "6f7c692b",
   "metadata": {},
   "outputs": [
    {
     "name": "stdout",
     "output_type": "stream",
     "text": [
      "Epoch: 1 \t Loss: 1.87099182\n",
      "Epoch: 2 \t Loss: 1.63022152\n",
      "Epoch: 3 \t Loss: 1.55109995\n",
      "Epoch: 4 \t Loss: 1.49892978\n",
      "Epoch: 5 \t Loss: 1.46555991\n",
      "Epoch: 6 \t Loss: 1.43809730\n",
      "Epoch: 7 \t Loss: 1.41261293\n",
      "Epoch: 8 \t Loss: 1.39487872\n",
      "Epoch: 9 \t Loss: 1.37656161\n",
      "Epoch: 10 \t Loss: 1.36250807\n"
     ]
    }
   ],
   "source": [
    "for i_epoch in range(1, 11):\n",
    "    n = 0\n",
    "    running_loss = 0\n",
    "    \n",
    "    for poem in sh_poems_ix:\n",
    "        for i in range(40, len(poem) - 1, 10):\n",
    "            hidden_state = None\n",
    "            input_seq = poem[i - 40 : i]\n",
    "            target_seq = poem[i - 40 + 1 : i + 1]\n",
    "            \n",
    "            output, _ = model(input_seq, hidden_state)\n",
    "            \n",
    "            loss = loss_fn(torch.squeeze(output), torch.squeeze(target_seq))\n",
    "            running_loss += loss.item()\n",
    "            n += 1\n",
    "            \n",
    "            optimizer.zero_grad()\n",
    "            loss.backward()\n",
    "            optimizer.step()\n",
    "            \n",
    "    print(\"Epoch: {0} \\t Loss: {1:.8f}\".format(i_epoch, running_loss/n))"
   ]
  },
  {
   "cell_type": "code",
   "execution_count": 27,
   "id": "7e85e537",
   "metadata": {},
   "outputs": [],
   "source": [
    "model = RNN(input_size = vocab_size, embedding_size = vocab_size, output_size = vocab_size, hidden_size = 150)\n",
    "loss_fn = nn.CrossEntropyLoss()\n",
    "optimizer = torch.optim.Adam(model.parameters(), lr = 0.0001)"
   ]
  },
  {
   "cell_type": "code",
   "execution_count": 28,
   "id": "536e5c4e",
   "metadata": {},
   "outputs": [
    {
     "name": "stdout",
     "output_type": "stream",
     "text": [
      "Epoch: 1 \t Loss: 2.32877847\n",
      "Epoch: 2 \t Loss: 1.98595418\n",
      "Epoch: 3 \t Loss: 1.86457810\n",
      "Epoch: 4 \t Loss: 1.78901454\n",
      "Epoch: 5 \t Loss: 1.73350475\n",
      "Epoch: 6 \t Loss: 1.68585677\n",
      "Epoch: 7 \t Loss: 1.64700036\n",
      "Epoch: 8 \t Loss: 1.61463651\n",
      "Epoch: 9 \t Loss: 1.58662214\n",
      "Epoch: 10 \t Loss: 1.56177236\n"
     ]
    }
   ],
   "source": [
    "for i_epoch in range(1, 11):\n",
    "    n = 0\n",
    "    running_loss = 0\n",
    "    \n",
    "    for poem in sh_poems_ix:\n",
    "        for i in range(40, len(poem) - 1, 10):\n",
    "            hidden_state = None\n",
    "            input_seq = poem[i - 40 : i]\n",
    "            target_seq = poem[i - 40 + 1 : i + 1]\n",
    "            \n",
    "            output, _ = model(input_seq, hidden_state)\n",
    "            \n",
    "            loss = loss_fn(torch.squeeze(output), torch.squeeze(target_seq))\n",
    "            running_loss += loss.item()\n",
    "            n += 1\n",
    "            \n",
    "            optimizer.zero_grad()\n",
    "            loss.backward()\n",
    "            optimizer.step()\n",
    "            \n",
    "    print(\"Epoch: {0} \\t Loss: {1:.8f}\".format(i_epoch, running_loss/n))"
   ]
  },
  {
   "cell_type": "code",
   "execution_count": 29,
   "id": "6ef535f6",
   "metadata": {},
   "outputs": [],
   "source": [
    "model = RNN(input_size = vocab_size, embedding_size = vocab_size, output_size = vocab_size, hidden_size = 100)\n",
    "loss_fn = nn.CrossEntropyLoss()\n",
    "optimizer = torch.optim.Adam(model.parameters(), lr = 0.001)"
   ]
  },
  {
   "cell_type": "code",
   "execution_count": 30,
   "id": "66bb93b5",
   "metadata": {},
   "outputs": [
    {
     "name": "stdout",
     "output_type": "stream",
     "text": [
      "Epoch: 1 \t Loss: 1.93437265\n",
      "Epoch: 2 \t Loss: 1.69388813\n",
      "Epoch: 3 \t Loss: 1.61332938\n",
      "Epoch: 4 \t Loss: 1.56798859\n",
      "Epoch: 5 \t Loss: 1.53042937\n",
      "Epoch: 6 \t Loss: 1.50367993\n",
      "Epoch: 7 \t Loss: 1.48300990\n",
      "Epoch: 8 \t Loss: 1.46499563\n",
      "Epoch: 9 \t Loss: 1.45086706\n",
      "Epoch: 10 \t Loss: 1.43890557\n"
     ]
    }
   ],
   "source": [
    "for i_epoch in range(1, 11):\n",
    "    n = 0\n",
    "    running_loss = 0\n",
    "    \n",
    "    for poem in sh_poems_ix:\n",
    "        for i in range(40, len(poem) - 1, 10):\n",
    "            hidden_state = None\n",
    "            input_seq = poem[i - 40 : i]\n",
    "            target_seq = poem[i - 40 + 1 : i + 1]\n",
    "            \n",
    "            output, _ = model(input_seq, hidden_state)\n",
    "            \n",
    "            loss = loss_fn(torch.squeeze(output), torch.squeeze(target_seq))\n",
    "            running_loss += loss.item()\n",
    "            n += 1\n",
    "            \n",
    "            optimizer.zero_grad()\n",
    "            loss.backward()\n",
    "            optimizer.step()\n",
    "            \n",
    "    print(\"Epoch: {0} \\t Loss: {1:.8f}\".format(i_epoch, running_loss/n))"
   ]
  },
  {
   "cell_type": "code",
   "execution_count": 31,
   "id": "d58f7288",
   "metadata": {},
   "outputs": [],
   "source": [
    "model = RNN(input_size = vocab_size, embedding_size = vocab_size, output_size = vocab_size, hidden_size = 200)\n",
    "loss_fn = nn.CrossEntropyLoss()\n",
    "optimizer = torch.optim.Adam(model.parameters(), lr = 0.001)"
   ]
  },
  {
   "cell_type": "code",
   "execution_count": 33,
   "id": "0384e698",
   "metadata": {},
   "outputs": [
    {
     "name": "stdout",
     "output_type": "stream",
     "text": [
      "Epoch: 1 \t Loss: 1.62063466\n",
      "Epoch: 2 \t Loss: 1.52541300\n",
      "Epoch: 3 \t Loss: 1.46460711\n",
      "Epoch: 4 \t Loss: 1.41875935\n",
      "Epoch: 5 \t Loss: 1.38237491\n",
      "Epoch: 6 \t Loss: 1.35665760\n",
      "Epoch: 7 \t Loss: 1.33074247\n",
      "Epoch: 8 \t Loss: 1.30891792\n",
      "Epoch: 9 \t Loss: 1.28867280\n",
      "Epoch: 10 \t Loss: 1.27411264\n"
     ]
    }
   ],
   "source": [
    "for i_epoch in range(1, 11):\n",
    "    n = 0\n",
    "    running_loss = 0\n",
    "    \n",
    "    for poem in sh_poems_ix:\n",
    "        for i in range(40, len(poem) - 1, 10):\n",
    "            hidden_state = None\n",
    "            input_seq = poem[i - 40 : i]\n",
    "            target_seq = poem[i - 40 + 1 : i + 1]\n",
    "            \n",
    "            output, _ = model(input_seq, hidden_state)\n",
    "            \n",
    "            loss = loss_fn(torch.squeeze(output), torch.squeeze(target_seq))\n",
    "            running_loss += loss.item()\n",
    "            n += 1\n",
    "            \n",
    "            optimizer.zero_grad()\n",
    "            loss.backward()\n",
    "            optimizer.step()\n",
    "            \n",
    "    print(\"Epoch: {0} \\t Loss: {1:.8f}\".format(i_epoch, running_loss/n))"
   ]
  },
  {
   "cell_type": "code",
   "execution_count": 34,
   "id": "168025ae",
   "metadata": {},
   "outputs": [],
   "source": [
    "model = RNN(input_size = vocab_size, embedding_size = vocab_size, output_size = vocab_size, hidden_size = 200)\n",
    "loss_fn = nn.CrossEntropyLoss()\n",
    "optimizer = torch.optim.Adam(model.parameters(), lr = 0.001)"
   ]
  },
  {
   "cell_type": "code",
   "execution_count": 35,
   "id": "283ed6fc",
   "metadata": {},
   "outputs": [
    {
     "name": "stdout",
     "output_type": "stream",
     "text": [
      "Epoch: 1 \t Loss: 1.84504402\n",
      "Epoch: 2 \t Loss: 1.60880724\n",
      "Epoch: 3 \t Loss: 1.51903234\n",
      "Epoch: 4 \t Loss: 1.46436188\n",
      "Epoch: 5 \t Loss: 1.42072945\n",
      "Epoch: 6 \t Loss: 1.38860780\n",
      "Epoch: 7 \t Loss: 1.36022966\n",
      "Epoch: 8 \t Loss: 1.33578576\n",
      "Epoch: 9 \t Loss: 1.31564089\n",
      "Epoch: 10 \t Loss: 1.29829126\n",
      "Epoch: 11 \t Loss: 1.28118184\n",
      "Epoch: 12 \t Loss: 1.27085117\n",
      "Epoch: 13 \t Loss: 1.25243666\n",
      "Epoch: 14 \t Loss: 1.24438171\n",
      "Epoch: 15 \t Loss: 1.22989492\n",
      "Epoch: 16 \t Loss: 1.22064034\n",
      "Epoch: 17 \t Loss: 1.21526489\n",
      "Epoch: 18 \t Loss: 1.20635388\n",
      "Epoch: 19 \t Loss: 1.19757575\n",
      "Epoch: 20 \t Loss: 1.19703239\n",
      "Epoch: 21 \t Loss: 1.19010373\n",
      "Epoch: 22 \t Loss: 1.18530670\n",
      "Epoch: 23 \t Loss: 1.18238086\n",
      "Epoch: 24 \t Loss: 1.18105458\n",
      "Epoch: 25 \t Loss: 1.17847618\n",
      "Epoch: 26 \t Loss: 1.17575817\n",
      "Epoch: 27 \t Loss: 1.17412900\n",
      "Epoch: 28 \t Loss: 1.17315379\n",
      "Epoch: 29 \t Loss: 1.17098351\n",
      "Epoch: 30 \t Loss: 1.16747401\n",
      "Epoch: 31 \t Loss: 1.16835813\n",
      "Epoch: 32 \t Loss: 1.16820039\n",
      "Epoch: 33 \t Loss: 1.17117093\n",
      "Epoch: 34 \t Loss: 1.16604038\n",
      "Epoch: 35 \t Loss: 1.16119040\n",
      "Epoch: 36 \t Loss: 1.16215252\n",
      "Epoch: 37 \t Loss: 1.15926705\n",
      "Epoch: 38 \t Loss: 1.16475954\n",
      "Epoch: 39 \t Loss: 1.16347291\n",
      "Epoch: 40 \t Loss: 1.16613277\n",
      "Epoch: 41 \t Loss: 1.16626823\n",
      "Epoch: 42 \t Loss: 1.16822648\n",
      "Epoch: 43 \t Loss: 1.16688690\n",
      "Epoch: 44 \t Loss: 1.16637854\n",
      "Epoch: 45 \t Loss: 1.16683147\n",
      "Epoch: 46 \t Loss: 1.16900848\n",
      "Epoch: 47 \t Loss: 1.16546114\n",
      "Epoch: 48 \t Loss: 1.16354254\n",
      "Epoch: 49 \t Loss: 1.17228857\n",
      "Epoch: 50 \t Loss: 1.16967860\n"
     ]
    }
   ],
   "source": [
    "for i_epoch in range(1, 51):\n",
    "    n = 0\n",
    "    running_loss = 0\n",
    "    \n",
    "    for poem in sh_poems_ix:\n",
    "        for i in range(40, len(poem) - 1, 10):\n",
    "            hidden_state = None\n",
    "            input_seq = poem[i - 40 : i]\n",
    "            target_seq = poem[i - 40 + 1 : i + 1]\n",
    "            \n",
    "            output, _ = model(input_seq, hidden_state)\n",
    "            \n",
    "            loss = loss_fn(torch.squeeze(output), torch.squeeze(target_seq))\n",
    "            running_loss += loss.item()\n",
    "            n += 1\n",
    "            \n",
    "            optimizer.zero_grad()\n",
    "            loss.backward()\n",
    "            optimizer.step()\n",
    "            \n",
    "    print(\"Epoch: {0} \\t Loss: {1:.8f}\".format(i_epoch, running_loss/n))"
   ]
  },
  {
   "cell_type": "code",
   "execution_count": 37,
   "id": "6f3c2303",
   "metadata": {},
   "outputs": [
    {
     "name": "stdout",
     "output_type": "stream",
     "text": [
      "thou be character sun thy sweet buds have sweet brow,\n",
      "for thee i am attent,\n",
      "and there is but thou betrayed the basest thee i am at a face,\n",
      "for thee is brow of bath the basest of this bark,\n",
      "the basest doth lie honour face shall be forgot,\n",
      "which have sweet flattery in the breast thee are not thy breast,\n",
      "no blunt past thee as fair thee as fair, but then so my brain and for my self away,\n",
      "the basest doth lie to be can be then my heart that i am at fair thee from my fair:\n",
      "a thinking thee are not the basest of this bare thee as fairest thee and there with thy sweet flate,\n",
      "whilst thou that i am at frown the better than thine eyes be then my heart thou be forgot,\n",
      "which i love thee my self i do count bare,\n",
      "which have sweet love thee my self away, and there is brow?\n",
      "why lov'st the lays of thee that i am at frown the basest be the lily i note,\n",
      "but from thee are brief thee a face,\n",
      "when i am at from thee are not be fairs of true mine eyes?\n",
      "but then be comment have i seen,\n",
      "for that i am at fair chide"
     ]
    }
   ],
   "source": [
    "prompt = \"shall i compare thee to a summer's day?\\n\"\n",
    "\n",
    "prompt = list(prompt)\n",
    "for i, ch in enumerate(prompt):\n",
    "    prompt[i] = sh_char_to_ix[ch]\n",
    "\n",
    "with torch.no_grad():\n",
    "#     prompt = torch.tensor(prompt).to(device)\n",
    "    prompt = torch.tensor(prompt)\n",
    "    hidden_init = None\n",
    "    output, hidden = model(prompt, hidden_init)\n",
    "\n",
    "    for _ in range(1_000):\n",
    "        output = output[-1]\n",
    "        prediction = torch.argmax(nn.functional.softmax(output / 0.25, dim = 0))\n",
    "        print(sh_ix_to_char[int(prediction.detach().numpy())],end=\"\")\n",
    "        output, hidden = model(torch.tensor([prediction]), hidden)"
   ]
  },
  {
   "cell_type": "markdown",
   "id": "fd633cd0",
   "metadata": {},
   "source": [
    "# Improving recurrent models"
   ]
  },
  {
   "cell_type": "code",
   "execution_count": 38,
   "id": "4cc1d0f1",
   "metadata": {},
   "outputs": [],
   "source": [
    "sh_words = set()\n",
    "\n",
    "for poem in sh_poems:\n",
    "    for line in poem.split(\"\\n\"):\n",
    "        for word in line.split(\" \"):\n",
    "            sh_words.add(word)\n",
    "        \n",
    "sh_words = sorted(list(sh_words))\n",
    "\n",
    "sh_word_to_ix = {w:i for i, w in enumerate(sh_words)}\n",
    "sh_ix_to_word = {i:w for i, w in enumerate(sh_words)}"
   ]
  },
  {
   "cell_type": "code",
   "execution_count": 39,
   "id": "79ede292",
   "metadata": {},
   "outputs": [],
   "source": [
    "sh_poems_ix_words = [0 for i in range(len(sh_poems))]\n",
    "\n",
    "for i, poem in enumerate(sh_poems):\n",
    "    result = []\n",
    "    for line in poem.split(\"\\n\"):\n",
    "        for word in line.split(\" \"):\n",
    "            result.append(sh_word_to_ix[word])\n",
    "    \n",
    "    sh_poems_ix_words[i] = torch.tensor(result)"
   ]
  },
  {
   "cell_type": "code",
   "execution_count": 40,
   "id": "9cc45e7d",
   "metadata": {},
   "outputs": [],
   "source": [
    "model_words = RNN(input_size = len(sh_words), embedding_size = len(sh_words), output_size = len(sh_words), hidden_size = 200)\n",
    "loss_fn_words = nn.CrossEntropyLoss()\n",
    "optimizer_words = torch.optim.Adam(model_words.parameters(), lr = 0.001)"
   ]
  },
  {
   "cell_type": "code",
   "execution_count": 41,
   "id": "84cd4e1e",
   "metadata": {},
   "outputs": [
    {
     "name": "stdout",
     "output_type": "stream",
     "text": [
      "Epoch: 1 \t Loss: 7.19251193\n",
      "Epoch: 2 \t Loss: 5.28098241\n",
      "Epoch: 3 \t Loss: 3.98357080\n",
      "Epoch: 4 \t Loss: 3.00085790\n",
      "Epoch: 5 \t Loss: 2.31318516\n",
      "Epoch: 6 \t Loss: 1.85934984\n",
      "Epoch: 7 \t Loss: 1.55439455\n",
      "Epoch: 8 \t Loss: 1.31366310\n",
      "Epoch: 9 \t Loss: 1.10491412\n",
      "Epoch: 10 \t Loss: 0.94607592\n"
     ]
    }
   ],
   "source": [
    "for i_epoch in range(1, 11):\n",
    "    n = 0\n",
    "    running_loss = 0\n",
    "    \n",
    "    for poem in sh_poems_ix_words:\n",
    "        for i in range(10, len(poem) - 1, 10):\n",
    "            hidden_state = None\n",
    "            input_seq = poem[i - 10 : i]\n",
    "            target_seq = poem[i - 10 + 1 : i + 1]\n",
    "            \n",
    "            output, _ = model_words(input_seq, hidden_state)\n",
    "            \n",
    "            loss = loss_fn_words(torch.squeeze(output), torch.squeeze(target_seq))\n",
    "            running_loss += loss.item()\n",
    "            n += 1\n",
    "            \n",
    "            optimizer_words.zero_grad()\n",
    "            loss.backward()\n",
    "            optimizer_words.step()\n",
    "            \n",
    "    print(\"Epoch: {0} \\t Loss: {1:.8f}\".format(i_epoch, running_loss/n))"
   ]
  },
  {
   "cell_type": "code",
   "execution_count": 43,
   "id": "f7e6dcdd",
   "metadata": {},
   "outputs": [
    {
     "name": "stdout",
     "output_type": "stream",
     "text": [
      "[3197, 1861, 691, 3654, 3767, 49, 3540, 846, 0]\n",
      "all the breathers of this world are dead, you still with my heart to groan for that which it contains, and that is i my self with present moan? what merit in the breath that thou mayst take, all the world to say this will one will pluck thee back, she keeps thee that to my breast, i sick withal the help of bath desired, and thither hied a sad distempered guest. but found no cure, the bath for my help lies, where is my love to-day, to-morrow kind, still constant in them more hath in my love is lost. for i have sworn deep oaths of thy love, and i desperate now approve, desire is death, which physic did except. past cure i must the very part was i should despair i should grow mad, and in my madness might speak ill of thee, my heart my true sight, and swear that brightness doth not to thy love, thy love, happy to die! but what's so blessed-fair that fears no blot? thou mayst take, all this away, and my love is as a fever longing still, for that which i bring forth, and to thee i so belong, that for thy right, my self to make me give i do not so, i love thee my best doth worship thy defect, commanded by the motion of thine eyes? but for that i lost, thou hast both him and for my sake even so strongly in my purpose bred, that all the eyes (fore duteous) now converted are from his low tract and look another way: so thou, thy self out-going in my love to thee thou know'st i am forsworn, but thou art as tyrannous, so as thou art, as those whose worth's unknown, although his height be taken. love's not to the marriage of true minds admit impediments, love is too young to know what conscience is, yet who in my verse so barren of new pride? so far from variation or quick change? why with the time exchanged, so is my self to pardon of self-doing crime. i am to wait, though i of heaven to me thy will, my self i'll fight, and prove thee virtuous, though i mistake my view, the sun it self and the counterfeit, is poorly imitated after in my love thee as thou lov'st those, whom thine eyes woo as mine importune thee, root pity in thy heart in my love is as a fever longing still, for that which i bring forth, and to thee i so belong, that for thy right, my self to make me give i do not so, i love thee my best doth worship thy defect, commanded by the motion of thine eyes? but for that i lost, thou hast both him and for my sake even so strongly in my purpose bred, that all the eyes (fore duteous) now converted are from his low tract and look another way: so thou, thy self out-going in my love to thee thou know'st i am forsworn, but thou art as tyrannous, so as thou art, as those whose worth's unknown, although his height be taken. love's not to the marriage of true minds admit impediments, love is too young to know what conscience is, yet who in my verse so barren of new pride? so far from variation or quick change? why with the time exchanged, so is my self to pardon of self-doing crime. i am to wait, though i of heaven to me thy will, my self i'll fight, and prove thee virtuous, though i mistake my view, the sun it self and the counterfeit, is poorly imitated after in my love thee as thou lov'st those, whom thine eyes woo as mine importune thee, root pity in thy heart in my love is as a fever longing still, for that which i bring forth, and to thee i so belong, that for thy right, my self to make me give i do not so, i love thee my best doth worship thy defect, commanded by the motion of thine eyes? but for that i lost, thou hast both him and for my sake even so strongly in my purpose bred, that all the eyes (fore duteous) now converted are from his low tract and look another way: so thou, thy self out-going in my love to thee thou know'st i am forsworn, but thou art as tyrannous, so as thou art, as those whose worth's unknown, although his height be taken. love's not to the marriage of true minds admit impediments, love is too young to know what conscience is, yet who in my verse so barren of new pride? so far from variation or quick change? why with the time exchanged, so is my self to pardon of self-doing crime. i am to wait, though i of heaven to me thy will, my self i'll fight, and prove thee virtuous, though i mistake my view, the sun it self and the counterfeit, is poorly imitated after in my love thee as thou lov'st those, whom thine eyes woo as mine importune thee, root pity in thy heart in my love is as a fever longing still, for that which i bring forth, and to thee i so belong, that for thy right, my self to make me give i do not so, i love thee my best doth worship thy defect, commanded by the motion of thine eyes? but for that i lost, thou hast both him and for my sake even so strongly in my purpose bred, that all the eyes (fore duteous) now converted are from his low tract and look another way: so thou, thy self out-going in my love to thee thou know'st i am forsworn, but thou art as tyrannous, so as thou art, as those whose worth's unknown, although his height be taken. love's not to the marriage of true minds admit impediments, love is too "
     ]
    }
   ],
   "source": [
    "prompt = \"shall i compare thee to a summer's day?\\n\"\n",
    "result = []\n",
    "\n",
    "for line in prompt.split(\"\\n\"):\n",
    "    for word in line.split(\" \"):\n",
    "        result.append(sh_word_to_ix[word])\n",
    "\n",
    "print(result)\n",
    "# prompt = list(prompt)\n",
    "# for i, ch in enumerate(prompt):\n",
    "#     prompt[i] = sh_char_to_ix[ch]\n",
    "\n",
    "with torch.no_grad():\n",
    "#     prompt = torch.tensor(prompt).to(device)\n",
    "    prompt = torch.tensor(result)\n",
    "    hidden_init = None\n",
    "    output, hidden = model_words(prompt, hidden_init)\n",
    "\n",
    "    result_str = \"\"\n",
    "    \n",
    "    for _ in range(1000):\n",
    "        output = output[-1]\n",
    "        prediction = torch.argmax(nn.functional.softmax(output / 0.25, dim = 0)) \n",
    "        result_str += sh_ix_to_word[int(prediction.detach().numpy())] + \" \"\n",
    "        print(sh_ix_to_word[int(prediction.detach().numpy())],end=\" \")\n",
    "        output, hidden = model_words(torch.tensor([prediction]), hidden)"
   ]
  },
  {
   "cell_type": "code",
   "execution_count": 44,
   "id": "1791a1cd",
   "metadata": {},
   "outputs": [
    {
     "name": "stdout",
     "output_type": "stream",
     "text": [
      "Perplexity of Improved Word-Based Model: 68.7167142987722\n",
      "Perplexity of Old Character-Based Model: 0.006640230781835659\n"
     ]
    }
   ],
   "source": [
    "# Calculating Perplexity \n",
    "# (Code Inspired by Response Given by User 'mujjiga' on https://stackoverflow.com/questions/54941966/how-can-i-calculate-perplexity-using-nltk)\n",
    "\n",
    "\n",
    "# Improved Word-Based Model\n",
    "\n",
    "sh_words_freq = {}\n",
    "\n",
    "for poem in sh_poems:\n",
    "    for line in poem.split(\"\\n\"):\n",
    "        for word in line.split(\" \"):\n",
    "            if word in sh_words_freq:\n",
    "                sh_words_freq[word] += 1\n",
    "            else:\n",
    "                sh_words_freq[word] = 1\n",
    "\n",
    "perplexity_words = 0\n",
    "result = \"in thy heart that thou mayst take, all this away,\".split(\" \")\n",
    "\n",
    "for word in result:\n",
    "    perplexity_words += np.log2(sh_words_freq[word] / len(sh_words))\n",
    "    \n",
    "perplexity_words /= len(result)\n",
    "perplexity_words = np.power(2, -perplexity_words)\n",
    "print(\"Perplexity of Improved Word-Based Model: \" + str(perplexity_words))\n",
    "\n",
    "\n",
    "# Old Character-Based Model\n",
    "\n",
    "sh_chars_freq = {}\n",
    "\n",
    "for poem in sh_poems:\n",
    "    for char in list(poem):\n",
    "        if char in sh_chars_freq:\n",
    "            sh_chars_freq[char] += 1\n",
    "        else:\n",
    "            sh_chars_freq[char] = 1\n",
    "        \n",
    "perplexity_chars = 0\n",
    "result = \"when i be thy self away, and they see th\"\n",
    "\n",
    "for char in list(result):\n",
    "    perplexity_chars += np.log2(sh_chars_freq[char] / len(sh_chars))\n",
    "    \n",
    "perplexity_chars /= len(list(result))\n",
    "perplexity_chars = np.power(2, -perplexity_chars)\n",
    "print(\"Perplexity of Old Character-Based Model: \" + str(perplexity_chars))"
   ]
  }
 ],
 "metadata": {
  "kernelspec": {
   "display_name": "Python 3 (ipykernel)",
   "language": "python",
   "name": "python3"
  },
  "language_info": {
   "codemirror_mode": {
    "name": "ipython",
    "version": 3
   },
   "file_extension": ".py",
   "mimetype": "text/x-python",
   "name": "python",
   "nbconvert_exporter": "python",
   "pygments_lexer": "ipython3",
   "version": "3.10.9"
  }
 },
 "nbformat": 4,
 "nbformat_minor": 5
}
